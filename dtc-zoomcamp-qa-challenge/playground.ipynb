{
 "cells": [
  {
   "cell_type": "code",
   "execution_count": 14,
   "id": "initial_id",
   "metadata": {
    "ExecuteTime": {
     "end_time": "2023-12-31T03:06:28.137183Z",
     "start_time": "2023-12-31T03:06:27.434592Z"
    },
    "collapsed": true
   },
   "outputs": [],
   "source": [
    "import pandas as pd\n",
    "import numpy as np"
   ]
  },
  {
   "cell_type": "code",
   "execution_count": 3,
   "id": "64446c57e4d4804a",
   "metadata": {
    "collapsed": false
   },
   "outputs": [],
   "source": [
    "questions = pd.read_csv('data/train_questions.csv')\n",
    "answers = pd.read_csv('data/train_answers.csv')"
   ]
  },
  {
   "cell_type": "code",
   "execution_count": 4,
   "id": "91a979907ec65c13",
   "metadata": {
    "ExecuteTime": {
     "end_time": "2023-12-31T03:18:53.280428Z",
     "start_time": "2023-12-31T03:18:53.274922Z"
    },
    "collapsed": false
   },
   "outputs": [
    {
     "data": {
      "text/html": [
       "<div>\n",
       "<style scoped>\n",
       "    .dataframe tbody tr th:only-of-type {\n",
       "        vertical-align: middle;\n",
       "    }\n",
       "\n",
       "    .dataframe tbody tr th {\n",
       "        vertical-align: top;\n",
       "    }\n",
       "\n",
       "    .dataframe thead th {\n",
       "        text-align: right;\n",
       "    }\n",
       "</style>\n",
       "<table border=\"1\" class=\"dataframe\">\n",
       "  <thead>\n",
       "    <tr style=\"text-align: right;\">\n",
       "      <th></th>\n",
       "      <th>question_id</th>\n",
       "      <th>question</th>\n",
       "      <th>course</th>\n",
       "      <th>year</th>\n",
       "      <th>candidate_answers</th>\n",
       "      <th>answer_id</th>\n",
       "    </tr>\n",
       "  </thead>\n",
       "  <tbody>\n",
       "    <tr>\n",
       "      <th>0</th>\n",
       "      <td>79062</td>\n",
       "      <td>For categorical target set, where the distribu...</td>\n",
       "      <td>Machine Learning Zoomcamp</td>\n",
       "      <td>2021</td>\n",
       "      <td>156400,754877,105368,643810,912439</td>\n",
       "      <td>156400</td>\n",
       "    </tr>\n",
       "    <tr>\n",
       "      <th>1</th>\n",
       "      <td>468946</td>\n",
       "      <td>Is there anything that we are not allowed to u...</td>\n",
       "      <td>Machine Learning Zoomcamp</td>\n",
       "      <td>2021</td>\n",
       "      <td>641330,634887,912439,425941,642829</td>\n",
       "      <td>634887</td>\n",
       "    </tr>\n",
       "    <tr>\n",
       "      <th>2</th>\n",
       "      <td>968800</td>\n",
       "      <td>I have been catching up and have been doing ho...</td>\n",
       "      <td>Data Engineering Zoomcamp</td>\n",
       "      <td>2022</td>\n",
       "      <td>954016,167856,75919,36798,838013</td>\n",
       "      <td>954016</td>\n",
       "    </tr>\n",
       "    <tr>\n",
       "      <th>3</th>\n",
       "      <td>688404</td>\n",
       "      <td>Could you please explain what code we should l...</td>\n",
       "      <td>Data Engineering Zoomcamp</td>\n",
       "      <td>2022</td>\n",
       "      <td>198661,629898,686577,3699,141765</td>\n",
       "      <td>3699</td>\n",
       "    </tr>\n",
       "    <tr>\n",
       "      <th>4</th>\n",
       "      <td>63921</td>\n",
       "      <td>Is it just me or does the model have really ba...</td>\n",
       "      <td>Machine Learning Zoomcamp</td>\n",
       "      <td>2021</td>\n",
       "      <td>754877,604487,912439,858915,425941</td>\n",
       "      <td>858915</td>\n",
       "    </tr>\n",
       "    <tr>\n",
       "      <th>...</th>\n",
       "      <td>...</td>\n",
       "      <td>...</td>\n",
       "      <td>...</td>\n",
       "      <td>...</td>\n",
       "      <td>...</td>\n",
       "      <td>...</td>\n",
       "    </tr>\n",
       "    <tr>\n",
       "      <th>392</th>\n",
       "      <td>241788</td>\n",
       "      <td>Can the model with the ROC AUC score of around...</td>\n",
       "      <td>Machine Learning Zoomcamp</td>\n",
       "      <td>2021</td>\n",
       "      <td>274012,831391,912439,596854,214199</td>\n",
       "      <td>831391</td>\n",
       "    </tr>\n",
       "    <tr>\n",
       "      <th>393</th>\n",
       "      <td>595103</td>\n",
       "      <td>When I click tab in the parentheses of the iPy...</td>\n",
       "      <td>Machine Learning Zoomcamp</td>\n",
       "      <td>2021</td>\n",
       "      <td>325935,651754,478055,214199,912439</td>\n",
       "      <td>651754</td>\n",
       "    </tr>\n",
       "    <tr>\n",
       "      <th>394</th>\n",
       "      <td>450348</td>\n",
       "      <td>Can you please explain the use cases of Splunk...</td>\n",
       "      <td>Data Engineering Zoomcamp</td>\n",
       "      <td>2022</td>\n",
       "      <td>432981,908368,296080,131069,733226</td>\n",
       "      <td>733226</td>\n",
       "    </tr>\n",
       "    <tr>\n",
       "      <th>395</th>\n",
       "      <td>864660</td>\n",
       "      <td>Why did you use model2bin in the last question...</td>\n",
       "      <td>Machine Learning Zoomcamp</td>\n",
       "      <td>2021</td>\n",
       "      <td>40420,422297,32377,169051,623076</td>\n",
       "      <td>422297</td>\n",
       "    </tr>\n",
       "    <tr>\n",
       "      <th>396</th>\n",
       "      <td>205640</td>\n",
       "      <td>Would you mind clarifying evaluation on test a...</td>\n",
       "      <td>Machine Learning Zoomcamp</td>\n",
       "      <td>2021</td>\n",
       "      <td>604487,754877,558889,214199,596854</td>\n",
       "      <td>558889</td>\n",
       "    </tr>\n",
       "  </tbody>\n",
       "</table>\n",
       "<p>397 rows × 6 columns</p>\n",
       "</div>"
      ],
      "text/plain": [
       "     question_id                                           question  \\\n",
       "0          79062  For categorical target set, where the distribu...   \n",
       "1         468946  Is there anything that we are not allowed to u...   \n",
       "2         968800  I have been catching up and have been doing ho...   \n",
       "3         688404  Could you please explain what code we should l...   \n",
       "4          63921  Is it just me or does the model have really ba...   \n",
       "..           ...                                                ...   \n",
       "392       241788  Can the model with the ROC AUC score of around...   \n",
       "393       595103  When I click tab in the parentheses of the iPy...   \n",
       "394       450348  Can you please explain the use cases of Splunk...   \n",
       "395       864660  Why did you use model2bin in the last question...   \n",
       "396       205640  Would you mind clarifying evaluation on test a...   \n",
       "\n",
       "                        course  year                   candidate_answers  \\\n",
       "0    Machine Learning Zoomcamp  2021  156400,754877,105368,643810,912439   \n",
       "1    Machine Learning Zoomcamp  2021  641330,634887,912439,425941,642829   \n",
       "2    Data Engineering Zoomcamp  2022    954016,167856,75919,36798,838013   \n",
       "3    Data Engineering Zoomcamp  2022    198661,629898,686577,3699,141765   \n",
       "4    Machine Learning Zoomcamp  2021  754877,604487,912439,858915,425941   \n",
       "..                         ...   ...                                 ...   \n",
       "392  Machine Learning Zoomcamp  2021  274012,831391,912439,596854,214199   \n",
       "393  Machine Learning Zoomcamp  2021  325935,651754,478055,214199,912439   \n",
       "394  Data Engineering Zoomcamp  2022  432981,908368,296080,131069,733226   \n",
       "395  Machine Learning Zoomcamp  2021    40420,422297,32377,169051,623076   \n",
       "396  Machine Learning Zoomcamp  2021  604487,754877,558889,214199,596854   \n",
       "\n",
       "     answer_id  \n",
       "0       156400  \n",
       "1       634887  \n",
       "2       954016  \n",
       "3         3699  \n",
       "4       858915  \n",
       "..         ...  \n",
       "392     831391  \n",
       "393     651754  \n",
       "394     733226  \n",
       "395     422297  \n",
       "396     558889  \n",
       "\n",
       "[397 rows x 6 columns]"
      ]
     },
     "execution_count": 4,
     "metadata": {},
     "output_type": "execute_result"
    }
   ],
   "source": [
    "questions"
   ]
  },
  {
   "cell_type": "code",
   "execution_count": 5,
   "id": "b57856a92584886",
   "metadata": {
    "ExecuteTime": {
     "end_time": "2023-12-31T03:19:00.840804Z",
     "start_time": "2023-12-31T03:19:00.823961Z"
    },
    "collapsed": false
   },
   "outputs": [
    {
     "data": {
      "text/html": [
       "<div>\n",
       "<style scoped>\n",
       "    .dataframe tbody tr th:only-of-type {\n",
       "        vertical-align: middle;\n",
       "    }\n",
       "\n",
       "    .dataframe tbody tr th {\n",
       "        vertical-align: top;\n",
       "    }\n",
       "\n",
       "    .dataframe thead th {\n",
       "        text-align: right;\n",
       "    }\n",
       "</style>\n",
       "<table border=\"1\" class=\"dataframe\">\n",
       "  <thead>\n",
       "    <tr style=\"text-align: right;\">\n",
       "      <th></th>\n",
       "      <th>answer_id</th>\n",
       "      <th>answer</th>\n",
       "      <th>course</th>\n",
       "      <th>year</th>\n",
       "      <th>attachments_files</th>\n",
       "    </tr>\n",
       "  </thead>\n",
       "  <tbody>\n",
       "    <tr>\n",
       "      <th>0</th>\n",
       "      <td>156400</td>\n",
       "      <td>Alexey\\nShould we use something non-standard t...</td>\n",
       "      <td>Machine Learning Zoomcamp</td>\n",
       "      <td>2021</td>\n",
       "      <td>NaN</td>\n",
       "    </tr>\n",
       "    <tr>\n",
       "      <th>1</th>\n",
       "      <td>634887</td>\n",
       "      <td>No, I don't think there is anything you cannot...</td>\n",
       "      <td>Machine Learning Zoomcamp</td>\n",
       "      <td>2021</td>\n",
       "      <td>NaN</td>\n",
       "    </tr>\n",
       "    <tr>\n",
       "      <th>2</th>\n",
       "      <td>954016</td>\n",
       "      <td>Alexey\\nYes, you will be. You can submit the p...</td>\n",
       "      <td>Data Engineering Zoomcamp</td>\n",
       "      <td>2022</td>\n",
       "      <td>NaN</td>\n",
       "    </tr>\n",
       "    <tr>\n",
       "      <th>3</th>\n",
       "      <td>3699</td>\n",
       "      <td>Alexey\\nI think the question refers to the hom...</td>\n",
       "      <td>Data Engineering Zoomcamp</td>\n",
       "      <td>2022</td>\n",
       "      <td>NaN</td>\n",
       "    </tr>\n",
       "    <tr>\n",
       "      <th>4</th>\n",
       "      <td>858915</td>\n",
       "      <td>Dmitry\\nIt's fine, because this is the showcas...</td>\n",
       "      <td>Machine Learning Zoomcamp</td>\n",
       "      <td>2021</td>\n",
       "      <td>NaN</td>\n",
       "    </tr>\n",
       "    <tr>\n",
       "      <th>...</th>\n",
       "      <td>...</td>\n",
       "      <td>...</td>\n",
       "      <td>...</td>\n",
       "      <td>...</td>\n",
       "      <td>...</td>\n",
       "    </tr>\n",
       "    <tr>\n",
       "      <th>392</th>\n",
       "      <td>831391</td>\n",
       "      <td>Yes, it can. It's really dataset dependent. Fo...</td>\n",
       "      <td>Machine Learning Zoomcamp</td>\n",
       "      <td>2021</td>\n",
       "      <td>NaN</td>\n",
       "    </tr>\n",
       "    <tr>\n",
       "      <th>393</th>\n",
       "      <td>651754</td>\n",
       "      <td>Let's say I do “import numpy as np” and then, ...</td>\n",
       "      <td>Machine Learning Zoomcamp</td>\n",
       "      <td>2021</td>\n",
       "      <td>NaN</td>\n",
       "    </tr>\n",
       "    <tr>\n",
       "      <th>394</th>\n",
       "      <td>733226</td>\n",
       "      <td>Alexey\\nSplunk – I don’t know. It's not a data...</td>\n",
       "      <td>Data Engineering Zoomcamp</td>\n",
       "      <td>2022</td>\n",
       "      <td>NaN</td>\n",
       "    </tr>\n",
       "    <tr>\n",
       "      <th>395</th>\n",
       "      <td>422297</td>\n",
       "      <td>Yes, it was not mentioned. But what was mentio...</td>\n",
       "      <td>Machine Learning Zoomcamp</td>\n",
       "      <td>2021</td>\n",
       "      <td>NaN</td>\n",
       "    </tr>\n",
       "    <tr>\n",
       "      <th>396</th>\n",
       "      <td>558889</td>\n",
       "      <td>Alexey\\nI guess the question is why we need to...</td>\n",
       "      <td>Machine Learning Zoomcamp</td>\n",
       "      <td>2021</td>\n",
       "      <td>NaN</td>\n",
       "    </tr>\n",
       "  </tbody>\n",
       "</table>\n",
       "<p>397 rows × 5 columns</p>\n",
       "</div>"
      ],
      "text/plain": [
       "     answer_id                                             answer  \\\n",
       "0       156400  Alexey\\nShould we use something non-standard t...   \n",
       "1       634887  No, I don't think there is anything you cannot...   \n",
       "2       954016  Alexey\\nYes, you will be. You can submit the p...   \n",
       "3         3699  Alexey\\nI think the question refers to the hom...   \n",
       "4       858915  Dmitry\\nIt's fine, because this is the showcas...   \n",
       "..         ...                                                ...   \n",
       "392     831391  Yes, it can. It's really dataset dependent. Fo...   \n",
       "393     651754  Let's say I do “import numpy as np” and then, ...   \n",
       "394     733226  Alexey\\nSplunk – I don’t know. It's not a data...   \n",
       "395     422297  Yes, it was not mentioned. But what was mentio...   \n",
       "396     558889  Alexey\\nI guess the question is why we need to...   \n",
       "\n",
       "                        course  year attachments_files  \n",
       "0    Machine Learning Zoomcamp  2021               NaN  \n",
       "1    Machine Learning Zoomcamp  2021               NaN  \n",
       "2    Data Engineering Zoomcamp  2022               NaN  \n",
       "3    Data Engineering Zoomcamp  2022               NaN  \n",
       "4    Machine Learning Zoomcamp  2021               NaN  \n",
       "..                         ...   ...               ...  \n",
       "392  Machine Learning Zoomcamp  2021               NaN  \n",
       "393  Machine Learning Zoomcamp  2021               NaN  \n",
       "394  Data Engineering Zoomcamp  2022               NaN  \n",
       "395  Machine Learning Zoomcamp  2021               NaN  \n",
       "396  Machine Learning Zoomcamp  2021               NaN  \n",
       "\n",
       "[397 rows x 5 columns]"
      ]
     },
     "execution_count": 5,
     "metadata": {},
     "output_type": "execute_result"
    }
   ],
   "source": [
    "answers"
   ]
  },
  {
   "cell_type": "code",
   "execution_count": 6,
   "id": "d76460fdfc6aa304",
   "metadata": {
    "ExecuteTime": {
     "end_time": "2023-12-31T03:20:13.859788Z",
     "start_time": "2023-12-31T03:20:13.844504Z"
    },
    "collapsed": false
   },
   "outputs": [
    {
     "data": {
      "text/plain": [
       "answer_id\n",
       "774098    2\n",
       "373352    1\n",
       "3699      1\n",
       "858915    1\n",
       "830918    1\n",
       "         ..\n",
       "651754    1\n",
       "733226    1\n",
       "422297    1\n",
       "629809    1\n",
       "558889    1\n",
       "Name: count, Length: 396, dtype: int64"
      ]
     },
     "execution_count": 6,
     "metadata": {},
     "output_type": "execute_result"
    }
   ],
   "source": [
    "questions['answer_id'].value_counts().sort_values(ascending=False)"
   ]
  },
  {
   "cell_type": "code",
   "execution_count": 7,
   "id": "f8189e84def7eb14",
   "metadata": {
    "ExecuteTime": {
     "end_time": "2023-12-31T03:27:50.366977Z",
     "start_time": "2023-12-31T03:27:50.362675Z"
    },
    "collapsed": false
   },
   "outputs": [],
   "source": [
    "ml_qa = pd.merge(left=questions[questions['course'] == 'Machine Learning Zoomcamp'], right=answers, left_on='answer_id',\n",
    "                 right_on='answer_id', how='inner')[['question', 'answer']]"
   ]
  },
  {
   "cell_type": "code",
   "execution_count": 8,
   "id": "53d7162a55477bc7",
   "metadata": {
    "ExecuteTime": {
     "end_time": "2023-12-31T03:27:51.752792Z",
     "start_time": "2023-12-31T03:27:51.743291Z"
    },
    "collapsed": false
   },
   "outputs": [
    {
     "data": {
      "text/html": [
       "<div>\n",
       "<style scoped>\n",
       "    .dataframe tbody tr th:only-of-type {\n",
       "        vertical-align: middle;\n",
       "    }\n",
       "\n",
       "    .dataframe tbody tr th {\n",
       "        vertical-align: top;\n",
       "    }\n",
       "\n",
       "    .dataframe thead th {\n",
       "        text-align: right;\n",
       "    }\n",
       "</style>\n",
       "<table border=\"1\" class=\"dataframe\">\n",
       "  <thead>\n",
       "    <tr style=\"text-align: right;\">\n",
       "      <th></th>\n",
       "      <th>question</th>\n",
       "      <th>answer</th>\n",
       "    </tr>\n",
       "  </thead>\n",
       "  <tbody>\n",
       "    <tr>\n",
       "      <th>0</th>\n",
       "      <td>For categorical target set, where the distribu...</td>\n",
       "      <td>Alexey\\nShould we use something non-standard t...</td>\n",
       "    </tr>\n",
       "    <tr>\n",
       "      <th>1</th>\n",
       "      <td>Is there anything that we are not allowed to u...</td>\n",
       "      <td>No, I don't think there is anything you cannot...</td>\n",
       "    </tr>\n",
       "    <tr>\n",
       "      <th>2</th>\n",
       "      <td>Is it just me or does the model have really ba...</td>\n",
       "      <td>Dmitry\\nIt's fine, because this is the showcas...</td>\n",
       "    </tr>\n",
       "    <tr>\n",
       "      <th>3</th>\n",
       "      <td>We used tf.keras.layers.GlobalAveragePooling2D...</td>\n",
       "      <td>Let's say we have a two dimensional thing (2D)...</td>\n",
       "    </tr>\n",
       "    <tr>\n",
       "      <th>4</th>\n",
       "      <td>If you pickle load an object, are all the meth...</td>\n",
       "      <td>Kind of. Actually, pickle expects that you hav...</td>\n",
       "    </tr>\n",
       "    <tr>\n",
       "      <th>...</th>\n",
       "      <td>...</td>\n",
       "      <td>...</td>\n",
       "    </tr>\n",
       "    <tr>\n",
       "      <th>196</th>\n",
       "      <td>Is TensorFlow always used with Keras? I heard ...</td>\n",
       "      <td>Dmitry\\nNo? Before, it was kind of different t...</td>\n",
       "    </tr>\n",
       "    <tr>\n",
       "      <th>197</th>\n",
       "      <td>Can the model with the ROC AUC score of around...</td>\n",
       "      <td>Yes, it can. It's really dataset dependent. Fo...</td>\n",
       "    </tr>\n",
       "    <tr>\n",
       "      <th>198</th>\n",
       "      <td>When I click tab in the parentheses of the iPy...</td>\n",
       "      <td>Let's say I do “import numpy as np” and then, ...</td>\n",
       "    </tr>\n",
       "    <tr>\n",
       "      <th>199</th>\n",
       "      <td>Why did you use model2bin in the last question...</td>\n",
       "      <td>Yes, it was not mentioned. But what was mentio...</td>\n",
       "    </tr>\n",
       "    <tr>\n",
       "      <th>200</th>\n",
       "      <td>Would you mind clarifying evaluation on test a...</td>\n",
       "      <td>Alexey\\nI guess the question is why we need to...</td>\n",
       "    </tr>\n",
       "  </tbody>\n",
       "</table>\n",
       "<p>201 rows × 2 columns</p>\n",
       "</div>"
      ],
      "text/plain": [
       "                                              question  \\\n",
       "0    For categorical target set, where the distribu...   \n",
       "1    Is there anything that we are not allowed to u...   \n",
       "2    Is it just me or does the model have really ba...   \n",
       "3    We used tf.keras.layers.GlobalAveragePooling2D...   \n",
       "4    If you pickle load an object, are all the meth...   \n",
       "..                                                 ...   \n",
       "196  Is TensorFlow always used with Keras? I heard ...   \n",
       "197  Can the model with the ROC AUC score of around...   \n",
       "198  When I click tab in the parentheses of the iPy...   \n",
       "199  Why did you use model2bin in the last question...   \n",
       "200  Would you mind clarifying evaluation on test a...   \n",
       "\n",
       "                                                answer  \n",
       "0    Alexey\\nShould we use something non-standard t...  \n",
       "1    No, I don't think there is anything you cannot...  \n",
       "2    Dmitry\\nIt's fine, because this is the showcas...  \n",
       "3    Let's say we have a two dimensional thing (2D)...  \n",
       "4    Kind of. Actually, pickle expects that you hav...  \n",
       "..                                                 ...  \n",
       "196  Dmitry\\nNo? Before, it was kind of different t...  \n",
       "197  Yes, it can. It's really dataset dependent. Fo...  \n",
       "198  Let's say I do “import numpy as np” and then, ...  \n",
       "199  Yes, it was not mentioned. But what was mentio...  \n",
       "200  Alexey\\nI guess the question is why we need to...  \n",
       "\n",
       "[201 rows x 2 columns]"
      ]
     },
     "execution_count": 8,
     "metadata": {},
     "output_type": "execute_result"
    }
   ],
   "source": [
    "ml_qa"
   ]
  },
  {
   "cell_type": "code",
   "execution_count": 9,
   "id": "77af12c166c1f095",
   "metadata": {
    "ExecuteTime": {
     "end_time": "2023-12-31T04:02:30.899788Z",
     "start_time": "2023-12-31T04:02:30.876534Z"
    },
    "collapsed": false
   },
   "outputs": [],
   "source": [
    "from sklearn.feature_extraction.text import TfidfVectorizer"
   ]
  },
  {
   "cell_type": "code",
   "execution_count": 10,
   "id": "23c32bcc4c45f81e",
   "metadata": {
    "collapsed": false
   },
   "outputs": [],
   "source": [
    "vectorizer = TfidfVectorizer()"
   ]
  },
  {
   "cell_type": "code",
   "execution_count": 38,
   "id": "57f63525",
   "metadata": {},
   "outputs": [],
   "source": [
    "x = vectorizer.fit_transform(ml_qa['question'])\n",
    "y = vectorizer.fit_transform(ml_qa['answer'])"
   ]
  },
  {
   "cell_type": "code",
   "execution_count": 39,
   "id": "cd715a53",
   "metadata": {},
   "outputs": [
    {
     "data": {
      "text/plain": [
       "matrix([[0., 0., 0., ..., 0., 0., 0.],\n",
       "        [0., 0., 0., ..., 0., 0., 0.],\n",
       "        [0., 0., 0., ..., 0., 0., 0.],\n",
       "        ...,\n",
       "        [0., 0., 0., ..., 0., 0., 0.],\n",
       "        [0., 0., 0., ..., 0., 0., 0.],\n",
       "        [0., 0., 0., ..., 0., 0., 0.]])"
      ]
     },
     "execution_count": 39,
     "metadata": {},
     "output_type": "execute_result"
    }
   ],
   "source": [
    "x.todense()"
   ]
  },
  {
   "cell_type": "code",
   "execution_count": 46,
   "id": "ac250442",
   "metadata": {
    "ExecuteTime": {
     "end_time": "2023-12-31T05:48:21.392326Z",
     "start_time": "2023-12-31T05:48:21.355086Z"
    }
   },
   "outputs": [
    {
     "data": {
      "text/plain": [
       "(201, 2128)"
      ]
     },
     "execution_count": 46,
     "metadata": {},
     "output_type": "execute_result"
    }
   ],
   "source": [
    "y.shape"
   ]
  },
  {
   "cell_type": "code",
   "execution_count": 45,
   "id": "c9ae9cf2",
   "metadata": {},
   "outputs": [
    {
     "data": {
      "text/plain": [
       "(201, 912)"
      ]
     },
     "execution_count": 45,
     "metadata": {},
     "output_type": "execute_result"
    }
   ],
   "source": [
    "x.shape"
   ]
  },
  {
   "cell_type": "code",
   "execution_count": null,
   "id": "8cca5e35",
   "metadata": {},
   "outputs": [],
   "source": []
  }
 ],
 "metadata": {
  "kernelspec": {
   "display_name": "Python 3",
   "language": "python",
   "name": "python3"
  },
  "language_info": {
   "codemirror_mode": {
    "name": "ipython",
    "version": 3
   },
   "file_extension": ".py",
   "mimetype": "text/x-python",
   "name": "python",
   "nbconvert_exporter": "python",
   "pygments_lexer": "ipython3",
   "version": "3.10.13"
  }
 },
 "nbformat": 4,
 "nbformat_minor": 5
}
