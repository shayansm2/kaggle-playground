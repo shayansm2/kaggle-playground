{
 "cells": [
  {
   "cell_type": "code",
   "execution_count": 1,
   "metadata": {},
   "outputs": [
    {
     "name": "stderr",
     "output_type": "stream",
     "text": [
      "All model checkpoint layers were used when initializing TFBertForSequenceClassification.\n",
      "\n",
      "All the layers of TFBertForSequenceClassification were initialized from the model checkpoint at model.h5.\n",
      "If your task is similar to the task the model of the checkpoint was trained on, you can already use TFBertForSequenceClassification for predictions without further training.\n"
     ]
    }
   ],
   "source": [
    "import pandas as pd\n",
    "import numpy as np\n",
    "from py_scripts.model_interface import predict_probabilities, ask_question"
   ]
  },
  {
   "cell_type": "code",
   "execution_count": 2,
   "metadata": {},
   "outputs": [],
   "source": [
    "train_answers = pd.read_csv('data/train_answers.csv')\n",
    "test_answers = pd.read_csv('data/test_answers.csv')"
   ]
  },
  {
   "cell_type": "code",
   "execution_count": 3,
   "metadata": {},
   "outputs": [
    {
     "data": {
      "text/html": [
       "<div>\n",
       "<style scoped>\n",
       "    .dataframe tbody tr th:only-of-type {\n",
       "        vertical-align: middle;\n",
       "    }\n",
       "\n",
       "    .dataframe tbody tr th {\n",
       "        vertical-align: top;\n",
       "    }\n",
       "\n",
       "    .dataframe thead th {\n",
       "        text-align: right;\n",
       "    }\n",
       "</style>\n",
       "<table border=\"1\" class=\"dataframe\">\n",
       "  <thead>\n",
       "    <tr style=\"text-align: right;\">\n",
       "      <th></th>\n",
       "      <th>answer_id</th>\n",
       "      <th>answer</th>\n",
       "      <th>course</th>\n",
       "      <th>year</th>\n",
       "      <th>attachments_files</th>\n",
       "    </tr>\n",
       "  </thead>\n",
       "  <tbody>\n",
       "    <tr>\n",
       "      <th>0</th>\n",
       "      <td>156400</td>\n",
       "      <td>Alexey\\nShould we use something non-standard t...</td>\n",
       "      <td>Machine Learning Zoomcamp</td>\n",
       "      <td>2021</td>\n",
       "      <td>NaN</td>\n",
       "    </tr>\n",
       "    <tr>\n",
       "      <th>1</th>\n",
       "      <td>634887</td>\n",
       "      <td>No, I don't think there is anything you cannot...</td>\n",
       "      <td>Machine Learning Zoomcamp</td>\n",
       "      <td>2021</td>\n",
       "      <td>NaN</td>\n",
       "    </tr>\n",
       "    <tr>\n",
       "      <th>2</th>\n",
       "      <td>954016</td>\n",
       "      <td>Alexey\\nYes, you will be. You can submit the p...</td>\n",
       "      <td>Data Engineering Zoomcamp</td>\n",
       "      <td>2022</td>\n",
       "      <td>NaN</td>\n",
       "    </tr>\n",
       "    <tr>\n",
       "      <th>3</th>\n",
       "      <td>3699</td>\n",
       "      <td>Alexey\\nI think the question refers to the hom...</td>\n",
       "      <td>Data Engineering Zoomcamp</td>\n",
       "      <td>2022</td>\n",
       "      <td>NaN</td>\n",
       "    </tr>\n",
       "    <tr>\n",
       "      <th>4</th>\n",
       "      <td>858915</td>\n",
       "      <td>Dmitry\\nIt's fine, because this is the showcas...</td>\n",
       "      <td>Machine Learning Zoomcamp</td>\n",
       "      <td>2021</td>\n",
       "      <td>NaN</td>\n",
       "    </tr>\n",
       "  </tbody>\n",
       "</table>\n",
       "</div>"
      ],
      "text/plain": [
       "   answer_id                                             answer  \\\n",
       "0     156400  Alexey\\nShould we use something non-standard t...   \n",
       "1     634887  No, I don't think there is anything you cannot...   \n",
       "2     954016  Alexey\\nYes, you will be. You can submit the p...   \n",
       "3       3699  Alexey\\nI think the question refers to the hom...   \n",
       "4     858915  Dmitry\\nIt's fine, because this is the showcas...   \n",
       "\n",
       "                      course  year attachments_files  \n",
       "0  Machine Learning Zoomcamp  2021               NaN  \n",
       "1  Machine Learning Zoomcamp  2021               NaN  \n",
       "2  Data Engineering Zoomcamp  2022               NaN  \n",
       "3  Data Engineering Zoomcamp  2022               NaN  \n",
       "4  Machine Learning Zoomcamp  2021               NaN  "
      ]
     },
     "execution_count": 3,
     "metadata": {},
     "output_type": "execute_result"
    }
   ],
   "source": [
    "train_answers.head()"
   ]
  },
  {
   "cell_type": "code",
   "execution_count": 4,
   "metadata": {},
   "outputs": [
    {
     "data": {
      "text/html": [
       "<div>\n",
       "<style scoped>\n",
       "    .dataframe tbody tr th:only-of-type {\n",
       "        vertical-align: middle;\n",
       "    }\n",
       "\n",
       "    .dataframe tbody tr th {\n",
       "        vertical-align: top;\n",
       "    }\n",
       "\n",
       "    .dataframe thead th {\n",
       "        text-align: right;\n",
       "    }\n",
       "</style>\n",
       "<table border=\"1\" class=\"dataframe\">\n",
       "  <thead>\n",
       "    <tr style=\"text-align: right;\">\n",
       "      <th></th>\n",
       "      <th>answer_id</th>\n",
       "      <th>answer</th>\n",
       "      <th>course</th>\n",
       "      <th>year</th>\n",
       "      <th>attachments_files</th>\n",
       "    </tr>\n",
       "  </thead>\n",
       "  <tbody>\n",
       "    <tr>\n",
       "      <th>0</th>\n",
       "      <td>767296</td>\n",
       "      <td>Alexey\\nProbably more than you want to put in....</td>\n",
       "      <td>Data Engineering Zoomcamp</td>\n",
       "      <td>2023</td>\n",
       "      <td>NaN</td>\n",
       "    </tr>\n",
       "    <tr>\n",
       "      <th>1</th>\n",
       "      <td>573165</td>\n",
       "      <td>Yes, I can. There is actually an entire module...</td>\n",
       "      <td>Machine Learning Zoomcamp</td>\n",
       "      <td>2022</td>\n",
       "      <td>NaN</td>\n",
       "    </tr>\n",
       "    <tr>\n",
       "      <th>2</th>\n",
       "      <td>571892</td>\n",
       "      <td>Jeff\\nI can try. I like Black a lot. If you ju...</td>\n",
       "      <td>Data Engineering Zoomcamp</td>\n",
       "      <td>2023</td>\n",
       "      <td>NaN</td>\n",
       "    </tr>\n",
       "    <tr>\n",
       "      <th>3</th>\n",
       "      <td>988549</td>\n",
       "      <td>Again, you’ll probably hate me soon for saying...</td>\n",
       "      <td>Machine Learning Zoomcamp</td>\n",
       "      <td>2022</td>\n",
       "      <td>NaN</td>\n",
       "    </tr>\n",
       "    <tr>\n",
       "      <th>4</th>\n",
       "      <td>384381</td>\n",
       "      <td>Alexey\\nThe first thing about the dataset – wh...</td>\n",
       "      <td>Data Engineering Zoomcamp</td>\n",
       "      <td>2023</td>\n",
       "      <td>NaN</td>\n",
       "    </tr>\n",
       "  </tbody>\n",
       "</table>\n",
       "</div>"
      ],
      "text/plain": [
       "   answer_id                                             answer  \\\n",
       "0     767296  Alexey\\nProbably more than you want to put in....   \n",
       "1     573165  Yes, I can. There is actually an entire module...   \n",
       "2     571892  Jeff\\nI can try. I like Black a lot. If you ju...   \n",
       "3     988549  Again, you’ll probably hate me soon for saying...   \n",
       "4     384381  Alexey\\nThe first thing about the dataset – wh...   \n",
       "\n",
       "                      course  year attachments_files  \n",
       "0  Data Engineering Zoomcamp  2023               NaN  \n",
       "1  Machine Learning Zoomcamp  2022               NaN  \n",
       "2  Data Engineering Zoomcamp  2023               NaN  \n",
       "3  Machine Learning Zoomcamp  2022               NaN  \n",
       "4  Data Engineering Zoomcamp  2023               NaN  "
      ]
     },
     "execution_count": 4,
     "metadata": {},
     "output_type": "execute_result"
    }
   ],
   "source": [
    "test_answers.head()"
   ]
  },
  {
   "cell_type": "code",
   "execution_count": 6,
   "metadata": {},
   "outputs": [
    {
     "data": {
      "text/plain": [
       "913"
      ]
     },
     "execution_count": 6,
     "metadata": {},
     "output_type": "execute_result"
    }
   ],
   "source": [
    "answers = pd.concat([train_answers, test_answers])\n",
    "len(answers)"
   ]
  },
  {
   "cell_type": "code",
   "execution_count": 8,
   "metadata": {},
   "outputs": [],
   "source": [
    "question = 'Why did you use model2bin in the last question? It was not mentioned anywhere in homework.md.'\n",
    "course = 'Machine Learning Zoomcamp'"
   ]
  },
  {
   "cell_type": "code",
   "execution_count": 11,
   "metadata": {},
   "outputs": [],
   "source": [
    "proper_answers = answers.copy()\n",
    "if course is not None:\n",
    "    proper_answers = proper_answers[proper_answers['course'] == course]\n",
    "\n",
    "# if len(course) == 0:\n",
    "#     print('noting found')\n",
    "\n",
    "def get_pred(q, ans) -> int :\n",
    "    return predict_probabilities(q, ans)[1]\n",
    "\n",
    "proper_answers['prob'] = proper_answers.apply(lambda row: get_pred(question, row['answer']), axis=1)"
   ]
  },
  {
   "cell_type": "code",
   "execution_count": 20,
   "metadata": {},
   "outputs": [
    {
     "data": {
      "text/plain": [
       "'Dmitry\\nUsually I use the NumPy function.\\xa0\\nAlexey\\nI think also the question is, “Do we need to transform the y variable in any way apart from this logarithmic transformation? Are there other transformations that we need to know?”\\nDmitry\\nI can think of the Box Cox transformation. There are certain types of transformations of the target variable, especially in the regression tasks. You have to make it more randomly distributed, for example. For sure, you can leave it like that, but the results, especially in a linear model because linear models really depend on the linearity, or the normal distribution of the target variable, so the results can be not very good.\\xa0\\nFor sure, throughout the course of the Zoomcamp, we will talk about the nonlinear methods such as end symbols, for example, end there. You can see that, for example, you can use it without transformation – using the trees.\\nAlexey\\nYeah, thanks. “Cox Box transformation” you said? [Dmitry agrees] I think this one turns any variable into a normal, right? [Dmitry agrees]'"
      ]
     },
     "execution_count": 20,
     "metadata": {},
     "output_type": "execute_result"
    }
   ],
   "source": [
    "proper_answers.sort_values(by='prob', ascending=False)['answer'].tolist()[:5][1]"
   ]
  },
  {
   "cell_type": "code",
   "execution_count": 3,
   "metadata": {},
   "outputs": [
    {
     "data": {
      "text/plain": [
       "[\"Victoria\\nSQL is definitely super important. It will depend, as in any other role, on what the company is going to do. I personally don't really use much Python, outside of maybe some API scripts. But SQL is definitely the one I use every day and a lot. It could be very good if you're at least familiar with Python and can write with it. Then come data modeling concepts, because keep in mind that you have to focus a lot on transforming that data to be lighter use. Then it's very important that you know how to transform the data. Then, you would need to know some BI – being able to expose that data later on to some BI tools.\\xa0\\nThis doesn't mean that you need to focus on building dashboards or things like that, but at least know how that data could be used from a business perspective. Once you have that, then it’s also important to know concepts around data warehousing – at least know the parts of the ETL, ELT, all of these concepts. Know how the data gets to the data warehouse and be able to understand that to kind of cover both parts. It would be very important.\",\n",
       " \"I don't understand the question, to be honest. We don't have the generation part. The generation part is what was done already for us by the New York Taxi Limousine Company. Storage – yeah, they also store it. They host the data. And yeah, we cover ingestion, transform, and serving with the dashboard.\",\n",
       " \"Ankush\\nWhat we use is basically unit testing. We rigorously unit test other small components and then there can be an end-to-end test in order to test the whole pipeline, basically. So that's the literature. [chuckles]\\nAlexey\\nI think there is a thing called Data Kitchen. They have a book, I think. They have this DataOps Cookbook, and I think it goes a bit into data quality topics. I think they talk a bit about that. But I don't remember how detailed it is. Maybe this is something you can check. Have you seen this one?\\nAnkush\\nNo, I'm just checking it out right now. So what's the point of Data Kitchen?\\nAlexey\\nI think they're consultants. “Stop band-aiding in your data pipeline.” I think they consult on how to do DataOps properly. Here, of course, you need to provide your email so they can try to get you as the client. [chuckles] But multiple people told me that this is a useful book.\"]"
      ]
     },
     "execution_count": 3,
     "metadata": {},
     "output_type": "execute_result"
    }
   ],
   "source": [
    "question = 'I read a book that said the data engineering lifecycle is generation, storage, ingestion, transforming, and serving data. Do we do ingestion because we use an open dataset?'\n",
    "course = 'Data Engineering Zoomcamp'\n",
    "answers = ask_question(question, course, 3)\n",
    "answers"
   ]
  }
 ],
 "metadata": {
  "kernelspec": {
   "display_name": "py10",
   "language": "python",
   "name": "python3"
  },
  "language_info": {
   "codemirror_mode": {
    "name": "ipython",
    "version": 3
   },
   "file_extension": ".py",
   "mimetype": "text/x-python",
   "name": "python",
   "nbconvert_exporter": "python",
   "pygments_lexer": "ipython3",
   "version": "3.10.13"
  }
 },
 "nbformat": 4,
 "nbformat_minor": 2
}
