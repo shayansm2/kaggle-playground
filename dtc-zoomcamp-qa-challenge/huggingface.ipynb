{
 "cells": [
  {
   "cell_type": "code",
   "execution_count": 1,
   "id": "98978ab6",
   "metadata": {},
   "outputs": [],
   "source": [
    "import pandas as pd\n",
    "import numpy as np"
   ]
  },
  {
   "cell_type": "code",
   "execution_count": 2,
   "id": "initial_id",
   "metadata": {
    "ExecuteTime": {
     "end_time": "2024-01-17T16:19:11.351286Z",
     "start_time": "2024-01-17T16:19:11.317391Z"
    },
    "collapsed": true
   },
   "outputs": [],
   "source": [
    "from transformers import AutoTokenizer, TFAutoModelForSequenceClassification"
   ]
  },
  {
   "cell_type": "code",
   "execution_count": 3,
   "id": "667b8e87539e924",
   "metadata": {
    "collapsed": false
   },
   "outputs": [],
   "source": [
    "questions = pd.read_csv('data/train_questions.csv')\n",
    "answers = pd.read_csv('data/train_answers.csv')"
   ]
  },
  {
   "cell_type": "code",
   "execution_count": 5,
   "id": "5012ed74",
   "metadata": {},
   "outputs": [
    {
     "data": {
      "text/html": [
       "<div>\n",
       "<style scoped>\n",
       "    .dataframe tbody tr th:only-of-type {\n",
       "        vertical-align: middle;\n",
       "    }\n",
       "\n",
       "    .dataframe tbody tr th {\n",
       "        vertical-align: top;\n",
       "    }\n",
       "\n",
       "    .dataframe thead th {\n",
       "        text-align: right;\n",
       "    }\n",
       "</style>\n",
       "<table border=\"1\" class=\"dataframe\">\n",
       "  <thead>\n",
       "    <tr style=\"text-align: right;\">\n",
       "      <th></th>\n",
       "      <th>answer_id</th>\n",
       "      <th>answer</th>\n",
       "      <th>course</th>\n",
       "      <th>year</th>\n",
       "      <th>attachments_files</th>\n",
       "    </tr>\n",
       "  </thead>\n",
       "  <tbody>\n",
       "    <tr>\n",
       "      <th>0</th>\n",
       "      <td>156400</td>\n",
       "      <td>Alexey\\nShould we use something non-standard t...</td>\n",
       "      <td>Machine Learning Zoomcamp</td>\n",
       "      <td>2021</td>\n",
       "      <td>NaN</td>\n",
       "    </tr>\n",
       "    <tr>\n",
       "      <th>1</th>\n",
       "      <td>634887</td>\n",
       "      <td>No, I don't think there is anything you cannot...</td>\n",
       "      <td>Machine Learning Zoomcamp</td>\n",
       "      <td>2021</td>\n",
       "      <td>NaN</td>\n",
       "    </tr>\n",
       "    <tr>\n",
       "      <th>2</th>\n",
       "      <td>954016</td>\n",
       "      <td>Alexey\\nYes, you will be. You can submit the p...</td>\n",
       "      <td>Data Engineering Zoomcamp</td>\n",
       "      <td>2022</td>\n",
       "      <td>NaN</td>\n",
       "    </tr>\n",
       "    <tr>\n",
       "      <th>3</th>\n",
       "      <td>3699</td>\n",
       "      <td>Alexey\\nI think the question refers to the hom...</td>\n",
       "      <td>Data Engineering Zoomcamp</td>\n",
       "      <td>2022</td>\n",
       "      <td>NaN</td>\n",
       "    </tr>\n",
       "    <tr>\n",
       "      <th>4</th>\n",
       "      <td>858915</td>\n",
       "      <td>Dmitry\\nIt's fine, because this is the showcas...</td>\n",
       "      <td>Machine Learning Zoomcamp</td>\n",
       "      <td>2021</td>\n",
       "      <td>NaN</td>\n",
       "    </tr>\n",
       "    <tr>\n",
       "      <th>...</th>\n",
       "      <td>...</td>\n",
       "      <td>...</td>\n",
       "      <td>...</td>\n",
       "      <td>...</td>\n",
       "      <td>...</td>\n",
       "    </tr>\n",
       "    <tr>\n",
       "      <th>392</th>\n",
       "      <td>831391</td>\n",
       "      <td>Yes, it can. It's really dataset dependent. Fo...</td>\n",
       "      <td>Machine Learning Zoomcamp</td>\n",
       "      <td>2021</td>\n",
       "      <td>NaN</td>\n",
       "    </tr>\n",
       "    <tr>\n",
       "      <th>393</th>\n",
       "      <td>651754</td>\n",
       "      <td>Let's say I do “import numpy as np” and then, ...</td>\n",
       "      <td>Machine Learning Zoomcamp</td>\n",
       "      <td>2021</td>\n",
       "      <td>NaN</td>\n",
       "    </tr>\n",
       "    <tr>\n",
       "      <th>394</th>\n",
       "      <td>733226</td>\n",
       "      <td>Alexey\\nSplunk – I don’t know. It's not a data...</td>\n",
       "      <td>Data Engineering Zoomcamp</td>\n",
       "      <td>2022</td>\n",
       "      <td>NaN</td>\n",
       "    </tr>\n",
       "    <tr>\n",
       "      <th>395</th>\n",
       "      <td>422297</td>\n",
       "      <td>Yes, it was not mentioned. But what was mentio...</td>\n",
       "      <td>Machine Learning Zoomcamp</td>\n",
       "      <td>2021</td>\n",
       "      <td>NaN</td>\n",
       "    </tr>\n",
       "    <tr>\n",
       "      <th>396</th>\n",
       "      <td>558889</td>\n",
       "      <td>Alexey\\nI guess the question is why we need to...</td>\n",
       "      <td>Machine Learning Zoomcamp</td>\n",
       "      <td>2021</td>\n",
       "      <td>NaN</td>\n",
       "    </tr>\n",
       "  </tbody>\n",
       "</table>\n",
       "<p>397 rows × 5 columns</p>\n",
       "</div>"
      ],
      "text/plain": [
       "     answer_id                                             answer  \\\n",
       "0       156400  Alexey\\nShould we use something non-standard t...   \n",
       "1       634887  No, I don't think there is anything you cannot...   \n",
       "2       954016  Alexey\\nYes, you will be. You can submit the p...   \n",
       "3         3699  Alexey\\nI think the question refers to the hom...   \n",
       "4       858915  Dmitry\\nIt's fine, because this is the showcas...   \n",
       "..         ...                                                ...   \n",
       "392     831391  Yes, it can. It's really dataset dependent. Fo...   \n",
       "393     651754  Let's say I do “import numpy as np” and then, ...   \n",
       "394     733226  Alexey\\nSplunk – I don’t know. It's not a data...   \n",
       "395     422297  Yes, it was not mentioned. But what was mentio...   \n",
       "396     558889  Alexey\\nI guess the question is why we need to...   \n",
       "\n",
       "                        course  year attachments_files  \n",
       "0    Machine Learning Zoomcamp  2021               NaN  \n",
       "1    Machine Learning Zoomcamp  2021               NaN  \n",
       "2    Data Engineering Zoomcamp  2022               NaN  \n",
       "3    Data Engineering Zoomcamp  2022               NaN  \n",
       "4    Machine Learning Zoomcamp  2021               NaN  \n",
       "..                         ...   ...               ...  \n",
       "392  Machine Learning Zoomcamp  2021               NaN  \n",
       "393  Machine Learning Zoomcamp  2021               NaN  \n",
       "394  Data Engineering Zoomcamp  2022               NaN  \n",
       "395  Machine Learning Zoomcamp  2021               NaN  \n",
       "396  Machine Learning Zoomcamp  2021               NaN  \n",
       "\n",
       "[397 rows x 5 columns]"
      ]
     },
     "execution_count": 5,
     "metadata": {},
     "output_type": "execute_result"
    }
   ],
   "source": [
    "answers"
   ]
  },
  {
   "cell_type": "code",
   "execution_count": 6,
   "id": "2167c95b",
   "metadata": {},
   "outputs": [],
   "source": [
    "train_merged_df = pd.merge(questions, answers, on='answer_id', how='inner', suffixes=('_question', '_answer'))"
   ]
  },
  {
   "cell_type": "code",
   "execution_count": 7,
   "id": "7e9829a1",
   "metadata": {},
   "outputs": [
    {
     "data": {
      "text/html": [
       "<div>\n",
       "<style scoped>\n",
       "    .dataframe tbody tr th:only-of-type {\n",
       "        vertical-align: middle;\n",
       "    }\n",
       "\n",
       "    .dataframe tbody tr th {\n",
       "        vertical-align: top;\n",
       "    }\n",
       "\n",
       "    .dataframe thead th {\n",
       "        text-align: right;\n",
       "    }\n",
       "</style>\n",
       "<table border=\"1\" class=\"dataframe\">\n",
       "  <thead>\n",
       "    <tr style=\"text-align: right;\">\n",
       "      <th></th>\n",
       "      <th>question_id</th>\n",
       "      <th>question</th>\n",
       "      <th>course_question</th>\n",
       "      <th>year_question</th>\n",
       "      <th>candidate_answers</th>\n",
       "      <th>answer_id</th>\n",
       "      <th>answer</th>\n",
       "      <th>course_answer</th>\n",
       "      <th>year_answer</th>\n",
       "      <th>attachments_files</th>\n",
       "    </tr>\n",
       "  </thead>\n",
       "  <tbody>\n",
       "    <tr>\n",
       "      <th>0</th>\n",
       "      <td>79062</td>\n",
       "      <td>For categorical target set, where the distribu...</td>\n",
       "      <td>Machine Learning Zoomcamp</td>\n",
       "      <td>2021</td>\n",
       "      <td>156400,754877,105368,643810,912439</td>\n",
       "      <td>156400</td>\n",
       "      <td>Alexey\\nShould we use something non-standard t...</td>\n",
       "      <td>Machine Learning Zoomcamp</td>\n",
       "      <td>2021</td>\n",
       "      <td>NaN</td>\n",
       "    </tr>\n",
       "    <tr>\n",
       "      <th>1</th>\n",
       "      <td>468946</td>\n",
       "      <td>Is there anything that we are not allowed to u...</td>\n",
       "      <td>Machine Learning Zoomcamp</td>\n",
       "      <td>2021</td>\n",
       "      <td>641330,634887,912439,425941,642829</td>\n",
       "      <td>634887</td>\n",
       "      <td>No, I don't think there is anything you cannot...</td>\n",
       "      <td>Machine Learning Zoomcamp</td>\n",
       "      <td>2021</td>\n",
       "      <td>NaN</td>\n",
       "    </tr>\n",
       "    <tr>\n",
       "      <th>2</th>\n",
       "      <td>968800</td>\n",
       "      <td>I have been catching up and have been doing ho...</td>\n",
       "      <td>Data Engineering Zoomcamp</td>\n",
       "      <td>2022</td>\n",
       "      <td>954016,167856,75919,36798,838013</td>\n",
       "      <td>954016</td>\n",
       "      <td>Alexey\\nYes, you will be. You can submit the p...</td>\n",
       "      <td>Data Engineering Zoomcamp</td>\n",
       "      <td>2022</td>\n",
       "      <td>NaN</td>\n",
       "    </tr>\n",
       "    <tr>\n",
       "      <th>3</th>\n",
       "      <td>688404</td>\n",
       "      <td>Could you please explain what code we should l...</td>\n",
       "      <td>Data Engineering Zoomcamp</td>\n",
       "      <td>2022</td>\n",
       "      <td>198661,629898,686577,3699,141765</td>\n",
       "      <td>3699</td>\n",
       "      <td>Alexey\\nI think the question refers to the hom...</td>\n",
       "      <td>Data Engineering Zoomcamp</td>\n",
       "      <td>2022</td>\n",
       "      <td>NaN</td>\n",
       "    </tr>\n",
       "    <tr>\n",
       "      <th>4</th>\n",
       "      <td>63921</td>\n",
       "      <td>Is it just me or does the model have really ba...</td>\n",
       "      <td>Machine Learning Zoomcamp</td>\n",
       "      <td>2021</td>\n",
       "      <td>754877,604487,912439,858915,425941</td>\n",
       "      <td>858915</td>\n",
       "      <td>Dmitry\\nIt's fine, because this is the showcas...</td>\n",
       "      <td>Machine Learning Zoomcamp</td>\n",
       "      <td>2021</td>\n",
       "      <td>NaN</td>\n",
       "    </tr>\n",
       "    <tr>\n",
       "      <th>...</th>\n",
       "      <td>...</td>\n",
       "      <td>...</td>\n",
       "      <td>...</td>\n",
       "      <td>...</td>\n",
       "      <td>...</td>\n",
       "      <td>...</td>\n",
       "      <td>...</td>\n",
       "      <td>...</td>\n",
       "      <td>...</td>\n",
       "      <td>...</td>\n",
       "    </tr>\n",
       "    <tr>\n",
       "      <th>394</th>\n",
       "      <td>241788</td>\n",
       "      <td>Can the model with the ROC AUC score of around...</td>\n",
       "      <td>Machine Learning Zoomcamp</td>\n",
       "      <td>2021</td>\n",
       "      <td>274012,831391,912439,596854,214199</td>\n",
       "      <td>831391</td>\n",
       "      <td>Yes, it can. It's really dataset dependent. Fo...</td>\n",
       "      <td>Machine Learning Zoomcamp</td>\n",
       "      <td>2021</td>\n",
       "      <td>NaN</td>\n",
       "    </tr>\n",
       "    <tr>\n",
       "      <th>395</th>\n",
       "      <td>595103</td>\n",
       "      <td>When I click tab in the parentheses of the iPy...</td>\n",
       "      <td>Machine Learning Zoomcamp</td>\n",
       "      <td>2021</td>\n",
       "      <td>325935,651754,478055,214199,912439</td>\n",
       "      <td>651754</td>\n",
       "      <td>Let's say I do “import numpy as np” and then, ...</td>\n",
       "      <td>Machine Learning Zoomcamp</td>\n",
       "      <td>2021</td>\n",
       "      <td>NaN</td>\n",
       "    </tr>\n",
       "    <tr>\n",
       "      <th>396</th>\n",
       "      <td>450348</td>\n",
       "      <td>Can you please explain the use cases of Splunk...</td>\n",
       "      <td>Data Engineering Zoomcamp</td>\n",
       "      <td>2022</td>\n",
       "      <td>432981,908368,296080,131069,733226</td>\n",
       "      <td>733226</td>\n",
       "      <td>Alexey\\nSplunk – I don’t know. It's not a data...</td>\n",
       "      <td>Data Engineering Zoomcamp</td>\n",
       "      <td>2022</td>\n",
       "      <td>NaN</td>\n",
       "    </tr>\n",
       "    <tr>\n",
       "      <th>397</th>\n",
       "      <td>864660</td>\n",
       "      <td>Why did you use model2bin in the last question...</td>\n",
       "      <td>Machine Learning Zoomcamp</td>\n",
       "      <td>2021</td>\n",
       "      <td>40420,422297,32377,169051,623076</td>\n",
       "      <td>422297</td>\n",
       "      <td>Yes, it was not mentioned. But what was mentio...</td>\n",
       "      <td>Machine Learning Zoomcamp</td>\n",
       "      <td>2021</td>\n",
       "      <td>NaN</td>\n",
       "    </tr>\n",
       "    <tr>\n",
       "      <th>398</th>\n",
       "      <td>205640</td>\n",
       "      <td>Would you mind clarifying evaluation on test a...</td>\n",
       "      <td>Machine Learning Zoomcamp</td>\n",
       "      <td>2021</td>\n",
       "      <td>604487,754877,558889,214199,596854</td>\n",
       "      <td>558889</td>\n",
       "      <td>Alexey\\nI guess the question is why we need to...</td>\n",
       "      <td>Machine Learning Zoomcamp</td>\n",
       "      <td>2021</td>\n",
       "      <td>NaN</td>\n",
       "    </tr>\n",
       "  </tbody>\n",
       "</table>\n",
       "<p>399 rows × 10 columns</p>\n",
       "</div>"
      ],
      "text/plain": [
       "     question_id                                           question  \\\n",
       "0          79062  For categorical target set, where the distribu...   \n",
       "1         468946  Is there anything that we are not allowed to u...   \n",
       "2         968800  I have been catching up and have been doing ho...   \n",
       "3         688404  Could you please explain what code we should l...   \n",
       "4          63921  Is it just me or does the model have really ba...   \n",
       "..           ...                                                ...   \n",
       "394       241788  Can the model with the ROC AUC score of around...   \n",
       "395       595103  When I click tab in the parentheses of the iPy...   \n",
       "396       450348  Can you please explain the use cases of Splunk...   \n",
       "397       864660  Why did you use model2bin in the last question...   \n",
       "398       205640  Would you mind clarifying evaluation on test a...   \n",
       "\n",
       "               course_question  year_question  \\\n",
       "0    Machine Learning Zoomcamp           2021   \n",
       "1    Machine Learning Zoomcamp           2021   \n",
       "2    Data Engineering Zoomcamp           2022   \n",
       "3    Data Engineering Zoomcamp           2022   \n",
       "4    Machine Learning Zoomcamp           2021   \n",
       "..                         ...            ...   \n",
       "394  Machine Learning Zoomcamp           2021   \n",
       "395  Machine Learning Zoomcamp           2021   \n",
       "396  Data Engineering Zoomcamp           2022   \n",
       "397  Machine Learning Zoomcamp           2021   \n",
       "398  Machine Learning Zoomcamp           2021   \n",
       "\n",
       "                      candidate_answers  answer_id  \\\n",
       "0    156400,754877,105368,643810,912439     156400   \n",
       "1    641330,634887,912439,425941,642829     634887   \n",
       "2      954016,167856,75919,36798,838013     954016   \n",
       "3      198661,629898,686577,3699,141765       3699   \n",
       "4    754877,604487,912439,858915,425941     858915   \n",
       "..                                  ...        ...   \n",
       "394  274012,831391,912439,596854,214199     831391   \n",
       "395  325935,651754,478055,214199,912439     651754   \n",
       "396  432981,908368,296080,131069,733226     733226   \n",
       "397    40420,422297,32377,169051,623076     422297   \n",
       "398  604487,754877,558889,214199,596854     558889   \n",
       "\n",
       "                                                answer  \\\n",
       "0    Alexey\\nShould we use something non-standard t...   \n",
       "1    No, I don't think there is anything you cannot...   \n",
       "2    Alexey\\nYes, you will be. You can submit the p...   \n",
       "3    Alexey\\nI think the question refers to the hom...   \n",
       "4    Dmitry\\nIt's fine, because this is the showcas...   \n",
       "..                                                 ...   \n",
       "394  Yes, it can. It's really dataset dependent. Fo...   \n",
       "395  Let's say I do “import numpy as np” and then, ...   \n",
       "396  Alexey\\nSplunk – I don’t know. It's not a data...   \n",
       "397  Yes, it was not mentioned. But what was mentio...   \n",
       "398  Alexey\\nI guess the question is why we need to...   \n",
       "\n",
       "                 course_answer  year_answer attachments_files  \n",
       "0    Machine Learning Zoomcamp         2021               NaN  \n",
       "1    Machine Learning Zoomcamp         2021               NaN  \n",
       "2    Data Engineering Zoomcamp         2022               NaN  \n",
       "3    Data Engineering Zoomcamp         2022               NaN  \n",
       "4    Machine Learning Zoomcamp         2021               NaN  \n",
       "..                         ...          ...               ...  \n",
       "394  Machine Learning Zoomcamp         2021               NaN  \n",
       "395  Machine Learning Zoomcamp         2021               NaN  \n",
       "396  Data Engineering Zoomcamp         2022               NaN  \n",
       "397  Machine Learning Zoomcamp         2021               NaN  \n",
       "398  Machine Learning Zoomcamp         2021               NaN  \n",
       "\n",
       "[399 rows x 10 columns]"
      ]
     },
     "execution_count": 7,
     "metadata": {},
     "output_type": "execute_result"
    }
   ],
   "source": [
    "train_merged_df"
   ]
  },
  {
   "cell_type": "code",
   "execution_count": 8,
   "id": "c1cc9fa8",
   "metadata": {},
   "outputs": [],
   "source": [
    "checkpoint = \"bert-base-uncased\"\n",
    "tokenizer = AutoTokenizer.from_pretrained(checkpoint)"
   ]
  },
  {
   "cell_type": "code",
   "execution_count": 9,
   "id": "a151ef4a",
   "metadata": {},
   "outputs": [
    {
     "name": "stdout",
     "output_type": "stream",
     "text": [
      "For categorical target set, where the distribution is imbalanced (for example, 90/10) what approach should be used?\n"
     ]
    },
    {
     "data": {
      "text/plain": [
       "{'input_ids': [101, 2005, 4937, 27203, 4539, 2275, 1010, 2073, 1996, 4353, 2003, 10047, 26657, 2094, 1006, 2005, 2742, 1010, 3938, 1013, 2184, 1007, 2054, 3921, 2323, 2022, 2109, 1029, 102], 'token_type_ids': [0, 0, 0, 0, 0, 0, 0, 0, 0, 0, 0, 0, 0, 0, 0, 0, 0, 0, 0, 0, 0, 0, 0, 0, 0, 0, 0, 0, 0], 'attention_mask': [1, 1, 1, 1, 1, 1, 1, 1, 1, 1, 1, 1, 1, 1, 1, 1, 1, 1, 1, 1, 1, 1, 1, 1, 1, 1, 1, 1, 1]}"
      ]
     },
     "execution_count": 9,
     "metadata": {},
     "output_type": "execute_result"
    }
   ],
   "source": [
    "print(train_merged_df.iloc[0]['question'])\n",
    "tokenizer(train_merged_df.iloc[0]['question'])"
   ]
  },
  {
   "cell_type": "code",
   "execution_count": 10,
   "id": "fffdaad6",
   "metadata": {},
   "outputs": [
    {
     "name": "stdout",
     "output_type": "stream",
     "text": [
      "Alexey\n",
      "Should we use something non-standard there or can we just go with the usual things we learned in the course?\n",
      "Hamed\n",
      "You just need to test different strategies. Something I noticed – if you have so many parse subclasses in your categorical [inaudible], you should be careful about using one-hot encoding. You might say you can use ordinal encoding, if your data in nature had some order. It will be useful. In my particular data, I couldn't have domain knowledge. I didn't know what the subclasses were, so I couldn't decide which strategy I should choose. But if you have the domain knowledge, that’s the key here, I think.\n"
     ]
    },
    {
     "data": {
      "text/plain": [
       "{'input_ids': [101, 2005, 4937, 27203, 4539, 2275, 1010, 2073, 1996, 4353, 2003, 10047, 26657, 2094, 1006, 2005, 2742, 1010, 3938, 1013, 2184, 1007, 2054, 3921, 2323, 2022, 2109, 1029, 102, 4074, 3240, 2323, 2057, 2224, 2242, 2512, 1011, 3115, 2045, 2030, 2064, 2057, 2074, 2175, 2007, 1996, 5156, 2477, 2057, 4342, 1999, 1996, 2607, 1029, 10654, 2098, 2017, 2074, 2342, 2000, 3231, 2367, 9942, 1012, 2242, 1045, 4384, 1516, 2065, 2017, 2031, 2061, 2116, 11968, 3366, 4942, 26266, 2229, 1999, 2115, 4937, 27203, 1031, 27118, 21041, 3468, 1033, 1010, 2017, 2323, 2022, 6176, 2055, 2478, 2028, 1011, 2980, 17181, 1012, 2017, 2453, 2360, 2017, 2064, 2224, 2030, 18979, 2140, 17181, 1010, 2065, 2115, 2951, 1999, 3267, 2018, 2070, 2344, 1012, 2009, 2097, 2022, 6179, 1012, 1999, 2026, 3327, 2951, 1010, 1045, 2481, 1005, 1056, 2031, 5884, 3716, 1012, 1045, 2134, 1005, 1056, 2113, 2054, 1996, 4942, 26266, 2229, 2020, 1010, 2061, 1045, 2481, 1005, 1056, 5630, 2029, 5656, 1045, 2323, 5454, 1012, 2021, 2065, 2017, 2031, 1996, 5884, 3716, 1010, 2008, 1521, 1055, 1996, 3145, 2182, 1010, 1045, 2228, 1012, 102], 'token_type_ids': [0, 0, 0, 0, 0, 0, 0, 0, 0, 0, 0, 0, 0, 0, 0, 0, 0, 0, 0, 0, 0, 0, 0, 0, 0, 0, 0, 0, 0, 1, 1, 1, 1, 1, 1, 1, 1, 1, 1, 1, 1, 1, 1, 1, 1, 1, 1, 1, 1, 1, 1, 1, 1, 1, 1, 1, 1, 1, 1, 1, 1, 1, 1, 1, 1, 1, 1, 1, 1, 1, 1, 1, 1, 1, 1, 1, 1, 1, 1, 1, 1, 1, 1, 1, 1, 1, 1, 1, 1, 1, 1, 1, 1, 1, 1, 1, 1, 1, 1, 1, 1, 1, 1, 1, 1, 1, 1, 1, 1, 1, 1, 1, 1, 1, 1, 1, 1, 1, 1, 1, 1, 1, 1, 1, 1, 1, 1, 1, 1, 1, 1, 1, 1, 1, 1, 1, 1, 1, 1, 1, 1, 1, 1, 1, 1, 1, 1, 1, 1, 1, 1, 1, 1, 1, 1, 1, 1, 1, 1, 1, 1, 1, 1, 1, 1, 1, 1, 1, 1, 1, 1, 1, 1, 1, 1, 1, 1, 1, 1, 1], 'attention_mask': [1, 1, 1, 1, 1, 1, 1, 1, 1, 1, 1, 1, 1, 1, 1, 1, 1, 1, 1, 1, 1, 1, 1, 1, 1, 1, 1, 1, 1, 1, 1, 1, 1, 1, 1, 1, 1, 1, 1, 1, 1, 1, 1, 1, 1, 1, 1, 1, 1, 1, 1, 1, 1, 1, 1, 1, 1, 1, 1, 1, 1, 1, 1, 1, 1, 1, 1, 1, 1, 1, 1, 1, 1, 1, 1, 1, 1, 1, 1, 1, 1, 1, 1, 1, 1, 1, 1, 1, 1, 1, 1, 1, 1, 1, 1, 1, 1, 1, 1, 1, 1, 1, 1, 1, 1, 1, 1, 1, 1, 1, 1, 1, 1, 1, 1, 1, 1, 1, 1, 1, 1, 1, 1, 1, 1, 1, 1, 1, 1, 1, 1, 1, 1, 1, 1, 1, 1, 1, 1, 1, 1, 1, 1, 1, 1, 1, 1, 1, 1, 1, 1, 1, 1, 1, 1, 1, 1, 1, 1, 1, 1, 1, 1, 1, 1, 1, 1, 1, 1, 1, 1, 1, 1, 1, 1, 1, 1, 1, 1, 1]}"
      ]
     },
     "execution_count": 10,
     "metadata": {},
     "output_type": "execute_result"
    }
   ],
   "source": [
    "print(train_merged_df.iloc[0]['answer'])\n",
    "tokenizer(train_merged_df.iloc[0]['question'], train_merged_df.iloc[0]['answer'])"
   ]
  },
  {
   "cell_type": "code",
   "execution_count": 11,
   "id": "d13ecd0c",
   "metadata": {},
   "outputs": [
    {
     "data": {
      "text/plain": [
       "0      For categorical target set, where the distribu...\n",
       "1      Is there anything that we are not allowed to u...\n",
       "2      I have been catching up and have been doing ho...\n",
       "3      Could you please explain what code we should l...\n",
       "4      Is it just me or does the model have really ba...\n",
       "                             ...                        \n",
       "394    Can the model with the ROC AUC score of around...\n",
       "395    When I click tab in the parentheses of the iPy...\n",
       "396    Can you please explain the use cases of Splunk...\n",
       "397    Why did you use model2bin in the last question...\n",
       "398    Would you mind clarifying evaluation on test a...\n",
       "Name: question, Length: 399, dtype: object"
      ]
     },
     "execution_count": 11,
     "metadata": {},
     "output_type": "execute_result"
    }
   ],
   "source": [
    "train_merged_df['question']"
   ]
  },
  {
   "cell_type": "code",
   "execution_count": 12,
   "id": "274edd6f",
   "metadata": {},
   "outputs": [],
   "source": [
    "tokens = tokenizer(train_merged_df['question'].tolist() , train_merged_df['answer'].tolist(), padding=\"max_length\")"
   ]
  },
  {
   "cell_type": "code",
   "execution_count": 13,
   "id": "f2e4644a",
   "metadata": {},
   "outputs": [
    {
     "data": {
      "text/plain": [
       "dict_keys(['input_ids', 'token_type_ids', 'attention_mask'])"
      ]
     },
     "execution_count": 13,
     "metadata": {},
     "output_type": "execute_result"
    }
   ],
   "source": [
    "tokens.keys()"
   ]
  },
  {
   "cell_type": "code",
   "execution_count": 14,
   "id": "96701a16",
   "metadata": {},
   "outputs": [
    {
     "data": {
      "text/plain": [
       "567"
      ]
     },
     "execution_count": 14,
     "metadata": {},
     "output_type": "execute_result"
    }
   ],
   "source": [
    "len(tokens['attention_mask'][5])"
   ]
  },
  {
   "cell_type": "code",
   "execution_count": 15,
   "metadata": {},
   "outputs": [
    {
     "data": {
      "text/plain": [
       "399"
      ]
     },
     "execution_count": 15,
     "metadata": {},
     "output_type": "execute_result"
    }
   ],
   "source": [
    "len(tokens['input_ids'])"
   ]
  },
  {
   "cell_type": "code",
   "execution_count": 16,
   "id": "a9a73357",
   "metadata": {},
   "outputs": [
    {
     "name": "stdout",
     "output_type": "stream",
     "text": [
      "huggingface/tokenizers: The current process just got forked, after parallelism has already been used. Disabling parallelism to avoid deadlocks...\n",
      "To disable this warning, you can either:\n",
      "\t- Avoid using `tokenizers` before the fork if possible\n",
      "\t- Explicitly set the environment variable TOKENIZERS_PARALLELISM=(true | false)\n",
      "huggingface/tokenizers: The current process just got forked, after parallelism has already been used. Disabling parallelism to avoid deadlocks...\n",
      "To disable this warning, you can either:\n",
      "\t- Avoid using `tokenizers` before the fork if possible\n",
      "\t- Explicitly set the environment variable TOKENIZERS_PARALLELISM=(true | false)\n"
     ]
    },
    {
     "data": {
      "application/vnd.jupyter.widget-view+json": {
       "model_id": "30fffda5d1624317804b7dbea8c8feba",
       "version_major": 2,
       "version_minor": 0
      },
      "text/plain": [
       "Downloading model.safetensors:   0%|          | 0.00/440M [00:00<?, ?B/s]"
      ]
     },
     "metadata": {},
     "output_type": "display_data"
    },
    {
     "name": "stderr",
     "output_type": "stream",
     "text": [
      "All PyTorch model weights were used when initializing TFBertForSequenceClassification.\n",
      "\n",
      "Some weights or buffers of the TF 2.0 model TFBertForSequenceClassification were not initialized from the PyTorch model and are newly initialized: ['classifier.weight', 'classifier.bias']\n",
      "You should probably TRAIN this model on a down-stream task to be able to use it for predictions and inference.\n"
     ]
    }
   ],
   "source": [
    "model = TFAutoModelForSequenceClassification.from_pretrained(checkpoint)"
   ]
  },
  {
   "cell_type": "markdown",
   "id": "94f96089",
   "metadata": {},
   "source": [
    "%pip install --upgrade pip"
   ]
  },
  {
   "cell_type": "markdown",
   "id": "7e24e057",
   "metadata": {},
   "source": [
    "%pip install tensorflow"
   ]
  },
  {
   "cell_type": "code",
   "execution_count": null,
   "id": "378a10a3",
   "metadata": {},
   "outputs": [],
   "source": []
  },
  {
   "cell_type": "code",
   "execution_count": null,
   "id": "03dae82f",
   "metadata": {},
   "outputs": [],
   "source": []
  }
 ],
 "metadata": {
  "kernelspec": {
   "display_name": "Python 3",
   "language": "python",
   "name": "python3"
  },
  "language_info": {
   "codemirror_mode": {
    "name": "ipython",
    "version": 3
   },
   "file_extension": ".py",
   "mimetype": "text/x-python",
   "name": "python",
   "nbconvert_exporter": "python",
   "pygments_lexer": "ipython3",
   "version": "3.10.13"
  }
 },
 "nbformat": 4,
 "nbformat_minor": 5
}
