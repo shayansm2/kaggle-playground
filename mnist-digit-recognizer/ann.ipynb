{
 "cells": [
  {
   "cell_type": "code",
   "execution_count": 1,
   "id": "initial_id",
   "metadata": {
    "collapsed": true,
    "ExecuteTime": {
     "end_time": "2023-12-01T11:52:19.313667Z",
     "start_time": "2023-12-01T11:52:16.544867Z"
    }
   },
   "outputs": [],
   "source": [
    "import numpy as np\n",
    "import pandas as pd\n",
    "import keras"
   ]
  },
  {
   "cell_type": "code",
   "execution_count": 2,
   "outputs": [],
   "source": [
    "df = pd.read_csv('data/train.csv')"
   ],
   "metadata": {
    "collapsed": false,
    "ExecuteTime": {
     "end_time": "2023-12-01T11:52:20.165451Z",
     "start_time": "2023-12-01T11:52:19.263019Z"
    }
   },
   "id": "fdff5159277143a9"
  },
  {
   "cell_type": "code",
   "execution_count": 3,
   "outputs": [
    {
     "data": {
      "text/plain": "42000"
     },
     "execution_count": 3,
     "metadata": {},
     "output_type": "execute_result"
    }
   ],
   "source": [
    "len(df)"
   ],
   "metadata": {
    "collapsed": false,
    "ExecuteTime": {
     "end_time": "2023-12-01T11:52:20.180313Z",
     "start_time": "2023-12-01T11:52:20.167092Z"
    }
   },
   "id": "3dc53bfe03e7be41"
  },
  {
   "cell_type": "code",
   "execution_count": 24,
   "outputs": [],
   "source": [
    "from sklearn.model_selection import train_test_split\n",
    "\n",
    "seed = 22\n",
    "\n",
    "x = df.copy()\n",
    "y = keras.utils.to_categorical(df['label'])\n",
    "del x['label']\n",
    "x /= 255\n",
    "\n",
    "x_train_val, x_test = train_test_split(x, random_state=seed, test_size=0.1)\n",
    "x_train, x_val = train_test_split(x_train_val, random_state=seed, test_size=0.15)\n",
    "\n",
    "y_train_val, y_test = train_test_split(y, random_state=seed, test_size=0.1)\n",
    "y_train, y_val = train_test_split(y_train_val, random_state=seed, test_size=0.15)"
   ],
   "metadata": {
    "collapsed": false,
    "ExecuteTime": {
     "end_time": "2023-12-01T12:40:12.075866Z",
     "start_time": "2023-12-01T12:40:11.618475Z"
    }
   },
   "id": "3190f826d3d86d74"
  },
  {
   "cell_type": "code",
   "execution_count": 33,
   "outputs": [],
   "source": [
    "from keras.preprocessing.image import array_to_img\n",
    "\n",
    "\n",
    "def get_image_and_label(id: int):\n",
    "    print(np.where(y[id] == 1)[0][0])\n",
    "    return array_to_img(x.loc[id].to_numpy().reshape(28, 28, 1))"
   ],
   "metadata": {
    "collapsed": false,
    "ExecuteTime": {
     "end_time": "2023-12-01T12:41:43.005014Z",
     "start_time": "2023-12-01T12:41:42.997724Z"
    }
   },
   "id": "8d1ec0782f62766b"
  },
  {
   "cell_type": "code",
   "execution_count": 34,
   "outputs": [
    {
     "name": "stdout",
     "output_type": "stream",
     "text": [
      "2\n"
     ]
    },
    {
     "data": {
      "text/plain": "<PIL.Image.Image image mode=L size=28x28>",
      "image/png": "[encoded data removed]"
     },
     "execution_count": 34,
     "metadata": {},
     "output_type": "execute_result"
    }
   ],
   "source": [
    "get_image_and_label(22)"
   ],
   "metadata": {
    "collapsed": false,
    "ExecuteTime": {
     "end_time": "2023-12-01T12:41:43.368448Z",
     "start_time": "2023-12-01T12:41:43.359862Z"
    }
   },
   "id": "447c720b3e59ada5"
  },
  {
   "cell_type": "code",
   "execution_count": 35,
   "outputs": [
    {
     "data": {
      "text/plain": "(784,)"
     },
     "execution_count": 35,
     "metadata": {},
     "output_type": "execute_result"
    }
   ],
   "source": [
    "x_val.shape[1:]"
   ],
   "metadata": {
    "collapsed": false,
    "ExecuteTime": {
     "end_time": "2023-12-01T12:41:49.191303Z",
     "start_time": "2023-12-01T12:41:49.171902Z"
    }
   },
   "id": "65417152049d286b"
  },
  {
   "cell_type": "code",
   "execution_count": 36,
   "outputs": [],
   "source": [
    "input = keras.layers.Input(shape=x_val.shape[1:])\n",
    "hidden = keras.layers.Dense(100, activation='relu')(input)\n",
    "output = keras.layers.Dense(10, activation='softmax')(hidden)\n",
    "\n",
    "model = keras.Model(input, output)"
   ],
   "metadata": {
    "collapsed": false,
    "ExecuteTime": {
     "end_time": "2023-12-01T12:41:50.121916Z",
     "start_time": "2023-12-01T12:41:50.099571Z"
    }
   },
   "id": "c44128aaeeea19ea"
  },
  {
   "cell_type": "code",
   "execution_count": 37,
   "outputs": [
    {
     "name": "stdout",
     "output_type": "stream",
     "text": [
      "Model: \"model_1\"\n",
      "_________________________________________________________________\n",
      " Layer (type)                Output Shape              Param #   \n",
      "=================================================================\n",
      " input_2 (InputLayer)        [(None, 784)]             0         \n",
      "                                                                 \n",
      " dense_2 (Dense)             (None, 100)               78500     \n",
      "                                                                 \n",
      " dense_3 (Dense)             (None, 10)                1010      \n",
      "                                                                 \n",
      "=================================================================\n",
      "Total params: 79510 (310.59 KB)\n",
      "Trainable params: 79510 (310.59 KB)\n",
      "Non-trainable params: 0 (0.00 Byte)\n",
      "_________________________________________________________________\n"
     ]
    }
   ],
   "source": [
    "model.summary()"
   ],
   "metadata": {
    "collapsed": false,
    "ExecuteTime": {
     "end_time": "2023-12-01T12:41:51.296254Z",
     "start_time": "2023-12-01T12:41:51.274465Z"
    }
   },
   "id": "4c46df26950aad9c"
  },
  {
   "cell_type": "code",
   "execution_count": 47,
   "outputs": [],
   "source": [
    "optimizer = keras.optimizers.legacy.SGD(learning_rate=0.01)  # stochastic Gradient descent\n",
    "loss = keras.losses.CategoricalCrossentropy()\n",
    "metrics = ['accuracy']\n",
    "\n",
    "model.compile(optimizer=optimizer, loss=loss, metrics=metrics)"
   ],
   "metadata": {
    "collapsed": false,
    "ExecuteTime": {
     "end_time": "2023-12-01T13:03:11.133776Z",
     "start_time": "2023-12-01T13:03:11.124759Z"
    }
   },
   "id": "54a58b7fac8081d7"
  },
  {
   "cell_type": "code",
   "execution_count": 48,
   "outputs": [
    {
     "name": "stdout",
     "output_type": "stream",
     "text": [
      "Epoch 1/10\n",
      "1005/1005 [==============================] - 1s 938us/step - loss: 0.1098 - accuracy: 0.9709 - val_loss: 0.1454 - val_accuracy: 0.9557\n",
      "Epoch 2/10\n",
      "1005/1005 [==============================] - 1s 863us/step - loss: 0.1071 - accuracy: 0.9714 - val_loss: 0.1434 - val_accuracy: 0.9563\n",
      "Epoch 3/10\n",
      "1005/1005 [==============================] - 1s 893us/step - loss: 0.1042 - accuracy: 0.9723 - val_loss: 0.1429 - val_accuracy: 0.9591\n",
      "Epoch 4/10\n",
      "1005/1005 [==============================] - 1s 876us/step - loss: 0.1019 - accuracy: 0.9729 - val_loss: 0.1406 - val_accuracy: 0.9575\n",
      "Epoch 5/10\n",
      "1005/1005 [==============================] - 1s 879us/step - loss: 0.0993 - accuracy: 0.9733 - val_loss: 0.1377 - val_accuracy: 0.9589\n",
      "Epoch 6/10\n",
      "1005/1005 [==============================] - 1s 921us/step - loss: 0.0969 - accuracy: 0.9745 - val_loss: 0.1421 - val_accuracy: 0.9568\n",
      "Epoch 7/10\n",
      "1005/1005 [==============================] - 1s 950us/step - loss: 0.0948 - accuracy: 0.9743 - val_loss: 0.1365 - val_accuracy: 0.9596\n",
      "Epoch 8/10\n",
      "1005/1005 [==============================] - 1s 1ms/step - loss: 0.0928 - accuracy: 0.9761 - val_loss: 0.1337 - val_accuracy: 0.9605\n",
      "Epoch 9/10\n",
      "1005/1005 [==============================] - 1s 873us/step - loss: 0.0905 - accuracy: 0.9763 - val_loss: 0.1333 - val_accuracy: 0.9603\n",
      "Epoch 10/10\n",
      "1005/1005 [==============================] - 1s 878us/step - loss: 0.0885 - accuracy: 0.9766 - val_loss: 0.1324 - val_accuracy: 0.9600\n"
     ]
    }
   ],
   "source": [
    "history = model.fit(x=x_train, y=y_train, epochs=10, validation_data=(x_val, y_val))"
   ],
   "metadata": {
    "collapsed": false,
    "ExecuteTime": {
     "end_time": "2023-12-01T13:03:21.143531Z",
     "start_time": "2023-12-01T13:03:11.795195Z"
    }
   },
   "id": "cbd591437ee01dc1"
  },
  {
   "cell_type": "code",
   "execution_count": 49,
   "outputs": [
    {
     "data": {
      "text/plain": "<Figure size 800x500 with 1 Axes>",
      "image/png": "[encoded data removed]"
     },
     "metadata": {},
     "output_type": "display_data"
    }
   ],
   "source": [
    "import pandas as pd\n",
    "import matplotlib.pyplot as plt\n",
    "\n",
    "pd.DataFrame(history.history).plot(figsize=(8, 5))\n",
    "plt.grid(True)\n",
    "plt.gca().set_ylim(0, 1)  # set the vertical range to [0-1] \n",
    "plt.show()"
   ],
   "metadata": {
    "collapsed": false,
    "ExecuteTime": {
     "end_time": "2023-12-01T13:03:22.426626Z",
     "start_time": "2023-12-01T13:03:22.281797Z"
    }
   },
   "id": "51ba7c0f49ccecd6"
  },
  {
   "cell_type": "code",
   "execution_count": 50,
   "outputs": [
    {
     "name": "stdout",
     "output_type": "stream",
     "text": [
      "132/132 [==============================] - 0s 533us/step\n"
     ]
    },
    {
     "data": {
      "text/plain": "array([[1.07082956e-08, 1.03118175e-04, 2.52555357e-04, ...,\n        2.65333876e-02, 2.56131869e-04, 2.27087196e-02],\n       [2.96521903e-04, 6.94837695e-07, 1.46362360e-03, ...,\n        1.12932339e-08, 9.12370160e-05, 3.08297956e-07],\n       [7.40718065e-08, 1.59802835e-03, 3.67782149e-03, ...,\n        2.77869185e-06, 8.04758514e-04, 9.24533936e-07],\n       ...,\n       [4.84838232e-08, 8.54608661e-05, 6.69794797e-04, ...,\n        7.85710341e-08, 7.53153799e-05, 2.57526026e-05],\n       [6.90711204e-07, 8.64202505e-08, 1.96374269e-04, ...,\n        2.01002013e-06, 1.59645879e-07, 1.43178286e-05],\n       [4.15345802e-09, 8.07085598e-05, 5.12294646e-05, ...,\n        8.52626254e-05, 1.21824746e-03, 7.88105369e-01]], dtype=float32)"
     },
     "execution_count": 50,
     "metadata": {},
     "output_type": "execute_result"
    }
   ],
   "source": [
    "model.predict(x_test)"
   ],
   "metadata": {
    "collapsed": false,
    "ExecuteTime": {
     "end_time": "2023-12-01T13:03:50.756555Z",
     "start_time": "2023-12-01T13:03:50.591235Z"
    }
   },
   "id": "e2c473d0ecde66a5"
  },
  {
   "cell_type": "code",
   "execution_count": null,
   "outputs": [],
   "source": [],
   "metadata": {
    "collapsed": false
   },
   "id": "5803af0828eccf40"
  }
 ],
 "metadata": {
  "kernelspec": {
   "display_name": "Python 3",
   "language": "python",
   "name": "python3"
  },
  "language_info": {
   "codemirror_mode": {
    "name": "ipython",
    "version": 2
   },
   "file_extension": ".py",
   "mimetype": "text/x-python",
   "name": "python",
   "nbconvert_exporter": "python",
   "pygments_lexer": "ipython2",
   "version": "2.7.6"
  }
 },
 "nbformat": 4,
 "nbformat_minor": 5
}
