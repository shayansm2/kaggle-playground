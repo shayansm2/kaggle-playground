{
 "cells": [
  {
   "cell_type": "code",
   "execution_count": null,
   "outputs": [],
   "source": [
    "from keras.applications import xception\n",
    "from keras.preprocessing.image import ImageDataGenerator\n",
    "\n",
    "import matplotlib.pyplot as plt\n",
    "import numpy as np\n",
    "\n",
    "from tensorflow import keras"
   ],
   "metadata": {
    "collapsed": false
   },
   "id": "188eeb89bdb1e4a4"
  },
  {
   "cell_type": "code",
   "execution_count": null,
   "outputs": [],
   "source": [
    "data_gen = ImageDataGenerator(preprocessing_function=xception.preprocess_input)\n",
    "\n",
    "train_ds = data_gen.flow_from_directory(\n",
    "    './Fast Food Classification V2/Train',\n",
    "    target_size=(100, 100),\n",
    "    batch_size=32\n",
    ")\n",
    "\n",
    "val_ds = data_gen.flow_from_directory(\n",
    "    './Fast Food Classification V2/Valid',\n",
    "    target_size=(100, 100),\n",
    "    batch_size=32\n",
    ")"
   ],
   "metadata": {
    "collapsed": false
   },
   "id": "d1469a3ede492c67"
  },
  {
   "cell_type": "markdown",
   "source": [
    "## Adjusting the learning rate"
   ],
   "metadata": {
    "collapsed": false
   },
   "id": "6def1b4b"
  },
  {
   "cell_type": "code",
   "execution_count": 60,
   "id": "55bd9ed4",
   "metadata": {},
   "outputs": [],
   "source": [
    "def make_model(learning_rate=0.01):\n",
    "    base_model = xception.Xception(\n",
    "        weights='imagenet',\n",
    "        include_top=False,\n",
    "        input_shape=(150, 150, 3)\n",
    "    )\n",
    "\n",
    "    base_model.trainable = False\n",
    "\n",
    "    inputs = keras.Input(shape=(150, 150, 3))\n",
    "    base = base_model(inputs, training=False)\n",
    "    vectors = keras.layers.GlobalAveragePooling2D()(base)\n",
    "    outputs = keras.layers.Dense(10)(vectors)\n",
    "    model = keras.Model(inputs, outputs)\n",
    "\n",
    "    optimizer = keras.optimizers.Adam(learning_rate=learning_rate)\n",
    "    loss = keras.losses.CategoricalCrossentropy(from_logits=True)\n",
    "\n",
    "    model.compile(\n",
    "        optimizer=optimizer,\n",
    "        loss=loss,\n",
    "        metrics=['accuracy']\n",
    "    )\n",
    "\n",
    "    return model"
   ]
  },
  {
   "cell_type": "code",
   "execution_count": 61,
   "id": "62596012",
   "metadata": {
    "scrolled": true
   },
   "outputs": [
    {
     "name": "stdout",
     "output_type": "stream",
     "text": [
      "0.0001\n",
      "WARNING:tensorflow:sample_weight modes were coerced from\n",
      "  ...\n",
      "    to  \n",
      "  ['...']\n",
      "WARNING:tensorflow:sample_weight modes were coerced from\n",
      "  ...\n",
      "    to  \n",
      "  ['...']\n",
      "Train for 96 steps, validate for 11 steps\n",
      "Epoch 1/10\n",
      "96/96 [==============================] - 20s 208ms/step - loss: 1.9262 - accuracy: 0.3403 - val_loss: 1.5806 - val_accuracy: 0.4897\n",
      "Epoch 2/10\n",
      "96/96 [==============================] - 16s 166ms/step - loss: 1.3832 - accuracy: 0.5613 - val_loss: 1.2368 - val_accuracy: 0.6012\n",
      "Epoch 3/10\n",
      "96/96 [==============================] - 16s 166ms/step - loss: 1.1397 - accuracy: 0.6463 - val_loss: 1.0575 - val_accuracy: 0.6716\n",
      "Epoch 4/10\n",
      "96/96 [==============================] - 16s 166ms/step - loss: 1.0022 - accuracy: 0.6858 - val_loss: 0.9497 - val_accuracy: 0.7214\n",
      "Epoch 5/10\n",
      "96/96 [==============================] - 16s 166ms/step - loss: 0.9087 - accuracy: 0.7141 - val_loss: 0.8773 - val_accuracy: 0.7566\n",
      "Epoch 6/10\n",
      "96/96 [==============================] - 16s 166ms/step - loss: 0.8401 - accuracy: 0.7376 - val_loss: 0.8281 - val_accuracy: 0.7713\n",
      "Epoch 7/10\n",
      "96/96 [==============================] - 16s 166ms/step - loss: 0.7886 - accuracy: 0.7565 - val_loss: 0.7873 - val_accuracy: 0.7801\n",
      "Epoch 8/10\n",
      "96/96 [==============================] - 16s 167ms/step - loss: 0.7453 - accuracy: 0.7637 - val_loss: 0.7537 - val_accuracy: 0.7830\n",
      "Epoch 9/10\n",
      "96/96 [==============================] - 16s 167ms/step - loss: 0.7094 - accuracy: 0.7757 - val_loss: 0.7299 - val_accuracy: 0.7859\n",
      "Epoch 10/10\n",
      "96/96 [==============================] - 16s 167ms/step - loss: 0.6791 - accuracy: 0.7806 - val_loss: 0.7060 - val_accuracy: 0.7889\n",
      "\n",
      "\n",
      "0.001\n",
      "WARNING:tensorflow:sample_weight modes were coerced from\n",
      "  ...\n",
      "    to  \n",
      "  ['...']\n",
      "WARNING:tensorflow:sample_weight modes were coerced from\n",
      "  ...\n",
      "    to  \n",
      "  ['...']\n",
      "Train for 96 steps, validate for 11 steps\n",
      "Epoch 1/10\n",
      "96/96 [==============================] - 20s 204ms/step - loss: 1.1293 - accuracy: 0.6199 - val_loss: 0.7179 - val_accuracy: 0.7625\n",
      "Epoch 2/10\n",
      "96/96 [==============================] - 16s 166ms/step - loss: 0.6555 - accuracy: 0.7761 - val_loss: 0.6018 - val_accuracy: 0.8035\n",
      "Epoch 3/10\n",
      "96/96 [==============================] - 16s 166ms/step - loss: 0.5239 - accuracy: 0.8230 - val_loss: 0.5708 - val_accuracy: 0.8094\n",
      "Epoch 4/10\n",
      "96/96 [==============================] - 16s 166ms/step - loss: 0.4409 - accuracy: 0.8553 - val_loss: 0.5574 - val_accuracy: 0.8035\n",
      "Epoch 5/10\n",
      "96/96 [==============================] - 16s 167ms/step - loss: 0.3796 - accuracy: 0.8820 - val_loss: 0.5373 - val_accuracy: 0.8152\n",
      "Epoch 6/10\n",
      "96/96 [==============================] - 16s 167ms/step - loss: 0.3307 - accuracy: 0.9029 - val_loss: 0.5273 - val_accuracy: 0.8270\n",
      "Epoch 7/10\n",
      "96/96 [==============================] - 16s 167ms/step - loss: 0.2973 - accuracy: 0.9153 - val_loss: 0.5111 - val_accuracy: 0.8152\n",
      "Epoch 8/10\n",
      "96/96 [==============================] - 16s 167ms/step - loss: 0.2657 - accuracy: 0.9316 - val_loss: 0.5245 - val_accuracy: 0.8006\n",
      "Epoch 9/10\n",
      "96/96 [==============================] - 16s 168ms/step - loss: 0.2394 - accuracy: 0.9426 - val_loss: 0.5233 - val_accuracy: 0.8299\n",
      "Epoch 10/10\n",
      "96/96 [==============================] - 16s 168ms/step - loss: 0.2137 - accuracy: 0.9505 - val_loss: 0.5017 - val_accuracy: 0.8240\n",
      "\n",
      "\n",
      "0.01\n",
      "WARNING:tensorflow:sample_weight modes were coerced from\n",
      "  ...\n",
      "    to  \n",
      "  ['...']\n",
      "WARNING:tensorflow:sample_weight modes were coerced from\n",
      "  ...\n",
      "    to  \n",
      "  ['...']\n",
      "Train for 96 steps, validate for 11 steps\n",
      "Epoch 1/10\n",
      "96/96 [==============================] - 20s 209ms/step - loss: 1.1734 - accuracy: 0.6701 - val_loss: 1.0102 - val_accuracy: 0.7390\n",
      "Epoch 2/10\n",
      "96/96 [==============================] - 16s 166ms/step - loss: 0.5969 - accuracy: 0.8129 - val_loss: 0.8572 - val_accuracy: 0.7771\n",
      "Epoch 3/10\n",
      "96/96 [==============================] - 16s 167ms/step - loss: 0.3137 - accuracy: 0.8902 - val_loss: 0.7792 - val_accuracy: 0.7947\n",
      "Epoch 4/10\n",
      "96/96 [==============================] - 16s 166ms/step - loss: 0.2034 - accuracy: 0.9273 - val_loss: 0.9025 - val_accuracy: 0.7859\n",
      "Epoch 5/10\n",
      "96/96 [==============================] - 16s 166ms/step - loss: 0.1677 - accuracy: 0.9423 - val_loss: 0.9980 - val_accuracy: 0.7713\n",
      "Epoch 6/10\n",
      "96/96 [==============================] - 16s 166ms/step - loss: 0.2104 - accuracy: 0.9205 - val_loss: 1.0246 - val_accuracy: 0.8123\n",
      "Epoch 7/10\n",
      "96/96 [==============================] - 16s 166ms/step - loss: 0.1228 - accuracy: 0.9615 - val_loss: 0.9585 - val_accuracy: 0.8094\n",
      "Epoch 8/10\n",
      "96/96 [==============================] - 16s 167ms/step - loss: 0.0779 - accuracy: 0.9743 - val_loss: 0.8759 - val_accuracy: 0.8123\n",
      "Epoch 9/10\n",
      "96/96 [==============================] - 16s 166ms/step - loss: 0.0651 - accuracy: 0.9791 - val_loss: 0.8844 - val_accuracy: 0.8211\n",
      "Epoch 10/10\n",
      "96/96 [==============================] - 16s 167ms/step - loss: 0.0619 - accuracy: 0.9817 - val_loss: 1.0551 - val_accuracy: 0.7889\n",
      "\n",
      "\n",
      "0.1\n",
      "WARNING:tensorflow:sample_weight modes were coerced from\n",
      "  ...\n",
      "    to  \n",
      "  ['...']\n",
      "WARNING:tensorflow:sample_weight modes were coerced from\n",
      "  ...\n",
      "    to  \n",
      "  ['...']\n",
      "Train for 96 steps, validate for 11 steps\n",
      "Epoch 1/10\n",
      "96/96 [==============================] - 20s 203ms/step - loss: 10.4920 - accuracy: 0.6327 - val_loss: 6.0144 - val_accuracy: 0.7537\n",
      "Epoch 2/10\n",
      "96/96 [==============================] - 16s 166ms/step - loss: 5.2193 - accuracy: 0.7744 - val_loss: 7.3142 - val_accuracy: 0.7566\n",
      "Epoch 3/10\n",
      "96/96 [==============================] - 16s 166ms/step - loss: 3.4999 - accuracy: 0.8387 - val_loss: 8.0551 - val_accuracy: 0.7683\n",
      "Epoch 4/10\n",
      "96/96 [==============================] - 16s 166ms/step - loss: 2.9493 - accuracy: 0.8625 - val_loss: 9.5917 - val_accuracy: 0.7507\n",
      "Epoch 5/10\n",
      "96/96 [==============================] - 16s 166ms/step - loss: 2.4901 - accuracy: 0.8814 - val_loss: 9.1683 - val_accuracy: 0.7507\n",
      "Epoch 6/10\n",
      "96/96 [==============================] - 16s 166ms/step - loss: 2.1291 - accuracy: 0.9016 - val_loss: 9.2850 - val_accuracy: 0.7654\n",
      "Epoch 7/10\n",
      "96/96 [==============================] - 16s 166ms/step - loss: 1.4794 - accuracy: 0.9185 - val_loss: 10.4883 - val_accuracy: 0.7566\n",
      "Epoch 8/10\n",
      "96/96 [==============================] - 16s 166ms/step - loss: 1.4156 - accuracy: 0.9211 - val_loss: 11.8833 - val_accuracy: 0.7742\n",
      "Epoch 9/10\n",
      "96/96 [==============================] - 16s 167ms/step - loss: 1.1350 - accuracy: 0.9400 - val_loss: 10.6944 - val_accuracy: 0.7625\n",
      "Epoch 10/10\n",
      "96/96 [==============================] - 16s 167ms/step - loss: 1.1251 - accuracy: 0.9475 - val_loss: 8.6116 - val_accuracy: 0.7889\n"
     ]
    }
   ],
   "source": [
    "scores = {}\n",
    "\n",
    "for lr in [0.0001, 0.001, 0.01, 0.1]:\n",
    "    print(lr)\n",
    "\n",
    "    model = make_model(learning_rate=lr)\n",
    "    history = model.fit(train_ds, epochs=10, validation_data=val_ds)\n",
    "    scores[lr] = history.history\n",
    "\n",
    "    print()\n",
    "    print()"
   ]
  },
  {
   "cell_type": "code",
   "execution_count": 65,
   "id": "e5329752",
   "metadata": {},
   "outputs": [],
   "source": [
    "del scores[0.1]\n",
    "del scores[0.0001]"
   ]
  },
  {
   "cell_type": "code",
   "execution_count": 68,
   "id": "14096c8e",
   "metadata": {},
   "outputs": [
    {
     "data": {
      "text/plain": [
       "<matplotlib.legend.Legend at 0x7fe0acceac88>"
      ]
     },
     "execution_count": 68,
     "metadata": {},
     "output_type": "execute_result"
    },
    {
     "data": {
      "image/png": "[encoded data removed]",
      "text/plain": [
       "<Figure size 432x288 with 1 Axes>"
      ]
     },
     "metadata": {
      "needs_background": "light"
     },
     "output_type": "display_data"
    }
   ],
   "source": [
    "for lr, hist in scores.items():\n",
    "    #plt.plot(hist['accuracy'], label=('train=%s' % lr))\n",
    "    plt.plot(hist['val_accuracy'], label=('val=%s' % lr))\n",
    "\n",
    "plt.xticks(np.arange(10))\n",
    "plt.legend()"
   ]
  },
  {
   "cell_type": "code",
   "execution_count": null,
   "id": "3d77b040",
   "metadata": {},
   "outputs": [],
   "source": [
    "learning_rate = 0.001"
   ]
  },
  {
   "cell_type": "markdown",
   "id": "8f906434",
   "metadata": {},
   "source": [
    "## Checkpointing"
   ]
  },
  {
   "cell_type": "code",
   "execution_count": 70,
   "id": "137f8135",
   "metadata": {},
   "outputs": [],
   "source": [
    "model.save_weights('model_v1.h5', save_format='h5')"
   ]
  },
  {
   "cell_type": "code",
   "execution_count": 21,
   "id": "13755c3d",
   "metadata": {},
   "outputs": [],
   "source": [
    "chechpoint = keras.callbacks.ModelCheckpoint(\n",
    "    'xception_v1_{epoch:02d}_{val_accuracy:.3f}.h5',\n",
    "    save_best_only=True,\n",
    "    monitor='val_accuracy',\n",
    "    mode='max'\n",
    ")"
   ]
  },
  {
   "cell_type": "code",
   "execution_count": 79,
   "id": "45a5689f",
   "metadata": {
    "scrolled": true
   },
   "outputs": [
    {
     "name": "stdout",
     "output_type": "stream",
     "text": [
      "WARNING:tensorflow:sample_weight modes were coerced from\n",
      "  ...\n",
      "    to  \n",
      "  ['...']\n",
      "WARNING:tensorflow:sample_weight modes were coerced from\n",
      "  ...\n",
      "    to  \n",
      "  ['...']\n",
      "Train for 96 steps, validate for 11 steps\n",
      "Epoch 1/10\n",
      "96/96 [==============================] - 21s 216ms/step - loss: 1.1353 - accuracy: 0.6170 - val_loss: 0.7258 - val_accuracy: 0.7801\n",
      "Epoch 2/10\n",
      "96/96 [==============================] - 16s 168ms/step - loss: 0.6469 - accuracy: 0.7735 - val_loss: 0.6332 - val_accuracy: 0.7859\n",
      "Epoch 3/10\n",
      "96/96 [==============================] - 16s 169ms/step - loss: 0.5182 - accuracy: 0.8243 - val_loss: 0.5905 - val_accuracy: 0.8094\n",
      "Epoch 4/10\n",
      "96/96 [==============================] - 16s 170ms/step - loss: 0.4390 - accuracy: 0.8553 - val_loss: 0.5550 - val_accuracy: 0.8152\n",
      "Epoch 5/10\n",
      "96/96 [==============================] - 16s 170ms/step - loss: 0.3827 - accuracy: 0.8827 - val_loss: 0.5437 - val_accuracy: 0.8211\n",
      "Epoch 6/10\n",
      "96/96 [==============================] - 16s 170ms/step - loss: 0.3342 - accuracy: 0.8990 - val_loss: 0.5319 - val_accuracy: 0.8358\n",
      "Epoch 7/10\n",
      "96/96 [==============================] - 16s 166ms/step - loss: 0.2978 - accuracy: 0.9149 - val_loss: 0.5169 - val_accuracy: 0.8299\n",
      "Epoch 8/10\n",
      "96/96 [==============================] - 16s 166ms/step - loss: 0.2652 - accuracy: 0.9283 - val_loss: 0.5422 - val_accuracy: 0.8299\n",
      "Epoch 9/10\n",
      "96/96 [==============================] - 16s 166ms/step - loss: 0.2419 - accuracy: 0.9387 - val_loss: 0.5234 - val_accuracy: 0.8211\n",
      "Epoch 10/10\n",
      "96/96 [==============================] - 16s 166ms/step - loss: 0.2157 - accuracy: 0.9498 - val_loss: 0.5320 - val_accuracy: 0.8328\n"
     ]
    }
   ],
   "source": [
    "learning_rate = 0.001\n",
    "\n",
    "model = make_model(learning_rate=learning_rate)\n",
    "\n",
    "history = model.fit(\n",
    "    train_ds,\n",
    "    epochs=10,\n",
    "    validation_data=val_ds,\n",
    "    callbacks=[chechpoint]\n",
    ")"
   ]
  },
  {
   "cell_type": "markdown",
   "id": "c33d7b9b",
   "metadata": {},
   "source": [
    "## Adding more layers"
   ]
  },
  {
   "cell_type": "code",
   "execution_count": 3,
   "id": "165e823a",
   "metadata": {},
   "outputs": [],
   "source": [
    "def make_model(learning_rate=0.01, size_inner=100):\n",
    "    base_model = xception.Xception(\n",
    "        weights='imagenet',\n",
    "        include_top=False,\n",
    "        input_shape=(150, 150, 3)\n",
    "    )\n",
    "\n",
    "    base_model.trainable = False\n",
    "\n",
    "    inputs = keras.Input(shape=(150, 150, 3))\n",
    "    base = base_model(inputs, training=False)\n",
    "    vectors = keras.layers.GlobalAveragePooling2D()(base)\n",
    "\n",
    "    inner = keras.layers.Dense(size_inner, activation='relu')(vectors)\n",
    "\n",
    "    outputs = keras.layers.Dense(10)(inner)\n",
    "\n",
    "    model = keras.Model(inputs, outputs)\n",
    "\n",
    "    optimizer = keras.optimizers.Adam(learning_rate=learning_rate)\n",
    "    loss = keras.losses.CategoricalCrossentropy(from_logits=True)\n",
    "\n",
    "    model.compile(\n",
    "        optimizer=optimizer,\n",
    "        loss=loss,\n",
    "        metrics=['accuracy']\n",
    "    )\n",
    "\n",
    "    return model"
   ]
  },
  {
   "cell_type": "code",
   "execution_count": 13,
   "id": "f4288d1c",
   "metadata": {
    "scrolled": true
   },
   "outputs": [
    {
     "name": "stdout",
     "output_type": "stream",
     "text": [
      "10\n",
      "Downloading data from https://github.com/fchollet/deep-learning-models/releases/download/v0.4/xception_weights_tf_dim_ordering_tf_kernels_notop.h5\n",
      "83689472/83683744 [==============================] - 1s 0us/step\n",
      "[2021-11-03 13:35:43.005 ip-172-16-64-149:21634 INFO utils.py:27] RULE_JOB_STOP_SIGNAL_FILENAME: None\n",
      "[2021-11-03 13:35:43.104 ip-172-16-64-149:21634 INFO profiler_config_parser.py:111] Unable to find config at /opt/ml/input/config/profilerconfig.json. Profiler is disabled.\n",
      "WARNING:tensorflow:sample_weight modes were coerced from\n",
      "  ...\n",
      "    to  \n",
      "  ['...']\n",
      "WARNING:tensorflow:sample_weight modes were coerced from\n",
      "  ...\n",
      "    to  \n",
      "  ['...']\n",
      "Train for 96 steps, validate for 11 steps\n",
      "Epoch 1/10\n",
      "96/96 [==============================] - 42s 438ms/step - loss: 1.1849 - accuracy: 0.6033 - val_loss: 0.8076 - val_accuracy: 0.7243\n",
      "Epoch 2/10\n",
      "96/96 [==============================] - 16s 169ms/step - loss: 0.7314 - accuracy: 0.7474 - val_loss: 0.7305 - val_accuracy: 0.7507\n",
      "Epoch 3/10\n",
      "96/96 [==============================] - 16s 169ms/step - loss: 0.5834 - accuracy: 0.8018 - val_loss: 0.6308 - val_accuracy: 0.7889\n",
      "Epoch 4/10\n",
      "96/96 [==============================] - 16s 170ms/step - loss: 0.4878 - accuracy: 0.8370 - val_loss: 0.6715 - val_accuracy: 0.7859\n",
      "Epoch 5/10\n",
      "96/96 [==============================] - 16s 170ms/step - loss: 0.4128 - accuracy: 0.8647 - val_loss: 0.5720 - val_accuracy: 0.8094\n",
      "Epoch 6/10\n",
      "96/96 [==============================] - 16s 170ms/step - loss: 0.3512 - accuracy: 0.8980 - val_loss: 0.5757 - val_accuracy: 0.8152\n",
      "Epoch 7/10\n",
      "96/96 [==============================] - 16s 171ms/step - loss: 0.3043 - accuracy: 0.9091 - val_loss: 0.5484 - val_accuracy: 0.8152\n",
      "Epoch 8/10\n",
      "96/96 [==============================] - 16s 172ms/step - loss: 0.2564 - accuracy: 0.9306 - val_loss: 0.5492 - val_accuracy: 0.7918\n",
      "Epoch 9/10\n",
      "96/96 [==============================] - 16s 171ms/step - loss: 0.2220 - accuracy: 0.9459 - val_loss: 0.5523 - val_accuracy: 0.7977\n",
      "Epoch 10/10\n",
      "96/96 [==============================] - 16s 172ms/step - loss: 0.2006 - accuracy: 0.9462 - val_loss: 0.5594 - val_accuracy: 0.8152\n",
      "\n",
      "\n",
      "100\n",
      "WARNING:tensorflow:sample_weight modes were coerced from\n",
      "  ...\n",
      "    to  \n",
      "  ['...']\n",
      "WARNING:tensorflow:sample_weight modes were coerced from\n",
      "  ...\n",
      "    to  \n",
      "  ['...']\n",
      "Train for 96 steps, validate for 11 steps\n",
      "Epoch 1/10\n",
      "96/96 [==============================] - 20s 208ms/step - loss: 0.9623 - accuracy: 0.6819 - val_loss: 0.6446 - val_accuracy: 0.7801\n",
      "Epoch 2/10\n",
      "96/96 [==============================] - 17s 173ms/step - loss: 0.4784 - accuracy: 0.8341 - val_loss: 0.6494 - val_accuracy: 0.7918\n",
      "Epoch 3/10\n",
      "96/96 [==============================] - 17s 172ms/step - loss: 0.3548 - accuracy: 0.8752 - val_loss: 0.6583 - val_accuracy: 0.7830\n",
      "Epoch 4/10\n",
      "96/96 [==============================] - 17s 172ms/step - loss: 0.2430 - accuracy: 0.9166 - val_loss: 0.6221 - val_accuracy: 0.8006\n",
      "Epoch 5/10\n",
      "96/96 [==============================] - 17s 172ms/step - loss: 0.1873 - accuracy: 0.9413 - val_loss: 0.6345 - val_accuracy: 0.8035\n",
      "Epoch 6/10\n",
      "96/96 [==============================] - 17s 172ms/step - loss: 0.1431 - accuracy: 0.9566 - val_loss: 0.6523 - val_accuracy: 0.8065\n",
      "Epoch 7/10\n",
      "96/96 [==============================] - 16s 172ms/step - loss: 0.1153 - accuracy: 0.9700 - val_loss: 0.8347 - val_accuracy: 0.7713\n",
      "Epoch 8/10\n",
      "96/96 [==============================] - 17s 172ms/step - loss: 0.0802 - accuracy: 0.9795 - val_loss: 0.7221 - val_accuracy: 0.7859\n",
      "Epoch 9/10\n",
      "96/96 [==============================] - 17s 172ms/step - loss: 0.0647 - accuracy: 0.9870 - val_loss: 0.7199 - val_accuracy: 0.8152\n",
      "Epoch 10/10\n",
      "96/96 [==============================] - 17s 172ms/step - loss: 0.0518 - accuracy: 0.9922 - val_loss: 0.7012 - val_accuracy: 0.8123\n",
      "\n",
      "\n",
      "1000\n",
      "WARNING:tensorflow:sample_weight modes were coerced from\n",
      "  ...\n",
      "    to  \n",
      "  ['...']\n",
      "WARNING:tensorflow:sample_weight modes were coerced from\n",
      "  ...\n",
      "    to  \n",
      "  ['...']\n",
      "Train for 96 steps, validate for 11 steps\n",
      "Epoch 1/10\n",
      "96/96 [==============================] - 20s 208ms/step - loss: 1.5152 - accuracy: 0.6633 - val_loss: 0.9100 - val_accuracy: 0.7771\n",
      "Epoch 2/10\n",
      "96/96 [==============================] - 16s 172ms/step - loss: 0.5736 - accuracy: 0.8237 - val_loss: 0.7562 - val_accuracy: 0.7830\n",
      "Epoch 3/10\n",
      "96/96 [==============================] - 16s 171ms/step - loss: 0.4004 - accuracy: 0.8703 - val_loss: 0.9595 - val_accuracy: 0.7507\n",
      "Epoch 4/10\n",
      "96/96 [==============================] - 16s 171ms/step - loss: 0.2576 - accuracy: 0.9065 - val_loss: 0.7193 - val_accuracy: 0.8065\n",
      "Epoch 5/10\n",
      "96/96 [==============================] - 16s 171ms/step - loss: 0.1669 - accuracy: 0.9410 - val_loss: 0.8278 - val_accuracy: 0.7977\n",
      "Epoch 6/10\n",
      "96/96 [==============================] - 17s 174ms/step - loss: 0.1255 - accuracy: 0.9563 - val_loss: 0.8112 - val_accuracy: 0.8035\n",
      "Epoch 7/10\n",
      "96/96 [==============================] - 16s 171ms/step - loss: 0.1177 - accuracy: 0.9596 - val_loss: 0.8148 - val_accuracy: 0.8123\n",
      "Epoch 8/10\n",
      "96/96 [==============================] - 16s 171ms/step - loss: 0.1825 - accuracy: 0.9342 - val_loss: 0.9044 - val_accuracy: 0.7889\n",
      "Epoch 9/10\n",
      "96/96 [==============================] - 16s 171ms/step - loss: 0.1303 - accuracy: 0.9537 - val_loss: 1.0076 - val_accuracy: 0.7859\n",
      "Epoch 10/10\n",
      "96/96 [==============================] - 16s 172ms/step - loss: 0.0891 - accuracy: 0.9694 - val_loss: 1.1218 - val_accuracy: 0.8006\n"
     ]
    }
   ],
   "source": [
    "learning_rate = 0.001\n",
    "\n",
    "scores = {}\n",
    "\n",
    "for size in [10, 100, 1000]:\n",
    "    print(size)\n",
    "\n",
    "    model = make_model(learning_rate=learning_rate, size_inner=size)\n",
    "    history = model.fit(train_ds, epochs=10, validation_data=val_ds)\n",
    "    scores[size] = history.history\n",
    "\n",
    "    print()\n",
    "    print()"
   ]
  },
  {
   "cell_type": "code",
   "execution_count": 16,
   "id": "b36bb404",
   "metadata": {},
   "outputs": [
    {
     "data": {
      "text/plain": [
       "<matplotlib.legend.Legend at 0x7f03ada03b00>"
      ]
     },
     "execution_count": 16,
     "metadata": {},
     "output_type": "execute_result"
    },
    {
     "data": {
      "image/png": "[encoded data removed]",
      "text/plain": [
       "<Figure size 432x288 with 1 Axes>"
      ]
     },
     "metadata": {
      "needs_background": "light"
     },
     "output_type": "display_data"
    }
   ],
   "source": [
    "for size, hist in scores.items():\n",
    "    plt.plot(hist['val_accuracy'], label=('val=%s' % size))\n",
    "\n",
    "plt.xticks(np.arange(10))\n",
    "plt.yticks([0.78, 0.80, 0.82, 0.825, 0.83])\n",
    "plt.legend()"
   ]
  },
  {
   "cell_type": "markdown",
   "id": "76c1849b",
   "metadata": {},
   "source": [
    "## Regularization and dropout"
   ]
  },
  {
   "cell_type": "code",
   "execution_count": 8,
   "id": "4ae364d9",
   "metadata": {},
   "outputs": [],
   "source": [
    "def make_model(learning_rate=0.01, size_inner=100, droprate=0.5):\n",
    "    base_model = xception.Xception(\n",
    "        weights='imagenet',\n",
    "        include_top=False,\n",
    "        input_shape=(150, 150, 3)\n",
    "    )\n",
    "\n",
    "    base_model.trainable = False\n",
    "\n",
    "    inputs = keras.Input(shape=(150, 150, 3))\n",
    "    base = base_model(inputs, training=False)\n",
    "    vectors = keras.layers.GlobalAveragePooling2D()(base)\n",
    "\n",
    "    inner = keras.layers.Dense(size_inner, activation='relu')(vectors)\n",
    "    drop = keras.layers.Dropout(droprate)(inner)\n",
    "\n",
    "    outputs = keras.layers.Dense(10)(drop)\n",
    "\n",
    "    model = keras.Model(inputs, outputs)\n",
    "\n",
    "    optimizer = keras.optimizers.Adam(learning_rate=learning_rate)\n",
    "    loss = keras.losses.CategoricalCrossentropy(from_logits=True)\n",
    "\n",
    "    model.compile(\n",
    "        optimizer=optimizer,\n",
    "        loss=loss,\n",
    "        metrics=['accuracy']\n",
    "    )\n",
    "\n",
    "    return model"
   ]
  },
  {
   "cell_type": "code",
   "execution_count": 13,
   "id": "7ee3e3d1",
   "metadata": {},
   "outputs": [
    {
     "name": "stdout",
     "output_type": "stream",
     "text": [
      "0.0\n",
      "[2021-11-03 21:19:20.707 ip-172-16-13-140:18999 INFO utils.py:27] RULE_JOB_STOP_SIGNAL_FILENAME: None\n",
      "[2021-11-03 21:19:20.814 ip-172-16-13-140:18999 INFO profiler_config_parser.py:111] Unable to find config at /opt/ml/input/config/profilerconfig.json. Profiler is disabled.\n",
      "WARNING:tensorflow:sample_weight modes were coerced from\n",
      "  ...\n",
      "    to  \n",
      "  ['...']\n",
      "WARNING:tensorflow:sample_weight modes were coerced from\n",
      "  ...\n",
      "    to  \n",
      "  ['...']\n",
      "Train for 96 steps, validate for 11 steps\n",
      "Epoch 1/30\n",
      "96/96 [==============================] - 56s 583ms/step - loss: 0.9642 - accuracy: 0.6747 - val_loss: 0.6832 - val_accuracy: 0.7566\n",
      "Epoch 2/30\n",
      "96/96 [==============================] - 15s 158ms/step - loss: 0.5163 - accuracy: 0.8230 - val_loss: 0.6058 - val_accuracy: 0.7918\n",
      "Epoch 3/30\n",
      "96/96 [==============================] - 15s 160ms/step - loss: 0.3458 - accuracy: 0.8885 - val_loss: 0.5577 - val_accuracy: 0.8270\n",
      "Epoch 4/30\n",
      "96/96 [==============================] - 15s 161ms/step - loss: 0.2575 - accuracy: 0.9218 - val_loss: 0.5166 - val_accuracy: 0.8416\n",
      "Epoch 5/30\n",
      "96/96 [==============================] - 15s 157ms/step - loss: 0.2002 - accuracy: 0.9394 - val_loss: 0.5974 - val_accuracy: 0.8152\n",
      "Epoch 6/30\n",
      "96/96 [==============================] - 15s 159ms/step - loss: 0.1322 - accuracy: 0.9684 - val_loss: 0.5695 - val_accuracy: 0.8152\n",
      "Epoch 7/30\n",
      "96/96 [==============================] - 15s 158ms/step - loss: 0.0874 - accuracy: 0.9863 - val_loss: 0.6004 - val_accuracy: 0.8152\n",
      "Epoch 8/30\n",
      "96/96 [==============================] - 15s 160ms/step - loss: 0.0674 - accuracy: 0.9902 - val_loss: 0.5810 - val_accuracy: 0.8211\n",
      "Epoch 9/30\n",
      "96/96 [==============================] - 15s 157ms/step - loss: 0.0485 - accuracy: 0.9971 - val_loss: 0.6084 - val_accuracy: 0.8270\n",
      "Epoch 10/30\n",
      "96/96 [==============================] - 15s 158ms/step - loss: 0.0326 - accuracy: 0.9987 - val_loss: 0.6066 - val_accuracy: 0.8416\n",
      "Epoch 11/30\n",
      "96/96 [==============================] - 15s 158ms/step - loss: 0.0235 - accuracy: 0.9990 - val_loss: 0.6404 - val_accuracy: 0.8152\n",
      "Epoch 12/30\n",
      "96/96 [==============================] - 15s 159ms/step - loss: 0.0229 - accuracy: 0.9990 - val_loss: 0.6242 - val_accuracy: 0.8270\n",
      "Epoch 13/30\n",
      "96/96 [==============================] - 15s 158ms/step - loss: 0.0171 - accuracy: 0.9997 - val_loss: 0.6530 - val_accuracy: 0.8328\n",
      "Epoch 14/30\n",
      "96/96 [==============================] - 15s 157ms/step - loss: 0.0130 - accuracy: 0.9997 - val_loss: 0.6650 - val_accuracy: 0.8358\n",
      "Epoch 15/30\n",
      "96/96 [==============================] - 15s 160ms/step - loss: 0.0138 - accuracy: 0.9993 - val_loss: 0.6573 - val_accuracy: 0.8328\n",
      "Epoch 16/30\n",
      "96/96 [==============================] - 15s 158ms/step - loss: 0.0117 - accuracy: 0.9993 - val_loss: 0.7331 - val_accuracy: 0.8152\n",
      "Epoch 17/30\n",
      "96/96 [==============================] - 15s 161ms/step - loss: 0.0121 - accuracy: 0.9997 - val_loss: 0.6736 - val_accuracy: 0.8270\n",
      "Epoch 18/30\n",
      "96/96 [==============================] - 15s 157ms/step - loss: 0.0105 - accuracy: 0.9993 - val_loss: 0.6732 - val_accuracy: 0.8299\n",
      "Epoch 19/30\n",
      "96/96 [==============================] - 15s 157ms/step - loss: 0.0065 - accuracy: 0.9997 - val_loss: 0.7275 - val_accuracy: 0.8240\n",
      "Epoch 20/30\n",
      "96/96 [==============================] - 15s 158ms/step - loss: 0.0087 - accuracy: 0.9997 - val_loss: 0.6873 - val_accuracy: 0.8328\n",
      "Epoch 21/30\n",
      "96/96 [==============================] - 15s 158ms/step - loss: 0.0074 - accuracy: 0.9993 - val_loss: 0.7036 - val_accuracy: 0.8387\n",
      "Epoch 22/30\n",
      "96/96 [==============================] - 16s 162ms/step - loss: 0.0048 - accuracy: 0.9997 - val_loss: 0.7190 - val_accuracy: 0.8358\n",
      "Epoch 23/30\n",
      "96/96 [==============================] - 15s 159ms/step - loss: 0.0062 - accuracy: 0.9997 - val_loss: 0.7420 - val_accuracy: 0.8240\n",
      "Epoch 24/30\n",
      "96/96 [==============================] - 15s 158ms/step - loss: 0.0089 - accuracy: 0.9990 - val_loss: 0.7259 - val_accuracy: 0.8358\n",
      "Epoch 25/30\n",
      "96/96 [==============================] - 15s 159ms/step - loss: 0.0092 - accuracy: 0.9987 - val_loss: 0.7479 - val_accuracy: 0.8299\n",
      "Epoch 26/30\n",
      "96/96 [==============================] - 16s 163ms/step - loss: 0.0033 - accuracy: 0.9997 - val_loss: 0.7662 - val_accuracy: 0.8358\n",
      "Epoch 27/30\n",
      "96/96 [==============================] - 16s 165ms/step - loss: 0.0097 - accuracy: 0.9987 - val_loss: 0.8429 - val_accuracy: 0.8211\n",
      "Epoch 28/30\n",
      "96/96 [==============================] - 15s 159ms/step - loss: 0.0072 - accuracy: 0.9990 - val_loss: 0.8050 - val_accuracy: 0.8358\n",
      "Epoch 29/30\n",
      "96/96 [==============================] - 15s 159ms/step - loss: 0.0125 - accuracy: 0.9964 - val_loss: 0.8644 - val_accuracy: 0.8152\n",
      "Epoch 30/30\n",
      "96/96 [==============================] - 15s 157ms/step - loss: 0.0091 - accuracy: 0.9987 - val_loss: 0.8397 - val_accuracy: 0.8358\n",
      "\n",
      "\n",
      "0.2\n",
      "WARNING:tensorflow:sample_weight modes were coerced from\n",
      "  ...\n",
      "    to  \n",
      "  ['...']\n",
      "WARNING:tensorflow:sample_weight modes were coerced from\n",
      "  ...\n",
      "    to  \n",
      "  ['...']\n",
      "Train for 96 steps, validate for 11 steps\n",
      "Epoch 1/30\n",
      "96/96 [==============================] - 19s 201ms/step - loss: 1.0421 - accuracy: 0.6421 - val_loss: 0.6269 - val_accuracy: 0.8152\n",
      "Epoch 2/30\n",
      "96/96 [==============================] - 15s 157ms/step - loss: 0.5996 - accuracy: 0.7862 - val_loss: 0.5930 - val_accuracy: 0.7830\n",
      "Epoch 3/30\n",
      "96/96 [==============================] - 15s 159ms/step - loss: 0.4595 - accuracy: 0.8390 - val_loss: 0.5409 - val_accuracy: 0.8152\n",
      "Epoch 4/30\n",
      "96/96 [==============================] - 15s 159ms/step - loss: 0.3463 - accuracy: 0.8866 - val_loss: 0.4990 - val_accuracy: 0.8182\n",
      "Epoch 5/30\n",
      "96/96 [==============================] - 16s 162ms/step - loss: 0.2764 - accuracy: 0.9113 - val_loss: 0.4907 - val_accuracy: 0.8446\n",
      "Epoch 6/30\n",
      "96/96 [==============================] - 15s 160ms/step - loss: 0.2235 - accuracy: 0.9299 - val_loss: 0.5487 - val_accuracy: 0.8270\n",
      "Epoch 7/30\n",
      "96/96 [==============================] - 15s 159ms/step - loss: 0.1744 - accuracy: 0.9505 - val_loss: 0.5264 - val_accuracy: 0.8152\n",
      "Epoch 8/30\n",
      "96/96 [==============================] - 16s 162ms/step - loss: 0.1422 - accuracy: 0.9645 - val_loss: 0.5496 - val_accuracy: 0.8299\n",
      "Epoch 9/30\n",
      "96/96 [==============================] - 16s 162ms/step - loss: 0.1153 - accuracy: 0.9690 - val_loss: 0.5453 - val_accuracy: 0.8152\n",
      "Epoch 10/30\n",
      "96/96 [==============================] - 15s 159ms/step - loss: 0.0955 - accuracy: 0.9769 - val_loss: 0.5783 - val_accuracy: 0.8152\n",
      "Epoch 11/30\n",
      "96/96 [==============================] - 15s 160ms/step - loss: 0.0775 - accuracy: 0.9834 - val_loss: 0.5469 - val_accuracy: 0.8270\n",
      "Epoch 12/30\n",
      "96/96 [==============================] - 15s 158ms/step - loss: 0.0595 - accuracy: 0.9886 - val_loss: 0.5578 - val_accuracy: 0.8446\n",
      "Epoch 13/30\n",
      "96/96 [==============================] - 15s 159ms/step - loss: 0.0514 - accuracy: 0.9922 - val_loss: 0.6008 - val_accuracy: 0.8416\n",
      "Epoch 14/30\n",
      "96/96 [==============================] - 15s 161ms/step - loss: 0.0491 - accuracy: 0.9909 - val_loss: 0.5807 - val_accuracy: 0.8358\n",
      "Epoch 15/30\n",
      "96/96 [==============================] - 15s 160ms/step - loss: 0.0407 - accuracy: 0.9948 - val_loss: 0.6196 - val_accuracy: 0.8270\n",
      "Epoch 16/30\n",
      "96/96 [==============================] - 15s 159ms/step - loss: 0.0384 - accuracy: 0.9928 - val_loss: 0.6152 - val_accuracy: 0.8387\n",
      "Epoch 17/30\n",
      "96/96 [==============================] - 15s 158ms/step - loss: 0.0330 - accuracy: 0.9935 - val_loss: 0.5942 - val_accuracy: 0.8416\n",
      "Epoch 18/30\n",
      "96/96 [==============================] - 15s 158ms/step - loss: 0.0286 - accuracy: 0.9932 - val_loss: 0.7247 - val_accuracy: 0.8152\n",
      "Epoch 19/30\n",
      "96/96 [==============================] - 15s 160ms/step - loss: 0.0319 - accuracy: 0.9941 - val_loss: 0.6897 - val_accuracy: 0.8387\n",
      "Epoch 20/30\n",
      "96/96 [==============================] - 15s 160ms/step - loss: 0.0289 - accuracy: 0.9941 - val_loss: 0.6490 - val_accuracy: 0.8270\n",
      "Epoch 21/30\n",
      "96/96 [==============================] - 15s 161ms/step - loss: 0.0329 - accuracy: 0.9928 - val_loss: 0.7535 - val_accuracy: 0.8152\n",
      "Epoch 22/30\n",
      "96/96 [==============================] - 15s 160ms/step - loss: 0.0310 - accuracy: 0.9938 - val_loss: 0.6456 - val_accuracy: 0.8270\n",
      "Epoch 23/30\n",
      "96/96 [==============================] - 15s 161ms/step - loss: 0.0259 - accuracy: 0.9954 - val_loss: 0.7003 - val_accuracy: 0.8328\n",
      "Epoch 24/30\n",
      "96/96 [==============================] - 15s 159ms/step - loss: 0.0195 - accuracy: 0.9961 - val_loss: 0.7779 - val_accuracy: 0.8094\n",
      "Epoch 25/30\n",
      "96/96 [==============================] - 15s 160ms/step - loss: 0.0291 - accuracy: 0.9932 - val_loss: 0.8031 - val_accuracy: 0.8065\n",
      "Epoch 26/30\n",
      "96/96 [==============================] - 15s 159ms/step - loss: 0.0256 - accuracy: 0.9932 - val_loss: 0.7989 - val_accuracy: 0.8182\n",
      "Epoch 27/30\n",
      "96/96 [==============================] - 15s 161ms/step - loss: 0.0254 - accuracy: 0.9935 - val_loss: 0.7228 - val_accuracy: 0.8416\n",
      "Epoch 28/30\n",
      "96/96 [==============================] - 15s 161ms/step - loss: 0.0217 - accuracy: 0.9948 - val_loss: 0.7898 - val_accuracy: 0.8094\n",
      "Epoch 29/30\n",
      "96/96 [==============================] - 15s 161ms/step - loss: 0.0190 - accuracy: 0.9964 - val_loss: 0.8253 - val_accuracy: 0.8152\n",
      "Epoch 30/30\n",
      "96/96 [==============================] - 15s 158ms/step - loss: 0.0267 - accuracy: 0.9928 - val_loss: 0.8274 - val_accuracy: 0.8065\n",
      "\n",
      "\n",
      "0.5\n",
      "WARNING:tensorflow:sample_weight modes were coerced from\n",
      "  ...\n",
      "    to  \n",
      "  ['...']\n",
      "WARNING:tensorflow:sample_weight modes were coerced from\n",
      "  ...\n",
      "    to  \n",
      "  ['...']\n",
      "Train for 96 steps, validate for 11 steps\n",
      "Epoch 1/30\n",
      "96/96 [==============================] - 19s 201ms/step - loss: 1.3015 - accuracy: 0.5668 - val_loss: 0.7597 - val_accuracy: 0.7302\n",
      "Epoch 2/30\n",
      "96/96 [==============================] - 15s 159ms/step - loss: 0.8380 - accuracy: 0.7190 - val_loss: 0.6347 - val_accuracy: 0.7977\n",
      "Epoch 3/30\n",
      "96/96 [==============================] - 15s 160ms/step - loss: 0.6791 - accuracy: 0.7598 - val_loss: 0.5996 - val_accuracy: 0.8035\n",
      "Epoch 4/30\n",
      "96/96 [==============================] - 16s 163ms/step - loss: 0.5698 - accuracy: 0.8044 - val_loss: 0.5472 - val_accuracy: 0.8152\n",
      "Epoch 5/30\n",
      "96/96 [==============================] - 15s 159ms/step - loss: 0.4974 - accuracy: 0.8331 - val_loss: 0.5318 - val_accuracy: 0.8240\n",
      "Epoch 6/30\n",
      "96/96 [==============================] - 16s 162ms/step - loss: 0.4530 - accuracy: 0.8429 - val_loss: 0.5004 - val_accuracy: 0.8387\n",
      "Epoch 7/30\n",
      "96/96 [==============================] - 15s 161ms/step - loss: 0.3973 - accuracy: 0.8664 - val_loss: 0.5179 - val_accuracy: 0.8211\n",
      "Epoch 8/30\n",
      "96/96 [==============================] - 16s 162ms/step - loss: 0.3331 - accuracy: 0.8866 - val_loss: 0.5019 - val_accuracy: 0.8328\n",
      "Epoch 9/30\n",
      "96/96 [==============================] - 15s 160ms/step - loss: 0.3214 - accuracy: 0.8869 - val_loss: 0.5001 - val_accuracy: 0.8270\n",
      "Epoch 10/30\n",
      "96/96 [==============================] - 16s 162ms/step - loss: 0.2866 - accuracy: 0.9035 - val_loss: 0.5753 - val_accuracy: 0.8123\n",
      "Epoch 11/30\n",
      "96/96 [==============================] - 15s 161ms/step - loss: 0.2766 - accuracy: 0.9045 - val_loss: 0.5196 - val_accuracy: 0.8328\n",
      "Epoch 12/30\n",
      "96/96 [==============================] - 16s 163ms/step - loss: 0.2353 - accuracy: 0.9188 - val_loss: 0.5102 - val_accuracy: 0.8416\n",
      "Epoch 13/30\n",
      "96/96 [==============================] - 15s 161ms/step - loss: 0.2174 - accuracy: 0.9241 - val_loss: 0.5461 - val_accuracy: 0.8270\n",
      "Epoch 14/30\n",
      "96/96 [==============================] - 15s 159ms/step - loss: 0.1872 - accuracy: 0.9345 - val_loss: 0.5343 - val_accuracy: 0.8416\n",
      "Epoch 15/30\n",
      "96/96 [==============================] - 15s 159ms/step - loss: 0.1835 - accuracy: 0.9384 - val_loss: 0.5541 - val_accuracy: 0.8299\n",
      "Epoch 16/30\n",
      "96/96 [==============================] - 15s 158ms/step - loss: 0.1647 - accuracy: 0.9505 - val_loss: 0.5677 - val_accuracy: 0.8240\n",
      "Epoch 17/30\n",
      "96/96 [==============================] - 15s 160ms/step - loss: 0.1602 - accuracy: 0.9475 - val_loss: 0.5600 - val_accuracy: 0.8387\n",
      "Epoch 18/30\n",
      "96/96 [==============================] - 15s 158ms/step - loss: 0.1437 - accuracy: 0.9550 - val_loss: 0.5300 - val_accuracy: 0.8270\n",
      "Epoch 19/30\n",
      "96/96 [==============================] - 15s 160ms/step - loss: 0.1383 - accuracy: 0.9550 - val_loss: 0.5526 - val_accuracy: 0.8358\n",
      "Epoch 20/30\n",
      "96/96 [==============================] - 15s 159ms/step - loss: 0.1418 - accuracy: 0.9495 - val_loss: 0.5425 - val_accuracy: 0.8446\n",
      "Epoch 21/30\n",
      "96/96 [==============================] - 15s 159ms/step - loss: 0.1214 - accuracy: 0.9615 - val_loss: 0.5780 - val_accuracy: 0.8534\n",
      "Epoch 22/30\n",
      "96/96 [==============================] - 15s 159ms/step - loss: 0.0991 - accuracy: 0.9684 - val_loss: 0.6000 - val_accuracy: 0.8358\n",
      "Epoch 23/30\n",
      "96/96 [==============================] - 15s 158ms/step - loss: 0.1028 - accuracy: 0.9664 - val_loss: 0.5995 - val_accuracy: 0.8065\n",
      "Epoch 24/30\n",
      "96/96 [==============================] - 15s 160ms/step - loss: 0.0974 - accuracy: 0.9674 - val_loss: 0.6249 - val_accuracy: 0.8094\n",
      "Epoch 25/30\n",
      "96/96 [==============================] - 15s 160ms/step - loss: 0.1086 - accuracy: 0.9602 - val_loss: 0.5936 - val_accuracy: 0.8299\n",
      "Epoch 26/30\n",
      "96/96 [==============================] - 15s 158ms/step - loss: 0.0951 - accuracy: 0.9697 - val_loss: 0.6485 - val_accuracy: 0.8240\n",
      "Epoch 27/30\n",
      "96/96 [==============================] - 16s 162ms/step - loss: 0.0916 - accuracy: 0.9694 - val_loss: 0.5958 - val_accuracy: 0.8328\n",
      "Epoch 28/30\n",
      "96/96 [==============================] - 16s 163ms/step - loss: 0.0821 - accuracy: 0.9729 - val_loss: 0.6749 - val_accuracy: 0.8328\n",
      "Epoch 29/30\n",
      "96/96 [==============================] - 15s 159ms/step - loss: 0.1033 - accuracy: 0.9602 - val_loss: 0.6781 - val_accuracy: 0.8270\n",
      "Epoch 30/30\n",
      "96/96 [==============================] - 15s 161ms/step - loss: 0.0970 - accuracy: 0.9645 - val_loss: 0.6907 - val_accuracy: 0.8299\n",
      "\n",
      "\n",
      "0.8\n",
      "WARNING:tensorflow:Large dropout rate: 0.8 (>0.5). In TensorFlow 2.x, dropout() uses dropout rate instead of keep_prob. Please ensure that this is intended.\n",
      "WARNING:tensorflow:sample_weight modes were coerced from\n",
      "  ...\n",
      "    to  \n",
      "  ['...']\n",
      "WARNING:tensorflow:sample_weight modes were coerced from\n",
      "  ...\n",
      "    to  \n",
      "  ['...']\n",
      "Train for 96 steps, validate for 11 steps\n",
      "Epoch 1/30\n",
      "WARNING:tensorflow:Large dropout rate: 0.8 (>0.5). In TensorFlow 2.x, dropout() uses dropout rate instead of keep_prob. Please ensure that this is intended.\n",
      "WARNING:tensorflow:Large dropout rate: 0.8 (>0.5). In TensorFlow 2.x, dropout() uses dropout rate instead of keep_prob. Please ensure that this is intended.\n",
      "96/96 [==============================] - 19s 199ms/step - loss: 1.8235 - accuracy: 0.3879 - val_loss: 1.1518 - val_accuracy: 0.6158\n",
      "Epoch 2/30\n",
      "96/96 [==============================] - 15s 157ms/step - loss: 1.4182 - accuracy: 0.5010 - val_loss: 0.9966 - val_accuracy: 0.7155\n",
      "Epoch 3/30\n",
      "96/96 [==============================] - 15s 159ms/step - loss: 1.2934 - accuracy: 0.5310 - val_loss: 0.8925 - val_accuracy: 0.7331\n",
      "Epoch 4/30\n",
      "96/96 [==============================] - 15s 159ms/step - loss: 1.2507 - accuracy: 0.5417 - val_loss: 0.8229 - val_accuracy: 0.7683\n",
      "Epoch 5/30\n",
      "96/96 [==============================] - 15s 158ms/step - loss: 1.1791 - accuracy: 0.5818 - val_loss: 0.8120 - val_accuracy: 0.7537\n",
      "Epoch 6/30\n",
      "96/96 [==============================] - 15s 159ms/step - loss: 1.1207 - accuracy: 0.5896 - val_loss: 0.7615 - val_accuracy: 0.7625\n",
      "Epoch 7/30\n",
      "96/96 [==============================] - 15s 159ms/step - loss: 1.0704 - accuracy: 0.6043 - val_loss: 0.7264 - val_accuracy: 0.7918\n",
      "Epoch 8/30\n",
      "96/96 [==============================] - 15s 158ms/step - loss: 1.0273 - accuracy: 0.6261 - val_loss: 0.6978 - val_accuracy: 0.7742\n",
      "Epoch 9/30\n",
      "96/96 [==============================] - 15s 158ms/step - loss: 1.0470 - accuracy: 0.6102 - val_loss: 0.7046 - val_accuracy: 0.7918\n",
      "Epoch 10/30\n",
      "96/96 [==============================] - 15s 158ms/step - loss: 0.9995 - accuracy: 0.6157 - val_loss: 0.6775 - val_accuracy: 0.7947\n",
      "Epoch 11/30\n",
      "96/96 [==============================] - 15s 161ms/step - loss: 0.9725 - accuracy: 0.6375 - val_loss: 0.6745 - val_accuracy: 0.7977\n",
      "Epoch 12/30\n",
      "96/96 [==============================] - 15s 158ms/step - loss: 0.9577 - accuracy: 0.6323 - val_loss: 0.6670 - val_accuracy: 0.7918\n",
      "Epoch 13/30\n",
      "96/96 [==============================] - 16s 163ms/step - loss: 0.9401 - accuracy: 0.6392 - val_loss: 0.6382 - val_accuracy: 0.7918\n",
      "Epoch 14/30\n",
      "96/96 [==============================] - 15s 161ms/step - loss: 0.9195 - accuracy: 0.6477 - val_loss: 0.6157 - val_accuracy: 0.8065\n",
      "Epoch 15/30\n",
      "96/96 [==============================] - 16s 163ms/step - loss: 0.8835 - accuracy: 0.6662 - val_loss: 0.6243 - val_accuracy: 0.8006\n",
      "Epoch 16/30\n",
      "96/96 [==============================] - 15s 158ms/step - loss: 0.8784 - accuracy: 0.6591 - val_loss: 0.6263 - val_accuracy: 0.7889\n",
      "Epoch 17/30\n",
      "96/96 [==============================] - 15s 158ms/step - loss: 0.8439 - accuracy: 0.6780 - val_loss: 0.6110 - val_accuracy: 0.8035\n",
      "Epoch 18/30\n",
      "96/96 [==============================] - 15s 159ms/step - loss: 0.8262 - accuracy: 0.6757 - val_loss: 0.6072 - val_accuracy: 0.8065\n",
      "Epoch 19/30\n",
      "96/96 [==============================] - 15s 159ms/step - loss: 0.8425 - accuracy: 0.6698 - val_loss: 0.6029 - val_accuracy: 0.8094\n",
      "Epoch 20/30\n",
      "96/96 [==============================] - 15s 159ms/step - loss: 0.8072 - accuracy: 0.6913 - val_loss: 0.6007 - val_accuracy: 0.7889\n",
      "Epoch 21/30\n",
      "96/96 [==============================] - 16s 164ms/step - loss: 0.8056 - accuracy: 0.6920 - val_loss: 0.5905 - val_accuracy: 0.8035\n",
      "Epoch 22/30\n",
      "96/96 [==============================] - 16s 163ms/step - loss: 0.7889 - accuracy: 0.6842 - val_loss: 0.5832 - val_accuracy: 0.8035\n",
      "Epoch 23/30\n",
      "96/96 [==============================] - 16s 164ms/step - loss: 0.7635 - accuracy: 0.6965 - val_loss: 0.6038 - val_accuracy: 0.8094\n",
      "Epoch 24/30\n",
      "96/96 [==============================] - 15s 159ms/step - loss: 0.7756 - accuracy: 0.6962 - val_loss: 0.5772 - val_accuracy: 0.8065\n",
      "Epoch 25/30\n",
      "96/96 [==============================] - 15s 159ms/step - loss: 0.7670 - accuracy: 0.6995 - val_loss: 0.6003 - val_accuracy: 0.8094\n",
      "Epoch 26/30\n",
      "96/96 [==============================] - 15s 158ms/step - loss: 0.7333 - accuracy: 0.7066 - val_loss: 0.5757 - val_accuracy: 0.8211\n",
      "Epoch 27/30\n",
      "96/96 [==============================] - 15s 161ms/step - loss: 0.7398 - accuracy: 0.7080 - val_loss: 0.5493 - val_accuracy: 0.8240\n",
      "Epoch 28/30\n",
      "96/96 [==============================] - 16s 162ms/step - loss: 0.7143 - accuracy: 0.7171 - val_loss: 0.5323 - val_accuracy: 0.8328\n",
      "Epoch 29/30\n",
      "96/96 [==============================] - 16s 162ms/step - loss: 0.7117 - accuracy: 0.7122 - val_loss: 0.5473 - val_accuracy: 0.8094\n",
      "Epoch 30/30\n",
      "96/96 [==============================] - 16s 165ms/step - loss: 0.6907 - accuracy: 0.7256 - val_loss: 0.5628 - val_accuracy: 0.8299\n"
     ]
    }
   ],
   "source": [
    "learning_rate = 0.001\n",
    "size = 100\n",
    "\n",
    "scores = {}\n",
    "\n",
    "for droprate in [0.0, 0.2, 0.5, 0.8]:\n",
    "    print(droprate)\n",
    "\n",
    "    model = make_model(\n",
    "        learning_rate=learning_rate,\n",
    "        size_inner=size,\n",
    "        droprate=droprate\n",
    "    )\n",
    "\n",
    "    history = model.fit(train_ds, epochs=30, validation_data=val_ds)\n",
    "    scores[droprate] = history.history"
   ]
  },
  {
   "cell_type": "code",
   "execution_count": 16,
   "id": "53b2b5c0",
   "metadata": {},
   "outputs": [
    {
     "data": {
      "text/plain": [
       "<matplotlib.legend.Legend at 0x7feda76a0b38>"
      ]
     },
     "execution_count": 16,
     "metadata": {},
     "output_type": "execute_result"
    },
    {
     "data": {
      "image/png": "[encoded data removed]",
      "text/plain": [
       "<Figure size 432x288 with 1 Axes>"
      ]
     },
     "metadata": {
      "needs_background": "light"
     },
     "output_type": "display_data"
    }
   ],
   "source": [
    "for droprate, hist in scores.items():\n",
    "    plt.plot(hist['val_accuracy'], label=('val=%s' % droprate))\n",
    "\n",
    "plt.ylim(0.78, 0.86)\n",
    "plt.legend()"
   ]
  },
  {
   "cell_type": "code",
   "execution_count": 23,
   "id": "f0690ae1",
   "metadata": {
    "scrolled": true
   },
   "outputs": [
    {
     "data": {
      "text/plain": [
       "<matplotlib.legend.Legend at 0x7feda74902e8>"
      ]
     },
     "execution_count": 23,
     "metadata": {},
     "output_type": "execute_result"
    },
    {
     "data": {
      "image/png": "[encoded data removed]",
      "text/plain": [
       "<Figure size 432x288 with 1 Axes>"
      ]
     },
     "metadata": {
      "needs_background": "light"
     },
     "output_type": "display_data"
    }
   ],
   "source": [
    "hist = scores[0.0]\n",
    "plt.plot(hist['val_accuracy'], label=0.0)\n",
    "\n",
    "hist = scores[0.2]\n",
    "plt.plot(hist['val_accuracy'], label=0.2)\n",
    "\n",
    "plt.legend()\n",
    "#plt.plot(hist['accuracy'], label=('val=%s' % droprate))"
   ]
  },
  {
   "cell_type": "markdown",
   "id": "e042866c",
   "metadata": {},
   "source": [
    "## Data augmentation"
   ]
  },
  {
   "cell_type": "code",
   "execution_count": 17,
   "id": "b689b785",
   "metadata": {},
   "outputs": [
    {
     "name": "stdout",
     "output_type": "stream",
     "text": [
      "Found 3068 images belonging to 10 classes.\n",
      "Found 341 images belonging to 10 classes.\n"
     ]
    }
   ],
   "source": [
    "train_gen = ImageDataGenerator(\n",
    "    preprocessing_function=xception.preprocess_input,\n",
    ")\n",
    "\n",
    "train_ds = train_gen.flow_from_directory(\n",
    "    './clothing-dataset-small/train',\n",
    "    target_size=(150, 150),\n",
    "    batch_size=32\n",
    ")\n",
    "\n",
    "val_gen = ImageDataGenerator(preprocessing_function=xception.preprocess_input)\n",
    "\n",
    "val_ds = val_gen.flow_from_directory(\n",
    "    './clothing-dataset-small/validation',\n",
    "    target_size=(150, 150),\n",
    "    batch_size=32,\n",
    "    shuffle=False\n",
    ")"
   ]
  },
  {
   "cell_type": "code",
   "execution_count": 18,
   "id": "928cb784",
   "metadata": {
    "scrolled": true
   },
   "outputs": [
    {
     "name": "stdout",
     "output_type": "stream",
     "text": [
      "WARNING:tensorflow:sample_weight modes were coerced from\n",
      "  ...\n",
      "    to  \n",
      "  ['...']\n",
      "WARNING:tensorflow:sample_weight modes were coerced from\n",
      "  ...\n",
      "    to  \n",
      "  ['...']\n",
      "Train for 96 steps, validate for 11 steps\n",
      "Epoch 1/50\n",
      "96/96 [==============================] - 19s 200ms/step - loss: 1.0738 - accuracy: 0.6346 - val_loss: 0.6670 - val_accuracy: 0.7859\n",
      "Epoch 2/50\n",
      "96/96 [==============================] - 16s 162ms/step - loss: 0.6210 - accuracy: 0.7846 - val_loss: 0.5732 - val_accuracy: 0.8182\n",
      "Epoch 3/50\n",
      "96/96 [==============================] - 16s 162ms/step - loss: 0.4573 - accuracy: 0.8387 - val_loss: 0.5620 - val_accuracy: 0.8182\n",
      "Epoch 4/50\n",
      "96/96 [==============================] - 15s 161ms/step - loss: 0.3637 - accuracy: 0.8797 - val_loss: 0.5376 - val_accuracy: 0.8094\n",
      "Epoch 5/50\n",
      "96/96 [==============================] - 16s 162ms/step - loss: 0.2951 - accuracy: 0.9042 - val_loss: 0.5465 - val_accuracy: 0.8065\n",
      "Epoch 6/50\n",
      "96/96 [==============================] - 16s 162ms/step - loss: 0.2348 - accuracy: 0.9283 - val_loss: 0.6016 - val_accuracy: 0.7918\n",
      "Epoch 7/50\n",
      "96/96 [==============================] - 16s 163ms/step - loss: 0.1910 - accuracy: 0.9446 - val_loss: 0.5404 - val_accuracy: 0.8299\n",
      "Epoch 8/50\n",
      "96/96 [==============================] - 16s 162ms/step - loss: 0.1439 - accuracy: 0.9589 - val_loss: 0.5493 - val_accuracy: 0.8182\n",
      "Epoch 9/50\n",
      "96/96 [==============================] - 16s 163ms/step - loss: 0.1177 - accuracy: 0.9690 - val_loss: 0.5867 - val_accuracy: 0.8328\n",
      "Epoch 10/50\n",
      "96/96 [==============================] - 16s 163ms/step - loss: 0.1066 - accuracy: 0.9736 - val_loss: 0.5887 - val_accuracy: 0.8240\n",
      "Epoch 11/50\n",
      "96/96 [==============================] - 16s 164ms/step - loss: 0.0842 - accuracy: 0.9821 - val_loss: 0.6101 - val_accuracy: 0.8240\n",
      "Epoch 12/50\n",
      "83/96 [========================>.....] - ETA: 1s - loss: 0.0721 - accuracy: 0.9832"
     ]
    },
    {
     "ename": "KeyboardInterrupt",
     "evalue": "",
     "output_type": "error",
     "traceback": [
      "\u001B[0;31m---------------------------------------------------------------------------\u001B[0m",
      "\u001B[0;31mKeyboardInterrupt\u001B[0m                         Traceback (most recent call last)",
      "\u001B[0;32m<ipython-input-18-e333a961bbf9>\u001B[0m in \u001B[0;36m<module>\u001B[0;34m\u001B[0m\n\u001B[1;32m      9\u001B[0m )\n\u001B[1;32m     10\u001B[0m \u001B[0;34m\u001B[0m\u001B[0m\n\u001B[0;32m---> 11\u001B[0;31m \u001B[0mhistory\u001B[0m \u001B[0;34m=\u001B[0m \u001B[0mmodel\u001B[0m\u001B[0;34m.\u001B[0m\u001B[0mfit\u001B[0m\u001B[0;34m(\u001B[0m\u001B[0mtrain_ds\u001B[0m\u001B[0;34m,\u001B[0m \u001B[0mepochs\u001B[0m\u001B[0;34m=\u001B[0m\u001B[0;36m50\u001B[0m\u001B[0;34m,\u001B[0m \u001B[0mvalidation_data\u001B[0m\u001B[0;34m=\u001B[0m\u001B[0mval_ds\u001B[0m\u001B[0;34m)\u001B[0m\u001B[0;34m\u001B[0m\u001B[0;34m\u001B[0m\u001B[0m\n\u001B[0m",
      "\u001B[0;32m~/anaconda3/envs/tensorflow2_p36/lib/python3.6/site-packages/tensorflow_core/python/keras/engine/training.py\u001B[0m in \u001B[0;36mfit\u001B[0;34m(self, x, y, batch_size, epochs, verbose, callbacks, validation_split, validation_data, shuffle, class_weight, sample_weight, initial_epoch, steps_per_epoch, validation_steps, validation_freq, max_queue_size, workers, use_multiprocessing, **kwargs)\u001B[0m\n\u001B[1;32m    823\u001B[0m         \u001B[0mmax_queue_size\u001B[0m\u001B[0;34m=\u001B[0m\u001B[0mmax_queue_size\u001B[0m\u001B[0;34m,\u001B[0m\u001B[0;34m\u001B[0m\u001B[0;34m\u001B[0m\u001B[0m\n\u001B[1;32m    824\u001B[0m         \u001B[0mworkers\u001B[0m\u001B[0;34m=\u001B[0m\u001B[0mworkers\u001B[0m\u001B[0;34m,\u001B[0m\u001B[0;34m\u001B[0m\u001B[0;34m\u001B[0m\u001B[0m\n\u001B[0;32m--> 825\u001B[0;31m         use_multiprocessing=use_multiprocessing)\n\u001B[0m\u001B[1;32m    826\u001B[0m \u001B[0;34m\u001B[0m\u001B[0m\n\u001B[1;32m    827\u001B[0m   def evaluate(self,\n",
      "\u001B[0;32m~/anaconda3/envs/tensorflow2_p36/lib/python3.6/site-packages/tensorflow_core/python/keras/engine/training_v2.py\u001B[0m in \u001B[0;36mfit\u001B[0;34m(self, model, x, y, batch_size, epochs, verbose, callbacks, validation_split, validation_data, shuffle, class_weight, sample_weight, initial_epoch, steps_per_epoch, validation_steps, validation_freq, max_queue_size, workers, use_multiprocessing, **kwargs)\u001B[0m\n\u001B[1;32m    340\u001B[0m                 \u001B[0mmode\u001B[0m\u001B[0;34m=\u001B[0m\u001B[0mModeKeys\u001B[0m\u001B[0;34m.\u001B[0m\u001B[0mTRAIN\u001B[0m\u001B[0;34m,\u001B[0m\u001B[0;34m\u001B[0m\u001B[0;34m\u001B[0m\u001B[0m\n\u001B[1;32m    341\u001B[0m                 \u001B[0mtraining_context\u001B[0m\u001B[0;34m=\u001B[0m\u001B[0mtraining_context\u001B[0m\u001B[0;34m,\u001B[0m\u001B[0;34m\u001B[0m\u001B[0;34m\u001B[0m\u001B[0m\n\u001B[0;32m--> 342\u001B[0;31m                 total_epochs=epochs)\n\u001B[0m\u001B[1;32m    343\u001B[0m             \u001B[0mcbks\u001B[0m\u001B[0;34m.\u001B[0m\u001B[0mmake_logs\u001B[0m\u001B[0;34m(\u001B[0m\u001B[0mmodel\u001B[0m\u001B[0;34m,\u001B[0m \u001B[0mepoch_logs\u001B[0m\u001B[0;34m,\u001B[0m \u001B[0mtraining_result\u001B[0m\u001B[0;34m,\u001B[0m \u001B[0mModeKeys\u001B[0m\u001B[0;34m.\u001B[0m\u001B[0mTRAIN\u001B[0m\u001B[0;34m)\u001B[0m\u001B[0;34m\u001B[0m\u001B[0;34m\u001B[0m\u001B[0m\n\u001B[1;32m    344\u001B[0m \u001B[0;34m\u001B[0m\u001B[0m\n",
      "\u001B[0;32m~/anaconda3/envs/tensorflow2_p36/lib/python3.6/site-packages/tensorflow_core/python/keras/engine/training_v2.py\u001B[0m in \u001B[0;36mrun_one_epoch\u001B[0;34m(model, iterator, execution_function, dataset_size, batch_size, strategy, steps_per_epoch, num_samples, mode, training_context, total_epochs)\u001B[0m\n\u001B[1;32m    126\u001B[0m         step=step, mode=mode, size=current_batch_size) as batch_logs:\n\u001B[1;32m    127\u001B[0m       \u001B[0;32mtry\u001B[0m\u001B[0;34m:\u001B[0m\u001B[0;34m\u001B[0m\u001B[0;34m\u001B[0m\u001B[0m\n\u001B[0;32m--> 128\u001B[0;31m         \u001B[0mbatch_outs\u001B[0m \u001B[0;34m=\u001B[0m \u001B[0mexecution_function\u001B[0m\u001B[0;34m(\u001B[0m\u001B[0miterator\u001B[0m\u001B[0;34m)\u001B[0m\u001B[0;34m\u001B[0m\u001B[0;34m\u001B[0m\u001B[0m\n\u001B[0m\u001B[1;32m    129\u001B[0m       \u001B[0;32mexcept\u001B[0m \u001B[0;34m(\u001B[0m\u001B[0mStopIteration\u001B[0m\u001B[0;34m,\u001B[0m \u001B[0merrors\u001B[0m\u001B[0;34m.\u001B[0m\u001B[0mOutOfRangeError\u001B[0m\u001B[0;34m)\u001B[0m\u001B[0;34m:\u001B[0m\u001B[0;34m\u001B[0m\u001B[0;34m\u001B[0m\u001B[0m\n\u001B[1;32m    130\u001B[0m         \u001B[0;31m# TODO(kaftan): File bug about tf function and errors.OutOfRangeError?\u001B[0m\u001B[0;34m\u001B[0m\u001B[0;34m\u001B[0m\u001B[0;34m\u001B[0m\u001B[0m\n",
      "\u001B[0;32m~/anaconda3/envs/tensorflow2_p36/lib/python3.6/site-packages/tensorflow_core/python/keras/engine/training_v2_utils.py\u001B[0m in \u001B[0;36mexecution_function\u001B[0;34m(input_fn)\u001B[0m\n\u001B[1;32m     96\u001B[0m     \u001B[0;31m# `numpy` translates Tensors to values in Eager mode.\u001B[0m\u001B[0;34m\u001B[0m\u001B[0;34m\u001B[0m\u001B[0;34m\u001B[0m\u001B[0m\n\u001B[1;32m     97\u001B[0m     return nest.map_structure(_non_none_constant_value,\n\u001B[0;32m---> 98\u001B[0;31m                               distributed_function(input_fn))\n\u001B[0m\u001B[1;32m     99\u001B[0m \u001B[0;34m\u001B[0m\u001B[0m\n\u001B[1;32m    100\u001B[0m   \u001B[0;32mreturn\u001B[0m \u001B[0mexecution_function\u001B[0m\u001B[0;34m\u001B[0m\u001B[0;34m\u001B[0m\u001B[0m\n",
      "\u001B[0;32m~/anaconda3/envs/tensorflow2_p36/lib/python3.6/site-packages/tensorflow_core/python/eager/def_function.py\u001B[0m in \u001B[0;36m__call__\u001B[0;34m(self, *args, **kwds)\u001B[0m\n\u001B[1;32m    566\u001B[0m         \u001B[0mxla_context\u001B[0m\u001B[0;34m.\u001B[0m\u001B[0mExit\u001B[0m\u001B[0;34m(\u001B[0m\u001B[0;34m)\u001B[0m\u001B[0;34m\u001B[0m\u001B[0;34m\u001B[0m\u001B[0m\n\u001B[1;32m    567\u001B[0m     \u001B[0;32melse\u001B[0m\u001B[0;34m:\u001B[0m\u001B[0;34m\u001B[0m\u001B[0;34m\u001B[0m\u001B[0m\n\u001B[0;32m--> 568\u001B[0;31m       \u001B[0mresult\u001B[0m \u001B[0;34m=\u001B[0m \u001B[0mself\u001B[0m\u001B[0;34m.\u001B[0m\u001B[0m_call\u001B[0m\u001B[0;34m(\u001B[0m\u001B[0;34m*\u001B[0m\u001B[0margs\u001B[0m\u001B[0;34m,\u001B[0m \u001B[0;34m**\u001B[0m\u001B[0mkwds\u001B[0m\u001B[0;34m)\u001B[0m\u001B[0;34m\u001B[0m\u001B[0;34m\u001B[0m\u001B[0m\n\u001B[0m\u001B[1;32m    569\u001B[0m \u001B[0;34m\u001B[0m\u001B[0m\n\u001B[1;32m    570\u001B[0m     \u001B[0;32mif\u001B[0m \u001B[0mtracing_count\u001B[0m \u001B[0;34m==\u001B[0m \u001B[0mself\u001B[0m\u001B[0;34m.\u001B[0m\u001B[0m_get_tracing_count\u001B[0m\u001B[0;34m(\u001B[0m\u001B[0;34m)\u001B[0m\u001B[0;34m:\u001B[0m\u001B[0;34m\u001B[0m\u001B[0;34m\u001B[0m\u001B[0m\n",
      "\u001B[0;32m~/anaconda3/envs/tensorflow2_p36/lib/python3.6/site-packages/tensorflow_core/python/eager/def_function.py\u001B[0m in \u001B[0;36m_call\u001B[0;34m(self, *args, **kwds)\u001B[0m\n\u001B[1;32m    597\u001B[0m       \u001B[0;31m# In this case we have created variables on the first call, so we run the\u001B[0m\u001B[0;34m\u001B[0m\u001B[0;34m\u001B[0m\u001B[0;34m\u001B[0m\u001B[0m\n\u001B[1;32m    598\u001B[0m       \u001B[0;31m# defunned version which is guaranteed to never create variables.\u001B[0m\u001B[0;34m\u001B[0m\u001B[0;34m\u001B[0m\u001B[0;34m\u001B[0m\u001B[0m\n\u001B[0;32m--> 599\u001B[0;31m       \u001B[0;32mreturn\u001B[0m \u001B[0mself\u001B[0m\u001B[0;34m.\u001B[0m\u001B[0m_stateless_fn\u001B[0m\u001B[0;34m(\u001B[0m\u001B[0;34m*\u001B[0m\u001B[0margs\u001B[0m\u001B[0;34m,\u001B[0m \u001B[0;34m**\u001B[0m\u001B[0mkwds\u001B[0m\u001B[0;34m)\u001B[0m  \u001B[0;31m# pylint: disable=not-callable\u001B[0m\u001B[0;34m\u001B[0m\u001B[0;34m\u001B[0m\u001B[0m\n\u001B[0m\u001B[1;32m    600\u001B[0m     \u001B[0;32melif\u001B[0m \u001B[0mself\u001B[0m\u001B[0;34m.\u001B[0m\u001B[0m_stateful_fn\u001B[0m \u001B[0;32mis\u001B[0m \u001B[0;32mnot\u001B[0m \u001B[0;32mNone\u001B[0m\u001B[0;34m:\u001B[0m\u001B[0;34m\u001B[0m\u001B[0;34m\u001B[0m\u001B[0m\n\u001B[1;32m    601\u001B[0m       \u001B[0;31m# Release the lock early so that multiple threads can perform the call\u001B[0m\u001B[0;34m\u001B[0m\u001B[0;34m\u001B[0m\u001B[0;34m\u001B[0m\u001B[0m\n",
      "\u001B[0;32m~/anaconda3/envs/tensorflow2_p36/lib/python3.6/site-packages/tensorflow_core/python/eager/function.py\u001B[0m in \u001B[0;36m__call__\u001B[0;34m(self, *args, **kwargs)\u001B[0m\n\u001B[1;32m   2361\u001B[0m     \u001B[0;32mwith\u001B[0m \u001B[0mself\u001B[0m\u001B[0;34m.\u001B[0m\u001B[0m_lock\u001B[0m\u001B[0;34m:\u001B[0m\u001B[0;34m\u001B[0m\u001B[0;34m\u001B[0m\u001B[0m\n\u001B[1;32m   2362\u001B[0m       \u001B[0mgraph_function\u001B[0m\u001B[0;34m,\u001B[0m \u001B[0margs\u001B[0m\u001B[0;34m,\u001B[0m \u001B[0mkwargs\u001B[0m \u001B[0;34m=\u001B[0m \u001B[0mself\u001B[0m\u001B[0;34m.\u001B[0m\u001B[0m_maybe_define_function\u001B[0m\u001B[0;34m(\u001B[0m\u001B[0margs\u001B[0m\u001B[0;34m,\u001B[0m \u001B[0mkwargs\u001B[0m\u001B[0;34m)\u001B[0m\u001B[0;34m\u001B[0m\u001B[0;34m\u001B[0m\u001B[0m\n\u001B[0;32m-> 2363\u001B[0;31m     \u001B[0;32mreturn\u001B[0m \u001B[0mgraph_function\u001B[0m\u001B[0;34m.\u001B[0m\u001B[0m_filtered_call\u001B[0m\u001B[0;34m(\u001B[0m\u001B[0margs\u001B[0m\u001B[0;34m,\u001B[0m \u001B[0mkwargs\u001B[0m\u001B[0;34m)\u001B[0m  \u001B[0;31m# pylint: disable=protected-access\u001B[0m\u001B[0;34m\u001B[0m\u001B[0;34m\u001B[0m\u001B[0m\n\u001B[0m\u001B[1;32m   2364\u001B[0m \u001B[0;34m\u001B[0m\u001B[0m\n\u001B[1;32m   2365\u001B[0m   \u001B[0;34m@\u001B[0m\u001B[0mproperty\u001B[0m\u001B[0;34m\u001B[0m\u001B[0;34m\u001B[0m\u001B[0m\n",
      "\u001B[0;32m~/anaconda3/envs/tensorflow2_p36/lib/python3.6/site-packages/tensorflow_core/python/eager/function.py\u001B[0m in \u001B[0;36m_filtered_call\u001B[0;34m(self, args, kwargs)\u001B[0m\n\u001B[1;32m   1609\u001B[0m          if isinstance(t, (ops.Tensor,\n\u001B[1;32m   1610\u001B[0m                            resource_variable_ops.BaseResourceVariable))),\n\u001B[0;32m-> 1611\u001B[0;31m         self.captured_inputs)\n\u001B[0m\u001B[1;32m   1612\u001B[0m \u001B[0;34m\u001B[0m\u001B[0m\n\u001B[1;32m   1613\u001B[0m   \u001B[0;32mdef\u001B[0m \u001B[0m_call_flat\u001B[0m\u001B[0;34m(\u001B[0m\u001B[0mself\u001B[0m\u001B[0;34m,\u001B[0m \u001B[0margs\u001B[0m\u001B[0;34m,\u001B[0m \u001B[0mcaptured_inputs\u001B[0m\u001B[0;34m,\u001B[0m \u001B[0mcancellation_manager\u001B[0m\u001B[0;34m=\u001B[0m\u001B[0;32mNone\u001B[0m\u001B[0;34m)\u001B[0m\u001B[0;34m:\u001B[0m\u001B[0;34m\u001B[0m\u001B[0;34m\u001B[0m\u001B[0m\n",
      "\u001B[0;32m~/anaconda3/envs/tensorflow2_p36/lib/python3.6/site-packages/tensorflow_core/python/eager/function.py\u001B[0m in \u001B[0;36m_call_flat\u001B[0;34m(self, args, captured_inputs, cancellation_manager)\u001B[0m\n\u001B[1;32m   1690\u001B[0m       \u001B[0;31m# No tape is watching; skip to running the function.\u001B[0m\u001B[0;34m\u001B[0m\u001B[0;34m\u001B[0m\u001B[0;34m\u001B[0m\u001B[0m\n\u001B[1;32m   1691\u001B[0m       return self._build_call_outputs(self._inference_function.call(\n\u001B[0;32m-> 1692\u001B[0;31m           ctx, args, cancellation_manager=cancellation_manager))\n\u001B[0m\u001B[1;32m   1693\u001B[0m     forward_backward = self._select_forward_and_backward_functions(\n\u001B[1;32m   1694\u001B[0m         \u001B[0margs\u001B[0m\u001B[0;34m,\u001B[0m\u001B[0;34m\u001B[0m\u001B[0;34m\u001B[0m\u001B[0m\n",
      "\u001B[0;32m~/anaconda3/envs/tensorflow2_p36/lib/python3.6/site-packages/tensorflow_core/python/eager/function.py\u001B[0m in \u001B[0;36mcall\u001B[0;34m(self, ctx, args, cancellation_manager)\u001B[0m\n\u001B[1;32m    543\u001B[0m               \u001B[0minputs\u001B[0m\u001B[0;34m=\u001B[0m\u001B[0margs\u001B[0m\u001B[0;34m,\u001B[0m\u001B[0;34m\u001B[0m\u001B[0;34m\u001B[0m\u001B[0m\n\u001B[1;32m    544\u001B[0m               \u001B[0mattrs\u001B[0m\u001B[0;34m=\u001B[0m\u001B[0;34m(\u001B[0m\u001B[0;34m\"executor_type\"\u001B[0m\u001B[0;34m,\u001B[0m \u001B[0mexecutor_type\u001B[0m\u001B[0;34m,\u001B[0m \u001B[0;34m\"config_proto\"\u001B[0m\u001B[0;34m,\u001B[0m \u001B[0mconfig\u001B[0m\u001B[0;34m)\u001B[0m\u001B[0;34m,\u001B[0m\u001B[0;34m\u001B[0m\u001B[0;34m\u001B[0m\u001B[0m\n\u001B[0;32m--> 545\u001B[0;31m               ctx=ctx)\n\u001B[0m\u001B[1;32m    546\u001B[0m         \u001B[0;32melse\u001B[0m\u001B[0;34m:\u001B[0m\u001B[0;34m\u001B[0m\u001B[0;34m\u001B[0m\u001B[0m\n\u001B[1;32m    547\u001B[0m           outputs = execute.execute_with_cancellation(\n",
      "\u001B[0;32m~/anaconda3/envs/tensorflow2_p36/lib/python3.6/site-packages/tensorflow_core/python/eager/execute.py\u001B[0m in \u001B[0;36mquick_execute\u001B[0;34m(op_name, num_outputs, inputs, attrs, ctx, name)\u001B[0m\n\u001B[1;32m     59\u001B[0m     tensors = pywrap_tensorflow.TFE_Py_Execute(ctx._handle, device_name,\n\u001B[1;32m     60\u001B[0m                                                \u001B[0mop_name\u001B[0m\u001B[0;34m,\u001B[0m \u001B[0minputs\u001B[0m\u001B[0;34m,\u001B[0m \u001B[0mattrs\u001B[0m\u001B[0;34m,\u001B[0m\u001B[0;34m\u001B[0m\u001B[0;34m\u001B[0m\u001B[0m\n\u001B[0;32m---> 61\u001B[0;31m                                                num_outputs)\n\u001B[0m\u001B[1;32m     62\u001B[0m   \u001B[0;32mexcept\u001B[0m \u001B[0mcore\u001B[0m\u001B[0;34m.\u001B[0m\u001B[0m_NotOkStatusException\u001B[0m \u001B[0;32mas\u001B[0m \u001B[0me\u001B[0m\u001B[0;34m:\u001B[0m\u001B[0;34m\u001B[0m\u001B[0;34m\u001B[0m\u001B[0m\n\u001B[1;32m     63\u001B[0m     \u001B[0;32mif\u001B[0m \u001B[0mname\u001B[0m \u001B[0;32mis\u001B[0m \u001B[0;32mnot\u001B[0m \u001B[0;32mNone\u001B[0m\u001B[0;34m:\u001B[0m\u001B[0;34m\u001B[0m\u001B[0;34m\u001B[0m\u001B[0m\n",
      "\u001B[0;31mKeyboardInterrupt\u001B[0m: "
     ]
    }
   ],
   "source": [
    "learning_rate = 0.001\n",
    "size = 100\n",
    "droprate = 0.2\n",
    "\n",
    "model = make_model(\n",
    "    learning_rate=learning_rate,\n",
    "    size_inner=size,\n",
    "    droprate=droprate\n",
    ")\n",
    "\n",
    "history = model.fit(train_ds, epochs=50, validation_data=val_ds)"
   ]
  },
  {
   "cell_type": "code",
   "execution_count": 12,
   "id": "93d7729d",
   "metadata": {},
   "outputs": [
    {
     "data": {
      "text/plain": [
       "<matplotlib.legend.Legend at 0x7fc75018f438>"
      ]
     },
     "execution_count": 12,
     "metadata": {},
     "output_type": "execute_result"
    },
    {
     "data": {
      "image/png": "[encoded data removed]",
      "text/plain": [
       "<Figure size 432x288 with 1 Axes>"
      ]
     },
     "metadata": {
      "needs_background": "light"
     },
     "output_type": "display_data"
    }
   ],
   "source": [
    "hist = history.history\n",
    "plt.plot(hist['val_accuracy'], label='val')\n",
    "plt.plot(hist['accuracy'], label='train')\n",
    "\n",
    "plt.legend()"
   ]
  }
 ],
 "metadata": {
  "kernelspec": {
   "display_name": "Python 3 (ipykernel)",
   "language": "python",
   "name": "python3"
  },
  "language_info": {
   "codemirror_mode": {
    "name": "ipython",
    "version": 3
   },
   "file_extension": ".py",
   "mimetype": "text/x-python",
   "name": "python",
   "nbconvert_exporter": "python",
   "pygments_lexer": "ipython3",
   "version": "3.9.5"
  }
 },
 "nbformat": 4,
 "nbformat_minor": 5
}
