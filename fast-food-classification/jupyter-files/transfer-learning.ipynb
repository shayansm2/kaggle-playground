{
 "cells": [
  {
   "cell_type": "code",
   "execution_count": 1,
   "id": "initial_id",
   "metadata": {},
   "outputs": [
    {
     "name": "stderr",
     "output_type": "stream",
     "text": [
      "2023-12-19 16:14:36.534610: I tensorflow/core/util/port.cc:110] oneDNN custom operations are on. You may see slightly different numerical results due to floating-point round-off errors from different computation orders. To turn them off, set the environment variable `TF_ENABLE_ONEDNN_OPTS=0`.\n",
      "2023-12-19 16:14:36.536901: I tensorflow/tsl/cuda/cudart_stub.cc:28] Could not find cuda drivers on your machine, GPU will not be used.\n",
      "2023-12-19 16:14:36.582289: I tensorflow/tsl/cuda/cudart_stub.cc:28] Could not find cuda drivers on your machine, GPU will not be used.\n",
      "2023-12-19 16:14:36.583023: I tensorflow/core/platform/cpu_feature_guard.cc:182] This TensorFlow binary is optimized to use available CPU instructions in performance-critical operations.\n",
      "To enable the following instructions: AVX2 AVX512F AVX512_VNNI FMA, in other operations, rebuild TensorFlow with the appropriate compiler flags.\n",
      "2023-12-19 16:14:37.298767: W tensorflow/compiler/tf2tensorrt/utils/py_utils.cc:38] TF-TRT Warning: Could not find TensorRT\n"
     ]
    }
   ],
   "source": [
    "import numpy as np\n",
    "import matplotlib.pyplot as plt\n",
    "\n",
    "%matplotlib inline\n",
    "import tensorflow as tf\n",
    "from tensorflow import keras"
   ]
  },
  {
   "cell_type": "markdown",
   "id": "e083ca704e5fd758",
   "metadata": {},
   "source": [
    "## data generator:"
   ]
  },
  {
   "cell_type": "code",
   "execution_count": 2,
   "id": "7e1294f6120191c8",
   "metadata": {},
   "outputs": [],
   "source": [
    "from keras.preprocessing.image import ImageDataGenerator\n",
    "from keras.applications import xception"
   ]
  },
  {
   "cell_type": "code",
   "execution_count": 3,
   "id": "3a0d64ab7862e1f0",
   "metadata": {},
   "outputs": [
    {
     "name": "stdout",
     "output_type": "stream",
     "text": [
      "Found 15000 images belonging to 10 classes.\n",
      "Found 3500 images belonging to 10 classes.\n"
     ]
    }
   ],
   "source": [
    "data_gen = ImageDataGenerator(preprocessing_function=xception.preprocess_input)\n",
    "\n",
    "train_ds = data_gen.flow_from_directory(\n",
    "    './Fast Food Classification V2/Train',\n",
    "    target_size=(100, 100),\n",
    "    batch_size=32\n",
    ")\n",
    "\n",
    "val_ds = data_gen.flow_from_directory(\n",
    "    './Fast Food Classification V2/Valid',\n",
    "    target_size=(100, 100),\n",
    "    batch_size=32\n",
    ")"
   ]
  },
  {
   "cell_type": "markdown",
   "id": "a0e6cebad974b6d8",
   "metadata": {},
   "source": [
    "## Model:"
   ]
  },
  {
   "cell_type": "code",
   "execution_count": 4,
   "id": "d5762d455f311de7",
   "metadata": {},
   "outputs": [
    {
     "name": "stderr",
     "output_type": "stream",
     "text": [
      "2023-12-19 09:07:10.870696: I tensorflow/compiler/xla/stream_executor/cuda/cuda_gpu_executor.cc:995] successful NUMA node read from SysFS had negative value (-1), but there must be at least one NUMA node, so returning NUMA node zero. See more at https://github.com/torvalds/linux/blob/v6.0/Documentation/ABI/testing/sysfs-bus-pci#L344-L355\n",
      "2023-12-19 09:07:10.905404: W tensorflow/core/common_runtime/gpu/gpu_device.cc:1960] Cannot dlopen some GPU libraries. Please make sure the missing libraries mentioned above are installed properly if you would like to use GPU. Follow the guide at https://www.tensorflow.org/install/gpu for how to download and setup the required libraries for your platform.\n",
      "Skipping registering GPU devices...\n"
     ]
    },
    {
     "name": "stdout",
     "output_type": "stream",
     "text": [
      "Downloading data from https://storage.googleapis.com/tensorflow/keras-applications/xception/xception_weights_tf_dim_ordering_tf_kernels_notop.h5\n",
      "83683744/83683744 [==============================] - 1s 0us/step\n"
     ]
    }
   ],
   "source": [
    "base_model = xception.Xception(\n",
    "    weights='imagenet',\n",
    "    include_top=False,\n",
    "    input_shape=(100, 100, 3)\n",
    ")\n",
    "\n",
    "base_model.trainable = False"
   ]
  },
  {
   "cell_type": "code",
   "execution_count": 5,
   "id": "32e6b46e02b8f30c",
   "metadata": {},
   "outputs": [],
   "source": [
    "inputs = keras.Input(shape=(100, 100, 3))\n",
    "base = base_model(inputs, training=False)\n",
    "vectors = keras.layers.GlobalAveragePooling2D()(base)\n",
    "outputs = keras.layers.Dense(10)(vectors)\n",
    "model = keras.Model(inputs, outputs)"
   ]
  },
  {
   "cell_type": "code",
   "execution_count": 6,
   "id": "e2e46987bbeaaae7",
   "metadata": {},
   "outputs": [],
   "source": [
    "learning_rate = 0.01\n",
    "optimizer = keras.optimizers.Adam(learning_rate=learning_rate)\n",
    "loss = keras.losses.CategoricalCrossentropy(from_logits=True)\n",
    "model.compile(optimizer=optimizer, loss=loss, metrics=['accuracy'])"
   ]
  },
  {
   "cell_type": "code",
   "execution_count": null,
   "id": "fe333dab8dcec159",
   "metadata": {},
   "outputs": [
    {
     "name": "stdout",
     "output_type": "stream",
     "text": [
      "Epoch 1/10\n"
     ]
    },
    {
     "name": "stderr",
     "output_type": "stream",
     "text": [
      "/opt/saturncloud/envs/saturn/lib/python3.11/site-packages/PIL/Image.py:975: UserWarning: Palette images with Transparency expressed in bytes should be converted to RGBA images\n",
      "  warnings.warn(\n"
     ]
    },
    {
     "name": "stdout",
     "output_type": "stream",
     "text": [
      "469/469 [==============================] - 330s 699ms/step - loss: 2.2339 - accuracy: 0.5501 - val_loss: 2.4473 - val_accuracy: 0.5551\n",
      "Epoch 2/10\n",
      "469/469 [==============================] - 329s 702ms/step - loss: 1.7174 - accuracy: 0.6447 - val_loss: 2.6295 - val_accuracy: 0.5637\n",
      "Epoch 3/10\n",
      "469/469 [==============================] - 331s 708ms/step - loss: 1.6808 - accuracy: 0.6710 - val_loss: 2.7399 - val_accuracy: 0.5683\n",
      "Epoch 4/10\n",
      "469/469 [==============================] - 327s 697ms/step - loss: 1.6378 - accuracy: 0.6912 - val_loss: 3.3409 - val_accuracy: 0.5463\n",
      "Epoch 5/10\n",
      "469/469 [==============================] - 339s 725ms/step - loss: 1.4511 - accuracy: 0.7151 - val_loss: 3.4345 - val_accuracy: 0.5583\n",
      "Epoch 6/10\n",
      "469/469 [==============================] - 406s 867ms/step - loss: 1.4685 - accuracy: 0.7205 - val_loss: 3.5982 - val_accuracy: 0.5549\n",
      "Epoch 7/10\n",
      "469/469 [==============================] - 327s 697ms/step - loss: 1.4326 - accuracy: 0.7280 - val_loss: 3.9481 - val_accuracy: 0.5677\n",
      "Epoch 8/10\n",
      "469/469 [==============================] - 329s 701ms/step - loss: 1.3346 - accuracy: 0.7476 - val_loss: 3.3379 - val_accuracy: 0.5786\n",
      "Epoch 9/10\n",
      "469/469 [==============================] - 333s 709ms/step - loss: 1.2708 - accuracy: 0.7529 - val_loss: 3.6795 - val_accuracy: 0.5786\n",
      "Epoch 10/10\n",
      "208/469 [============>.................] - ETA: 2:13 - loss: 1.0353 - accuracy: 0.7787"
     ]
    }
   ],
   "source": [
    "history = model.fit(train_ds, epochs=10, validation_data=val_ds)"
   ]
  },
  {
   "cell_type": "code",
   "execution_count": null,
   "id": "e885d78f",
   "metadata": {},
   "outputs": [],
   "source": [
    "keras.models.save_model(model, 'v1-xception.keras')"
   ]
  },
  {
   "cell_type": "markdown",
   "id": "81105b4e",
   "metadata": {},
   "source": [
    "---"
   ]
  },
  {
   "cell_type": "code",
   "execution_count": 4,
   "id": "f36d9522",
   "metadata": {},
   "outputs": [
    {
     "name": "stderr",
     "output_type": "stream",
     "text": [
      "2023-12-19 16:15:12.662114: I tensorflow/compiler/xla/stream_executor/cuda/cuda_gpu_executor.cc:995] successful NUMA node read from SysFS had negative value (-1), but there must be at least one NUMA node, so returning NUMA node zero. See more at https://github.com/torvalds/linux/blob/v6.0/Documentation/ABI/testing/sysfs-bus-pci#L344-L355\n",
      "2023-12-19 16:15:12.695274: W tensorflow/core/common_runtime/gpu/gpu_device.cc:1960] Cannot dlopen some GPU libraries. Please make sure the missing libraries mentioned above are installed properly if you would like to use GPU. Follow the guide at https://www.tensorflow.org/install/gpu for how to download and setup the required libraries for your platform.\n",
      "Skipping registering GPU devices...\n"
     ]
    }
   ],
   "source": [
    "modified_xception_model = keras.models.load_model('v1-xception.keras')\n",
    "# keras.models.save_model(modified_xception_model, 'v1-xception.keras')"
   ]
  },
  {
   "cell_type": "code",
   "execution_count": 5,
   "id": "132d6212",
   "metadata": {},
   "outputs": [
    {
     "name": "stdout",
     "output_type": "stream",
     "text": [
      "Model: \"model\"\n",
      "_________________________________________________________________\n",
      " Layer (type)                Output Shape              Param #   \n",
      "=================================================================\n",
      " input_2 (InputLayer)        [(None, 100, 100, 3)]     0         \n",
      "                                                                 \n",
      " xception (Functional)       (None, 3, 3, 2048)        20861480  \n",
      "                                                                 \n",
      " global_average_pooling2d (  (None, 2048)              0         \n",
      " GlobalAveragePooling2D)                                         \n",
      "                                                                 \n",
      " dense (Dense)               (None, 10)                20490     \n",
      "                                                                 \n",
      "=================================================================\n",
      "Total params: 20881970 (79.66 MB)\n",
      "Trainable params: 20490 (80.04 KB)\n",
      "Non-trainable params: 20861480 (79.58 MB)\n",
      "_________________________________________________________________\n"
     ]
    }
   ],
   "source": [
    "modified_xception_model.summary()"
   ]
  },
  {
   "cell_type": "code",
   "execution_count": 6,
   "id": "e1aedd86",
   "metadata": {},
   "outputs": [
    {
     "name": "stdout",
     "output_type": "stream",
     "text": [
      "1/1 [==============================] - 1s 1s/step\n"
     ]
    },
    {
     "data": {
      "text/plain": [
       "array([[  4.7928786 , -11.672298  ,   6.203593  , -11.354408  ,\n",
       "          7.7251086 ,  -7.755991  ,  -0.99260664,  -5.86283   ,\n",
       "          2.0686114 ,   0.9055846 ],\n",
       "       [-11.842133  ,  10.197781  , -22.110275  , -17.755285  ,\n",
       "          0.6128199 ,  25.429972  , -11.722082  ,   0.69671917,\n",
       "         -0.37566036,   4.7126384 ],\n",
       "       [ -1.4696295 ,  12.517413  ,  -7.6251607 ,  -4.2995467 ,\n",
       "        -12.292243  ,   6.701681  ,  -1.3782383 ,  18.097145  ,\n",
       "         -4.2126985 ,  -7.7437344 ],\n",
       "       [ -3.8187077 ,  -6.180215  ,  -7.4111614 , -11.581553  ,\n",
       "        -17.797405  ,  19.060682  ,  -4.219546  ,  -3.7384565 ,\n",
       "         10.752395  ,   2.5731332 ],\n",
       "       [ 11.155827  , -11.297539  ,  -6.9895797 ,  -6.4904356 ,\n",
       "          0.13787466,   4.4801903 ,  -3.247439  ,  -1.6726093 ,\n",
       "         -2.1309898 ,   2.9171565 ],\n",
       "       [ 18.59045   ,  -2.782077  ,   3.9185948 ,  -0.5755358 ,\n",
       "         -9.851805  ,   3.3013752 , -19.617939  ,  -2.6413572 ,\n",
       "          7.420755  ,   1.1178675 ],\n",
       "       [ -0.13507563,  -5.6334276 ,  -6.653361  , -29.318909  ,\n",
       "        -13.792297  ,   7.844187  ,   3.1217308 ,   5.7376633 ,\n",
       "          3.8873758 ,  13.877838  ],\n",
       "       [-14.051363  ,   1.7228899 , -11.18011   , -19.401234  ,\n",
       "        -36.629692  ,  36.538906  , -11.722887  ,  -2.013083  ,\n",
       "          3.9269369 ,   1.2274001 ],\n",
       "       [ 15.301132  , -14.834983  ,   8.868782  , -11.653228  ,\n",
       "        -18.0712    ,  -8.646715  ,  -5.3806257 ,   4.996393  ,\n",
       "          3.376186  ,   1.9841292 ],\n",
       "       [ -9.247468  ,  14.963736  , -20.015379  ,  34.898014  ,\n",
       "        -44.34715   , -14.937087  , -38.709274  ,  -8.828896  ,\n",
       "         19.147074  ,   0.63126016],\n",
       "       [  2.9554358 , -17.215906  ,   4.4109793 ,  -8.553815  ,\n",
       "         -9.485801  ,   6.0897355 ,  -3.23281   ,  -2.6350226 ,\n",
       "          4.0127435 ,   3.4591672 ],\n",
       "       [ -9.834412  ,   3.765874  , -10.914744  ,  45.899933  ,\n",
       "        -12.885097  ,  -6.3342643 , -22.5414    ,  -2.0071783 ,\n",
       "         -3.395441  , -22.296618  ],\n",
       "       [  1.2796552 , -18.383625  ,   2.104948  , -14.659015  ,\n",
       "        -13.923046  ,   3.4734495 ,  19.281975  ,   2.5305426 ,\n",
       "          3.7051668 ,   3.0173798 ],\n",
       "       [ -0.29738563,   3.9530272 ,  -2.2254603 , -13.633298  ,\n",
       "        -19.044168  ,  14.094481  , -16.452326  ,   2.4332504 ,\n",
       "          3.615206  ,  17.5006    ],\n",
       "       [ -8.474016  ,  45.98926   ,   3.208292  , -14.109793  ,\n",
       "         -4.3815603 ,  -5.1614375 , -29.992517  ,   9.144366  ,\n",
       "         -0.12239096,  -2.4839416 ],\n",
       "       [-13.354174  ,   6.874223  ,   0.16267207, -13.047022  ,\n",
       "        -11.841906  ,   5.816136  , -12.997009  ,   8.332613  ,\n",
       "          7.5800014 ,   1.5602654 ],\n",
       "       [-12.541912  ,  45.893032  ,   1.4880667 ,  -5.0212193 ,\n",
       "         -8.835255  ,  -0.5915157 , -30.511797  ,  13.829192  ,\n",
       "         -9.85625   ,  -8.394874  ],\n",
       "       [-22.082722  ,  -1.6044714 ,   4.740724  ,  -3.158439  ,\n",
       "         21.493212  ,  -2.604648  ,  -4.382718  ,  -4.3186517 ,\n",
       "          0.43770137,  -9.785792  ],\n",
       "       [  9.800513  , -12.839685  ,   4.0866866 ,  -6.9270396 ,\n",
       "         -4.425266  ,  -1.898159  ,  -6.9073267 ,  -1.8335745 ,\n",
       "         12.556516  ,   5.305801  ],\n",
       "       [  7.5249867 , -13.979764  ,  -7.950106  ,   4.113152  ,\n",
       "         -7.6083136 , -16.806036  ,  14.7502575 ,  -3.4209828 ,\n",
       "          7.558614  ,  -3.691227  ],\n",
       "       [ 11.182898  , -12.694707  ,   7.2927117 , -27.259031  ,\n",
       "         -6.98714   ,   5.323525  ,  -7.3095665 ,   4.7273316 ,\n",
       "          0.8445864 ,   1.4390731 ],\n",
       "       [-15.445769  ,   9.946321  ,   3.979134  , -15.581447  ,\n",
       "         17.248379  ,  -6.170981  ,  -4.568351  ,  -5.807344  ,\n",
       "         -6.010813  ,  -9.3217    ],\n",
       "       [-15.867716  ,  -3.6638284 , -14.079906  , -13.026578  ,\n",
       "        -18.849312  ,  12.069869  , -13.204251  ,  26.636786  ,\n",
       "          9.376035  ,  -5.7476134 ],\n",
       "       [ -6.6965737 ,   8.564418  ,   0.52510583, -10.693303  ,\n",
       "          0.5208927 ,   2.0500655 , -12.376309  ,  -1.9222851 ,\n",
       "         -5.482767  ,  12.458724  ],\n",
       "       [ -6.630653  ,  -8.684504  ,   4.596121  ,  -7.7288857 ,\n",
       "        -14.723065  ,  -8.645693  ,   0.98430955,   4.3499446 ,\n",
       "         12.890638  ,   1.7627871 ],\n",
       "       [  5.2796826 , -13.200301  ,  -5.1373773 ,  -8.08064   ,\n",
       "         -0.82155937, -10.362685  ,  24.704786  ,  -2.3568852 ,\n",
       "          4.5387926 ,  -0.53200465],\n",
       "       [-21.323864  ,   0.12697929,   1.2597499 ,  -6.649689  ,\n",
       "        -19.49177   ,  19.841427  ,   6.359452  ,  -7.7811437 ,\n",
       "         -1.6112376 ,  -5.0717325 ],\n",
       "       [-16.671885  ,  -7.304694  ,   5.447355  ,   4.649255  ,\n",
       "          0.89327604,   2.6775715 ,  -1.7717494 ,  -6.313351  ,\n",
       "          3.6379724 , -11.390607  ],\n",
       "       [-17.210104  ,  11.394189  ,  13.933978  ,   5.2695627 ,\n",
       "         -2.6854439 ,  -7.7545743 , -32.247513  ,  -0.38893268,\n",
       "          2.8751066 ,  -2.5442483 ],\n",
       "       [-11.323826  ,  -7.0885835 ,   5.7642684 , -12.212313  ,\n",
       "         -4.1331515 ,  -1.8480005 ,  -1.0438329 ,   0.35445216,\n",
       "          2.2659988 ,  12.851058  ],\n",
       "       [  1.8835301 , -11.064659  ,  15.116107  ,  -4.478292  ,\n",
       "         -7.5140038 ,  -0.61935633,  -4.6461415 ,  -2.9002128 ,\n",
       "          2.2734113 ,   2.051841  ],\n",
       "       [ -7.6539736 ,  27.503798  ,  -5.274916  ,   7.154537  ,\n",
       "         -9.788203  ,   2.9381173 , -18.978851  ,   1.7484763 ,\n",
       "         -4.434597  ,  -0.97818637]], dtype=float32)"
      ]
     },
     "execution_count": 6,
     "metadata": {},
     "output_type": "execute_result"
    }
   ],
   "source": [
    "modified_xception_model.predict(train_ds[0][0])"
   ]
  },
  {
   "cell_type": "code",
   "execution_count": null,
   "id": "6d863aadae3c14d4",
   "metadata": {},
   "outputs": [],
   "source": [
    "#plt.plot(history.history['accuracy'], label='train')\n",
    "plt.plot(history.history['val_accuracy'], label='val')\n",
    "plt.xticks(np.arange(10))\n",
    "plt.legend()"
   ]
  }
 ],
 "metadata": {
  "kernelspec": {
   "display_name": "saturn (Python 3)",
   "language": "python",
   "name": "python3"
  },
  "language_info": {
   "codemirror_mode": {
    "name": "ipython",
    "version": 3
   },
   "file_extension": ".py",
   "mimetype": "text/x-python",
   "name": "python",
   "nbconvert_exporter": "python",
   "pygments_lexer": "ipython3",
   "version": "3.11.6"
  }
 },
 "nbformat": 4,
 "nbformat_minor": 5
}
