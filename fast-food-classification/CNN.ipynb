{
 "cells": [
  {
   "cell_type": "code",
   "execution_count": null,
   "id": "initial_id",
   "metadata": {
    "collapsed": true
   },
   "outputs": [],
   "source": [
    "import numpy as np\n",
    "import matplotlib.pyplot as plt\n",
    "\n",
    "%matplotlib inline\n",
    "import tensorflow as tf\n",
    "from tensorflow import keras"
   ]
  },
  {
   "cell_type": "markdown",
   "source": [
    "## data generator:"
   ],
   "metadata": {
    "collapsed": false
   },
   "id": "e083ca704e5fd758"
  },
  {
   "cell_type": "code",
   "execution_count": null,
   "outputs": [],
   "source": [
    "from keras.preprocessing.image import ImageDataGenerator\n",
    "from keras.applications import xception"
   ],
   "metadata": {
    "collapsed": false
   },
   "id": "7e1294f6120191c8"
  },
  {
   "cell_type": "code",
   "execution_count": null,
   "outputs": [],
   "source": [
    "data_gen = ImageDataGenerator(preprocessing_function=xception.preprocess_input)\n",
    "\n",
    "train_ds = data_gen.flow_from_directory(\n",
    "    './data/Train',\n",
    "    target_size=(100, 100),\n",
    "    batch_size=32\n",
    ")\n",
    "\n",
    "val_ds = data_gen.flow_from_directory(\n",
    "    './data/Valid',\n",
    "    target_size=(100, 100),\n",
    "    batch_size=32\n",
    ")"
   ],
   "metadata": {
    "collapsed": false
   },
   "id": "3a0d64ab7862e1f0"
  },
  {
   "cell_type": "markdown",
   "source": [
    "## Model:"
   ],
   "metadata": {
    "collapsed": false
   },
   "id": "a0e6cebad974b6d8"
  },
  {
   "cell_type": "code",
   "execution_count": null,
   "outputs": [],
   "source": [
    "base_model = xception.Xception(\n",
    "    weights='imagenet',\n",
    "    include_top=False,\n",
    "    input_shape=(100, 100, 3)\n",
    ")\n",
    "\n",
    "base_model.trainable = False"
   ],
   "metadata": {
    "collapsed": false
   },
   "id": "d5762d455f311de7"
  },
  {
   "cell_type": "code",
   "execution_count": null,
   "outputs": [],
   "source": [
    "inputs = keras.Input(shape=(100, 100, 3))\n",
    "base = base_model(inputs, training=False)\n",
    "vectors = keras.layers.GlobalAveragePooling2D()(base)\n",
    "outputs = keras.layers.Dense(10)(vectors)\n",
    "model = keras.Model(inputs, outputs)"
   ],
   "metadata": {
    "collapsed": false
   },
   "id": "32e6b46e02b8f30c"
  },
  {
   "cell_type": "code",
   "execution_count": null,
   "outputs": [],
   "source": [
    "learning_rate = 0.01\n",
    "optimizer = keras.optimizers.Adam(learning_rate=learning_rate)\n",
    "loss = keras.losses.CategoricalCrossentropy(from_logits=True)\n",
    "model.compile(optimizer=optimizer, loss=loss, metrics=['accuracy'])"
   ],
   "metadata": {
    "collapsed": false
   },
   "id": "e2e46987bbeaaae7"
  },
  {
   "cell_type": "code",
   "execution_count": null,
   "outputs": [],
   "source": [
    "history = model.fit(train_ds, epochs=10, validation_data=val_ds)"
   ],
   "metadata": {
    "collapsed": false
   },
   "id": "fe333dab8dcec159"
  },
  {
   "cell_type": "code",
   "execution_count": null,
   "outputs": [],
   "source": [
    "#plt.plot(history.history['accuracy'], label='train')\n",
    "plt.plot(history.history['val_accuracy'], label='val')\n",
    "plt.xticks(np.arange(10))\n",
    "plt.legend()"
   ],
   "metadata": {
    "collapsed": false
   },
   "id": "6d863aadae3c14d4"
  }
 ],
 "metadata": {
  "kernelspec": {
   "display_name": "Python 3",
   "language": "python",
   "name": "python3"
  },
  "language_info": {
   "codemirror_mode": {
    "name": "ipython",
    "version": 2
   },
   "file_extension": ".py",
   "mimetype": "text/x-python",
   "name": "python",
   "nbconvert_exporter": "python",
   "pygments_lexer": "ipython2",
   "version": "2.7.6"
  }
 },
 "nbformat": 4,
 "nbformat_minor": 5
}
