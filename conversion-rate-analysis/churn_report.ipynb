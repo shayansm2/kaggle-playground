{
 "cells": [
  {
   "cell_type": "code",
   "execution_count": 1,
   "id": "initial_id",
   "metadata": {
    "collapsed": true,
    "ExecuteTime": {
     "end_time": "2023-09-13T14:08:44.444279Z",
     "start_time": "2023-09-13T14:08:43.313595Z"
    }
   },
   "outputs": [],
   "source": [
    "import pandas as pd\n",
    "from db import DB"
   ]
  },
  {
   "cell_type": "code",
   "execution_count": 2,
   "outputs": [],
   "source": [
    "db = DB()"
   ],
   "metadata": {
    "collapsed": false,
    "ExecuteTime": {
     "end_time": "2023-09-13T14:08:53.318965Z",
     "start_time": "2023-09-13T14:08:53.215262Z"
    }
   },
   "id": "1ebca039e76f34a"
  },
  {
   "cell_type": "code",
   "execution_count": 3,
   "outputs": [],
   "source": [
    "start_date = '2023-09-11 00:00:00'\n",
    "funnel_steps_logs = db.get_funnel_steps_log(start_date)\n",
    "user_data = db.get_user_data(start_date)\n",
    "cart_data = db.get_cart_data(start_date)"
   ],
   "metadata": {
    "collapsed": false,
    "ExecuteTime": {
     "end_time": "2023-09-13T14:14:31.938772Z",
     "start_time": "2023-09-13T14:09:15.736910Z"
    }
   },
   "id": "715c7afddad8e06c"
  },
  {
   "cell_type": "code",
   "execution_count": 4,
   "outputs": [],
   "source": [
    "time_on_page = funnel_steps_logs.copy()\n",
    "# funnel_steps_logs.drop('Unnamed: 0', axis=1)\n",
    "time_on_page['page'] = time_on_page.groupby('cart_id')['funnel_step'].shift(1)\n",
    "time_on_page['prev_changed_at'] = time_on_page.groupby('cart_id')['changed_at'].shift(1)\n",
    "time_on_page['minutes_spent'] = (time_on_page['changed_at'] - time_on_page['prev_changed_at']).dt.total_seconds() / 60"
   ],
   "metadata": {
    "collapsed": false,
    "ExecuteTime": {
     "end_time": "2023-09-13T14:15:30.509467Z",
     "start_time": "2023-09-13T14:15:30.243070Z"
    }
   },
   "id": "8923a83bd0c2c744"
  },
  {
   "cell_type": "code",
   "execution_count": 5,
   "outputs": [
    {
     "data": {
      "text/plain": "           cart_id          changed_at funnel_step        page  \\\n1087631   24037193 2023-09-12 12:51:43  \"shipping\"         NaN   \n1063978   24037193 2023-09-12 13:17:58      \"cart\"  \"shipping\"   \n1063714   24037193 2023-09-12 13:18:15  \"shipping\"      \"cart\"   \n1059899   24037193 2023-09-12 13:22:21      \"cart\"  \"shipping\"   \n1057540   24037193 2023-09-12 13:24:50  \"shipping\"      \"cart\"   \n...            ...                 ...         ...         ...   \n26       350699902 2023-09-13 17:40:11      \"cart\"         NaN   \n18       350699903 2023-09-13 17:40:13      \"cart\"         NaN   \n13       350699904 2023-09-13 17:40:13      \"cart\"         NaN   \n9        350699905 2023-09-13 17:40:13      \"cart\"         NaN   \n1        350699906 2023-09-13 17:40:14      \"cart\"         NaN   \n\n            prev_changed_at  minutes_spent  \n1087631                 NaT            NaN  \n1063978 2023-09-12 12:51:43      26.250000  \n1063714 2023-09-12 13:17:58       0.283333  \n1059899 2023-09-12 13:18:15       4.100000  \n1057540 2023-09-12 13:22:21       2.483333  \n...                     ...            ...  \n26                      NaT            NaN  \n18                      NaT            NaN  \n13                      NaT            NaN  \n9                       NaT            NaN  \n1                       NaT            NaN  \n\n[2277478 rows x 6 columns]",
      "text/html": "<div>\n<style scoped>\n    .dataframe tbody tr th:only-of-type {\n        vertical-align: middle;\n    }\n\n    .dataframe tbody tr th {\n        vertical-align: top;\n    }\n\n    .dataframe thead th {\n        text-align: right;\n    }\n</style>\n<table border=\"1\" class=\"dataframe\">\n  <thead>\n    <tr style=\"text-align: right;\">\n      <th></th>\n      <th>cart_id</th>\n      <th>changed_at</th>\n      <th>funnel_step</th>\n      <th>page</th>\n      <th>prev_changed_at</th>\n      <th>minutes_spent</th>\n    </tr>\n  </thead>\n  <tbody>\n    <tr>\n      <th>1087631</th>\n      <td>24037193</td>\n      <td>2023-09-12 12:51:43</td>\n      <td>\"shipping\"</td>\n      <td>NaN</td>\n      <td>NaT</td>\n      <td>NaN</td>\n    </tr>\n    <tr>\n      <th>1063978</th>\n      <td>24037193</td>\n      <td>2023-09-12 13:17:58</td>\n      <td>\"cart\"</td>\n      <td>\"shipping\"</td>\n      <td>2023-09-12 12:51:43</td>\n      <td>26.250000</td>\n    </tr>\n    <tr>\n      <th>1063714</th>\n      <td>24037193</td>\n      <td>2023-09-12 13:18:15</td>\n      <td>\"shipping\"</td>\n      <td>\"cart\"</td>\n      <td>2023-09-12 13:17:58</td>\n      <td>0.283333</td>\n    </tr>\n    <tr>\n      <th>1059899</th>\n      <td>24037193</td>\n      <td>2023-09-12 13:22:21</td>\n      <td>\"cart\"</td>\n      <td>\"shipping\"</td>\n      <td>2023-09-12 13:18:15</td>\n      <td>4.100000</td>\n    </tr>\n    <tr>\n      <th>1057540</th>\n      <td>24037193</td>\n      <td>2023-09-12 13:24:50</td>\n      <td>\"shipping\"</td>\n      <td>\"cart\"</td>\n      <td>2023-09-12 13:22:21</td>\n      <td>2.483333</td>\n    </tr>\n    <tr>\n      <th>...</th>\n      <td>...</td>\n      <td>...</td>\n      <td>...</td>\n      <td>...</td>\n      <td>...</td>\n      <td>...</td>\n    </tr>\n    <tr>\n      <th>26</th>\n      <td>350699902</td>\n      <td>2023-09-13 17:40:11</td>\n      <td>\"cart\"</td>\n      <td>NaN</td>\n      <td>NaT</td>\n      <td>NaN</td>\n    </tr>\n    <tr>\n      <th>18</th>\n      <td>350699903</td>\n      <td>2023-09-13 17:40:13</td>\n      <td>\"cart\"</td>\n      <td>NaN</td>\n      <td>NaT</td>\n      <td>NaN</td>\n    </tr>\n    <tr>\n      <th>13</th>\n      <td>350699904</td>\n      <td>2023-09-13 17:40:13</td>\n      <td>\"cart\"</td>\n      <td>NaN</td>\n      <td>NaT</td>\n      <td>NaN</td>\n    </tr>\n    <tr>\n      <th>9</th>\n      <td>350699905</td>\n      <td>2023-09-13 17:40:13</td>\n      <td>\"cart\"</td>\n      <td>NaN</td>\n      <td>NaT</td>\n      <td>NaN</td>\n    </tr>\n    <tr>\n      <th>1</th>\n      <td>350699906</td>\n      <td>2023-09-13 17:40:14</td>\n      <td>\"cart\"</td>\n      <td>NaN</td>\n      <td>NaT</td>\n      <td>NaN</td>\n    </tr>\n  </tbody>\n</table>\n<p>2277478 rows × 6 columns</p>\n</div>"
     },
     "execution_count": 5,
     "metadata": {},
     "output_type": "execute_result"
    }
   ],
   "source": [
    "time_on_page"
   ],
   "metadata": {
    "collapsed": false,
    "ExecuteTime": {
     "end_time": "2023-09-13T14:15:32.377675Z",
     "start_time": "2023-09-13T14:15:32.333664Z"
    }
   },
   "id": "4e063b6bd5a5781"
  },
  {
   "cell_type": "code",
   "execution_count": 6,
   "outputs": [],
   "source": [
    "platforms = cart_data.copy()\n",
    "\n",
    "\n",
    "def platform(source: str):\n",
    "    if source == 'web' or source == 'mobile':\n",
    "        return 'web'\n",
    "    return 'app'\n",
    "\n",
    "\n",
    "platforms['platform'] = platforms['source'].apply(lambda x: platform(x))\n",
    "platforms['closed_platform'] = platforms['source_close'].apply(lambda x: platform(x))\n",
    "df = pd.merge(left=platforms, right=time_on_page, left_on='id', right_on='cart_id')"
   ],
   "metadata": {
    "collapsed": false,
    "ExecuteTime": {
     "end_time": "2023-09-13T14:15:36.193371Z",
     "start_time": "2023-09-13T14:15:35.750930Z"
    }
   },
   "id": "25ea0040e051973a"
  },
  {
   "cell_type": "code",
   "execution_count": 7,
   "outputs": [
    {
     "data": {
      "text/plain": "                id  status  payable_price   source source_close platform  \\\n0        350285502    open              0  android         None      app   \n1        350285503  closed       19065700  android      android      app   \n2        350285503  closed       19065700  android      android      app   \n3        350285503  closed       19065700  android      android      app   \n4        350285503  closed       19065700  android      android      app   \n...            ...     ...            ...      ...          ...      ...   \n1042078  350690713    open              0  android         None      app   \n1042079  350690713    open              0  android         None      app   \n1042080  350690713    open              0  android         None      app   \n1042081  350690713    open              0  android         None      app   \n1042082  350690714    open              0  android         None      app   \n\n        closed_platform    cart_id          changed_at funnel_step  \\\n0                   app  350285502 2023-09-11 00:00:01      \"cart\"   \n1                   app  350285503 2023-09-11 00:00:02      \"cart\"   \n2                   app  350285503 2023-09-11 18:39:42  \"shipping\"   \n3                   app  350285503 2023-09-11 18:39:54      \"cart\"   \n4                   app  350285503 2023-09-11 18:43:51  \"shipping\"   \n...                 ...        ...                 ...         ...   \n1042078             app  350690713 2023-09-13 16:30:07      \"cart\"   \n1042079             app  350690713 2023-09-13 16:30:14  \"shipping\"   \n1042080             app  350690713 2023-09-13 16:30:26   \"payment\"   \n1042081             app  350690713 2023-09-13 16:30:29  \"checkout\"   \n1042082             app  350690714 2023-09-13 16:30:08      \"cart\"   \n\n               page     prev_changed_at  minutes_spent  \n0               NaN                 NaT            NaN  \n1               NaN                 NaT            NaN  \n2            \"cart\" 2023-09-11 00:00:02    1119.666667  \n3        \"shipping\" 2023-09-11 18:39:42       0.200000  \n4            \"cart\" 2023-09-11 18:39:54       3.950000  \n...             ...                 ...            ...  \n1042078         NaN                 NaT            NaN  \n1042079      \"cart\" 2023-09-13 16:30:07       0.116667  \n1042080  \"shipping\" 2023-09-13 16:30:14       0.200000  \n1042081   \"payment\" 2023-09-13 16:30:26       0.050000  \n1042082         NaN                 NaT            NaN  \n\n[1042083 rows x 13 columns]",
      "text/html": "<div>\n<style scoped>\n    .dataframe tbody tr th:only-of-type {\n        vertical-align: middle;\n    }\n\n    .dataframe tbody tr th {\n        vertical-align: top;\n    }\n\n    .dataframe thead th {\n        text-align: right;\n    }\n</style>\n<table border=\"1\" class=\"dataframe\">\n  <thead>\n    <tr style=\"text-align: right;\">\n      <th></th>\n      <th>id</th>\n      <th>status</th>\n      <th>payable_price</th>\n      <th>source</th>\n      <th>source_close</th>\n      <th>platform</th>\n      <th>closed_platform</th>\n      <th>cart_id</th>\n      <th>changed_at</th>\n      <th>funnel_step</th>\n      <th>page</th>\n      <th>prev_changed_at</th>\n      <th>minutes_spent</th>\n    </tr>\n  </thead>\n  <tbody>\n    <tr>\n      <th>0</th>\n      <td>350285502</td>\n      <td>open</td>\n      <td>0</td>\n      <td>android</td>\n      <td>None</td>\n      <td>app</td>\n      <td>app</td>\n      <td>350285502</td>\n      <td>2023-09-11 00:00:01</td>\n      <td>\"cart\"</td>\n      <td>NaN</td>\n      <td>NaT</td>\n      <td>NaN</td>\n    </tr>\n    <tr>\n      <th>1</th>\n      <td>350285503</td>\n      <td>closed</td>\n      <td>19065700</td>\n      <td>android</td>\n      <td>android</td>\n      <td>app</td>\n      <td>app</td>\n      <td>350285503</td>\n      <td>2023-09-11 00:00:02</td>\n      <td>\"cart\"</td>\n      <td>NaN</td>\n      <td>NaT</td>\n      <td>NaN</td>\n    </tr>\n    <tr>\n      <th>2</th>\n      <td>350285503</td>\n      <td>closed</td>\n      <td>19065700</td>\n      <td>android</td>\n      <td>android</td>\n      <td>app</td>\n      <td>app</td>\n      <td>350285503</td>\n      <td>2023-09-11 18:39:42</td>\n      <td>\"shipping\"</td>\n      <td>\"cart\"</td>\n      <td>2023-09-11 00:00:02</td>\n      <td>1119.666667</td>\n    </tr>\n    <tr>\n      <th>3</th>\n      <td>350285503</td>\n      <td>closed</td>\n      <td>19065700</td>\n      <td>android</td>\n      <td>android</td>\n      <td>app</td>\n      <td>app</td>\n      <td>350285503</td>\n      <td>2023-09-11 18:39:54</td>\n      <td>\"cart\"</td>\n      <td>\"shipping\"</td>\n      <td>2023-09-11 18:39:42</td>\n      <td>0.200000</td>\n    </tr>\n    <tr>\n      <th>4</th>\n      <td>350285503</td>\n      <td>closed</td>\n      <td>19065700</td>\n      <td>android</td>\n      <td>android</td>\n      <td>app</td>\n      <td>app</td>\n      <td>350285503</td>\n      <td>2023-09-11 18:43:51</td>\n      <td>\"shipping\"</td>\n      <td>\"cart\"</td>\n      <td>2023-09-11 18:39:54</td>\n      <td>3.950000</td>\n    </tr>\n    <tr>\n      <th>...</th>\n      <td>...</td>\n      <td>...</td>\n      <td>...</td>\n      <td>...</td>\n      <td>...</td>\n      <td>...</td>\n      <td>...</td>\n      <td>...</td>\n      <td>...</td>\n      <td>...</td>\n      <td>...</td>\n      <td>...</td>\n      <td>...</td>\n    </tr>\n    <tr>\n      <th>1042078</th>\n      <td>350690713</td>\n      <td>open</td>\n      <td>0</td>\n      <td>android</td>\n      <td>None</td>\n      <td>app</td>\n      <td>app</td>\n      <td>350690713</td>\n      <td>2023-09-13 16:30:07</td>\n      <td>\"cart\"</td>\n      <td>NaN</td>\n      <td>NaT</td>\n      <td>NaN</td>\n    </tr>\n    <tr>\n      <th>1042079</th>\n      <td>350690713</td>\n      <td>open</td>\n      <td>0</td>\n      <td>android</td>\n      <td>None</td>\n      <td>app</td>\n      <td>app</td>\n      <td>350690713</td>\n      <td>2023-09-13 16:30:14</td>\n      <td>\"shipping\"</td>\n      <td>\"cart\"</td>\n      <td>2023-09-13 16:30:07</td>\n      <td>0.116667</td>\n    </tr>\n    <tr>\n      <th>1042080</th>\n      <td>350690713</td>\n      <td>open</td>\n      <td>0</td>\n      <td>android</td>\n      <td>None</td>\n      <td>app</td>\n      <td>app</td>\n      <td>350690713</td>\n      <td>2023-09-13 16:30:26</td>\n      <td>\"payment\"</td>\n      <td>\"shipping\"</td>\n      <td>2023-09-13 16:30:14</td>\n      <td>0.200000</td>\n    </tr>\n    <tr>\n      <th>1042081</th>\n      <td>350690713</td>\n      <td>open</td>\n      <td>0</td>\n      <td>android</td>\n      <td>None</td>\n      <td>app</td>\n      <td>app</td>\n      <td>350690713</td>\n      <td>2023-09-13 16:30:29</td>\n      <td>\"checkout\"</td>\n      <td>\"payment\"</td>\n      <td>2023-09-13 16:30:26</td>\n      <td>0.050000</td>\n    </tr>\n    <tr>\n      <th>1042082</th>\n      <td>350690714</td>\n      <td>open</td>\n      <td>0</td>\n      <td>android</td>\n      <td>None</td>\n      <td>app</td>\n      <td>app</td>\n      <td>350690714</td>\n      <td>2023-09-13 16:30:08</td>\n      <td>\"cart\"</td>\n      <td>NaN</td>\n      <td>NaT</td>\n      <td>NaN</td>\n    </tr>\n  </tbody>\n</table>\n<p>1042083 rows × 13 columns</p>\n</div>"
     },
     "execution_count": 7,
     "metadata": {},
     "output_type": "execute_result"
    }
   ],
   "source": [
    "df"
   ],
   "metadata": {
    "collapsed": false,
    "ExecuteTime": {
     "end_time": "2023-09-13T14:15:38.202203Z",
     "start_time": "2023-09-13T14:15:38.195095Z"
    }
   },
   "id": "a784341e7a02af27"
  },
  {
   "cell_type": "code",
   "execution_count": 8,
   "outputs": [],
   "source": [
    "df['churned'] = (df['minutes_spent'].isnull()) | (df['minutes_spent'] > 45)"
   ],
   "metadata": {
    "collapsed": false,
    "ExecuteTime": {
     "end_time": "2023-09-13T14:15:41.035385Z",
     "start_time": "2023-09-13T14:15:41.016286Z"
    }
   },
   "id": "1160765c9099becf"
  },
  {
   "cell_type": "code",
   "execution_count": 9,
   "outputs": [
    {
     "data": {
      "text/plain": "                id  status  payable_price   source source_close platform  \\\n0        350285502    open              0  android         None      app   \n1        350285503  closed       19065700  android      android      app   \n2        350285503  closed       19065700  android      android      app   \n3        350285503  closed       19065700  android      android      app   \n4        350285503  closed       19065700  android      android      app   \n...            ...     ...            ...      ...          ...      ...   \n1042078  350690713    open              0  android         None      app   \n1042079  350690713    open              0  android         None      app   \n1042080  350690713    open              0  android         None      app   \n1042081  350690713    open              0  android         None      app   \n1042082  350690714    open              0  android         None      app   \n\n        closed_platform    cart_id          changed_at funnel_step  \\\n0                   app  350285502 2023-09-11 00:00:01      \"cart\"   \n1                   app  350285503 2023-09-11 00:00:02      \"cart\"   \n2                   app  350285503 2023-09-11 18:39:42  \"shipping\"   \n3                   app  350285503 2023-09-11 18:39:54      \"cart\"   \n4                   app  350285503 2023-09-11 18:43:51  \"shipping\"   \n...                 ...        ...                 ...         ...   \n1042078             app  350690713 2023-09-13 16:30:07      \"cart\"   \n1042079             app  350690713 2023-09-13 16:30:14  \"shipping\"   \n1042080             app  350690713 2023-09-13 16:30:26   \"payment\"   \n1042081             app  350690713 2023-09-13 16:30:29  \"checkout\"   \n1042082             app  350690714 2023-09-13 16:30:08      \"cart\"   \n\n               page     prev_changed_at  minutes_spent  churned  \n0               NaN                 NaT            NaN     True  \n1               NaN                 NaT            NaN     True  \n2            \"cart\" 2023-09-11 00:00:02    1119.666667     True  \n3        \"shipping\" 2023-09-11 18:39:42       0.200000    False  \n4            \"cart\" 2023-09-11 18:39:54       3.950000    False  \n...             ...                 ...            ...      ...  \n1042078         NaN                 NaT            NaN     True  \n1042079      \"cart\" 2023-09-13 16:30:07       0.116667    False  \n1042080  \"shipping\" 2023-09-13 16:30:14       0.200000    False  \n1042081   \"payment\" 2023-09-13 16:30:26       0.050000    False  \n1042082         NaN                 NaT            NaN     True  \n\n[1042083 rows x 14 columns]",
      "text/html": "<div>\n<style scoped>\n    .dataframe tbody tr th:only-of-type {\n        vertical-align: middle;\n    }\n\n    .dataframe tbody tr th {\n        vertical-align: top;\n    }\n\n    .dataframe thead th {\n        text-align: right;\n    }\n</style>\n<table border=\"1\" class=\"dataframe\">\n  <thead>\n    <tr style=\"text-align: right;\">\n      <th></th>\n      <th>id</th>\n      <th>status</th>\n      <th>payable_price</th>\n      <th>source</th>\n      <th>source_close</th>\n      <th>platform</th>\n      <th>closed_platform</th>\n      <th>cart_id</th>\n      <th>changed_at</th>\n      <th>funnel_step</th>\n      <th>page</th>\n      <th>prev_changed_at</th>\n      <th>minutes_spent</th>\n      <th>churned</th>\n    </tr>\n  </thead>\n  <tbody>\n    <tr>\n      <th>0</th>\n      <td>350285502</td>\n      <td>open</td>\n      <td>0</td>\n      <td>android</td>\n      <td>None</td>\n      <td>app</td>\n      <td>app</td>\n      <td>350285502</td>\n      <td>2023-09-11 00:00:01</td>\n      <td>\"cart\"</td>\n      <td>NaN</td>\n      <td>NaT</td>\n      <td>NaN</td>\n      <td>True</td>\n    </tr>\n    <tr>\n      <th>1</th>\n      <td>350285503</td>\n      <td>closed</td>\n      <td>19065700</td>\n      <td>android</td>\n      <td>android</td>\n      <td>app</td>\n      <td>app</td>\n      <td>350285503</td>\n      <td>2023-09-11 00:00:02</td>\n      <td>\"cart\"</td>\n      <td>NaN</td>\n      <td>NaT</td>\n      <td>NaN</td>\n      <td>True</td>\n    </tr>\n    <tr>\n      <th>2</th>\n      <td>350285503</td>\n      <td>closed</td>\n      <td>19065700</td>\n      <td>android</td>\n      <td>android</td>\n      <td>app</td>\n      <td>app</td>\n      <td>350285503</td>\n      <td>2023-09-11 18:39:42</td>\n      <td>\"shipping\"</td>\n      <td>\"cart\"</td>\n      <td>2023-09-11 00:00:02</td>\n      <td>1119.666667</td>\n      <td>True</td>\n    </tr>\n    <tr>\n      <th>3</th>\n      <td>350285503</td>\n      <td>closed</td>\n      <td>19065700</td>\n      <td>android</td>\n      <td>android</td>\n      <td>app</td>\n      <td>app</td>\n      <td>350285503</td>\n      <td>2023-09-11 18:39:54</td>\n      <td>\"cart\"</td>\n      <td>\"shipping\"</td>\n      <td>2023-09-11 18:39:42</td>\n      <td>0.200000</td>\n      <td>False</td>\n    </tr>\n    <tr>\n      <th>4</th>\n      <td>350285503</td>\n      <td>closed</td>\n      <td>19065700</td>\n      <td>android</td>\n      <td>android</td>\n      <td>app</td>\n      <td>app</td>\n      <td>350285503</td>\n      <td>2023-09-11 18:43:51</td>\n      <td>\"shipping\"</td>\n      <td>\"cart\"</td>\n      <td>2023-09-11 18:39:54</td>\n      <td>3.950000</td>\n      <td>False</td>\n    </tr>\n    <tr>\n      <th>...</th>\n      <td>...</td>\n      <td>...</td>\n      <td>...</td>\n      <td>...</td>\n      <td>...</td>\n      <td>...</td>\n      <td>...</td>\n      <td>...</td>\n      <td>...</td>\n      <td>...</td>\n      <td>...</td>\n      <td>...</td>\n      <td>...</td>\n      <td>...</td>\n    </tr>\n    <tr>\n      <th>1042078</th>\n      <td>350690713</td>\n      <td>open</td>\n      <td>0</td>\n      <td>android</td>\n      <td>None</td>\n      <td>app</td>\n      <td>app</td>\n      <td>350690713</td>\n      <td>2023-09-13 16:30:07</td>\n      <td>\"cart\"</td>\n      <td>NaN</td>\n      <td>NaT</td>\n      <td>NaN</td>\n      <td>True</td>\n    </tr>\n    <tr>\n      <th>1042079</th>\n      <td>350690713</td>\n      <td>open</td>\n      <td>0</td>\n      <td>android</td>\n      <td>None</td>\n      <td>app</td>\n      <td>app</td>\n      <td>350690713</td>\n      <td>2023-09-13 16:30:14</td>\n      <td>\"shipping\"</td>\n      <td>\"cart\"</td>\n      <td>2023-09-13 16:30:07</td>\n      <td>0.116667</td>\n      <td>False</td>\n    </tr>\n    <tr>\n      <th>1042080</th>\n      <td>350690713</td>\n      <td>open</td>\n      <td>0</td>\n      <td>android</td>\n      <td>None</td>\n      <td>app</td>\n      <td>app</td>\n      <td>350690713</td>\n      <td>2023-09-13 16:30:26</td>\n      <td>\"payment\"</td>\n      <td>\"shipping\"</td>\n      <td>2023-09-13 16:30:14</td>\n      <td>0.200000</td>\n      <td>False</td>\n    </tr>\n    <tr>\n      <th>1042081</th>\n      <td>350690713</td>\n      <td>open</td>\n      <td>0</td>\n      <td>android</td>\n      <td>None</td>\n      <td>app</td>\n      <td>app</td>\n      <td>350690713</td>\n      <td>2023-09-13 16:30:29</td>\n      <td>\"checkout\"</td>\n      <td>\"payment\"</td>\n      <td>2023-09-13 16:30:26</td>\n      <td>0.050000</td>\n      <td>False</td>\n    </tr>\n    <tr>\n      <th>1042082</th>\n      <td>350690714</td>\n      <td>open</td>\n      <td>0</td>\n      <td>android</td>\n      <td>None</td>\n      <td>app</td>\n      <td>app</td>\n      <td>350690714</td>\n      <td>2023-09-13 16:30:08</td>\n      <td>\"cart\"</td>\n      <td>NaN</td>\n      <td>NaT</td>\n      <td>NaN</td>\n      <td>True</td>\n    </tr>\n  </tbody>\n</table>\n<p>1042083 rows × 14 columns</p>\n</div>"
     },
     "execution_count": 9,
     "metadata": {},
     "output_type": "execute_result"
    }
   ],
   "source": [
    "df"
   ],
   "metadata": {
    "collapsed": false,
    "ExecuteTime": {
     "end_time": "2023-09-13T14:15:47.252677Z",
     "start_time": "2023-09-13T14:15:47.247098Z"
    }
   },
   "id": "7e535f2e938e7cb1"
  },
  {
   "cell_type": "code",
   "execution_count": 10,
   "outputs": [],
   "source": [
    "df['flow'] = df['page'].astype(str) + '->' + df['funnel_step'].astype(str)"
   ],
   "metadata": {
    "collapsed": false,
    "ExecuteTime": {
     "end_time": "2023-09-13T14:15:50.481300Z",
     "start_time": "2023-09-13T14:15:50.237195Z"
    }
   },
   "id": "a3cf970233316994"
  },
  {
   "cell_type": "code",
   "execution_count": 11,
   "outputs": [],
   "source": [
    "grouped = df.groupby([\"flow\", \"churned\", \"source\", 'platform'])['cart_id'].count().reset_index()\n",
    "grouped.rename(columns={\"cart_id\": \"count\"}, inplace=True)"
   ],
   "metadata": {
    "collapsed": false,
    "ExecuteTime": {
     "end_time": "2023-09-13T14:15:52.182235Z",
     "start_time": "2023-09-13T14:15:52.043964Z"
    }
   },
   "id": "2c235d03ddb720c8"
  },
  {
   "cell_type": "code",
   "execution_count": 12,
   "outputs": [
    {
     "data": {
      "text/plain": "                flow  churned   source platform  count\n0     \"cart\"->\"cart\"    False  android      app   1096\n1     \"cart\"->\"cart\"    False      ios      app     28\n2     \"cart\"->\"cart\"    False   mobile      web     99\n3     \"cart\"->\"cart\"    False      web      web    190\n4     \"cart\"->\"cart\"     True  android      app    113\n..               ...      ...      ...      ...    ...\n101  nan->\"checkout\"     True  android      app     17\n102  nan->\"checkout\"     True      web      web      7\n103   nan->\"payment\"     True  android      app      1\n104  nan->\"shipping\"     True  android      app     16\n105  nan->\"shipping\"     True      web      web      5\n\n[106 rows x 5 columns]",
      "text/html": "<div>\n<style scoped>\n    .dataframe tbody tr th:only-of-type {\n        vertical-align: middle;\n    }\n\n    .dataframe tbody tr th {\n        vertical-align: top;\n    }\n\n    .dataframe thead th {\n        text-align: right;\n    }\n</style>\n<table border=\"1\" class=\"dataframe\">\n  <thead>\n    <tr style=\"text-align: right;\">\n      <th></th>\n      <th>flow</th>\n      <th>churned</th>\n      <th>source</th>\n      <th>platform</th>\n      <th>count</th>\n    </tr>\n  </thead>\n  <tbody>\n    <tr>\n      <th>0</th>\n      <td>\"cart\"-&gt;\"cart\"</td>\n      <td>False</td>\n      <td>android</td>\n      <td>app</td>\n      <td>1096</td>\n    </tr>\n    <tr>\n      <th>1</th>\n      <td>\"cart\"-&gt;\"cart\"</td>\n      <td>False</td>\n      <td>ios</td>\n      <td>app</td>\n      <td>28</td>\n    </tr>\n    <tr>\n      <th>2</th>\n      <td>\"cart\"-&gt;\"cart\"</td>\n      <td>False</td>\n      <td>mobile</td>\n      <td>web</td>\n      <td>99</td>\n    </tr>\n    <tr>\n      <th>3</th>\n      <td>\"cart\"-&gt;\"cart\"</td>\n      <td>False</td>\n      <td>web</td>\n      <td>web</td>\n      <td>190</td>\n    </tr>\n    <tr>\n      <th>4</th>\n      <td>\"cart\"-&gt;\"cart\"</td>\n      <td>True</td>\n      <td>android</td>\n      <td>app</td>\n      <td>113</td>\n    </tr>\n    <tr>\n      <th>...</th>\n      <td>...</td>\n      <td>...</td>\n      <td>...</td>\n      <td>...</td>\n      <td>...</td>\n    </tr>\n    <tr>\n      <th>101</th>\n      <td>nan-&gt;\"checkout\"</td>\n      <td>True</td>\n      <td>android</td>\n      <td>app</td>\n      <td>17</td>\n    </tr>\n    <tr>\n      <th>102</th>\n      <td>nan-&gt;\"checkout\"</td>\n      <td>True</td>\n      <td>web</td>\n      <td>web</td>\n      <td>7</td>\n    </tr>\n    <tr>\n      <th>103</th>\n      <td>nan-&gt;\"payment\"</td>\n      <td>True</td>\n      <td>android</td>\n      <td>app</td>\n      <td>1</td>\n    </tr>\n    <tr>\n      <th>104</th>\n      <td>nan-&gt;\"shipping\"</td>\n      <td>True</td>\n      <td>android</td>\n      <td>app</td>\n      <td>16</td>\n    </tr>\n    <tr>\n      <th>105</th>\n      <td>nan-&gt;\"shipping\"</td>\n      <td>True</td>\n      <td>web</td>\n      <td>web</td>\n      <td>5</td>\n    </tr>\n  </tbody>\n</table>\n<p>106 rows × 5 columns</p>\n</div>"
     },
     "execution_count": 12,
     "metadata": {},
     "output_type": "execute_result"
    }
   ],
   "source": [
    "grouped"
   ],
   "metadata": {
    "collapsed": false,
    "ExecuteTime": {
     "end_time": "2023-09-13T14:15:52.962723Z",
     "start_time": "2023-09-13T14:15:52.954712Z"
    }
   },
   "id": "6bd5f07acfe28b9e"
  },
  {
   "cell_type": "code",
   "execution_count": null,
   "outputs": [],
   "source": [],
   "metadata": {
    "collapsed": false
   },
   "id": "e1d1bb18e57be7e"
  }
 ],
 "metadata": {
  "kernelspec": {
   "display_name": "Python 3",
   "language": "python",
   "name": "python3"
  },
  "language_info": {
   "codemirror_mode": {
    "name": "ipython",
    "version": 2
   },
   "file_extension": ".py",
   "mimetype": "text/x-python",
   "name": "python",
   "nbconvert_exporter": "python",
   "pygments_lexer": "ipython2",
   "version": "2.7.6"
  }
 },
 "nbformat": 4,
 "nbformat_minor": 5
}
