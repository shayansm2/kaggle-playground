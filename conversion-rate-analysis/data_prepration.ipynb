{
 "cells": [
  {
   "cell_type": "code",
   "execution_count": 2,
   "id": "initial_id",
   "metadata": {
    "collapsed": true,
    "ExecuteTime": {
     "end_time": "2023-09-12T08:15:42.481879Z",
     "start_time": "2023-09-12T08:15:42.469172Z"
    }
   },
   "outputs": [],
   "source": [
    "import sqlalchemy\n",
    "import pandas as pd\n",
    "from db_engine import DBEngine"
   ]
  },
  {
   "cell_type": "code",
   "execution_count": 3,
   "outputs": [],
   "source": [
    "user = 'h.zand'\n",
    "password = '951c898a1f9af97acec3fb9b8df4'\n",
    "host = '172.30.5.214'\n",
    "port = '13306'\n",
    "database = 'digikala_log'\n",
    "assert user != \"\" and password != \"\", \"please enter your user and password\"\n",
    "log_engine = sqlalchemy.create_engine(\n",
    "    f'mysql+mysqlconnector://{user}:{password}@{host}:{port}/{database}')"
   ],
   "metadata": {
    "collapsed": false,
    "ExecuteTime": {
     "end_time": "2023-09-12T08:15:43.011375Z",
     "start_time": "2023-09-12T08:15:43.003041Z"
    }
   },
   "id": "f1176fb6a36142e0"
  },
  {
   "cell_type": "code",
   "execution_count": 15,
   "outputs": [],
   "source": [
    "start_date = '2023-09-12'"
   ],
   "metadata": {
    "collapsed": false,
    "ExecuteTime": {
     "end_time": "2023-09-12T08:25:41.382534Z",
     "start_time": "2023-09-12T08:25:41.369696Z"
    }
   },
   "id": "e5fcc836cec0ac03"
  },
  {
   "cell_type": "code",
   "execution_count": 16,
   "outputs": [],
   "source": [
    "carts_query = f'''\n",
    "select entity_id as order_id, changed_at, changes, command\n",
    "from digikala_log.carts_log\n",
    "where changed_at > '{start_date}';\n",
    "'''"
   ],
   "metadata": {
    "collapsed": false,
    "ExecuteTime": {
     "end_time": "2023-09-12T08:25:41.661721Z",
     "start_time": "2023-09-12T08:25:41.654780Z"
    }
   },
   "id": "58991e192a3fc09a"
  },
  {
   "cell_type": "code",
   "execution_count": 17,
   "outputs": [],
   "source": [
    "cart_items_query = f'''\n",
    "select entity_id as order_item_id, changed_at, changes, command\n",
    "from digikala_log.carts_log\n",
    "where changed_at > '{start_date}';\n",
    "'''"
   ],
   "metadata": {
    "collapsed": false,
    "ExecuteTime": {
     "end_time": "2023-09-12T08:27:27.377082Z",
     "start_time": "2023-09-12T08:25:42.947669Z"
    }
   },
   "id": "3a58f5b3114e587d"
  },
  {
   "cell_type": "code",
   "execution_count": 7,
   "outputs": [],
   "source": [
    "carts_log = pd.read_sql(carts_query, DBEngine.get_digikala_log_engine())\n",
    "cart_items_log = pd.read_sql(cart_items_query, DBEngine.get_digikala_log_engine())"
   ],
   "metadata": {
    "collapsed": false,
    "ExecuteTime": {
     "end_time": "2023-09-12T08:20:23.143345Z",
     "start_time": "2023-09-12T08:20:23.128767Z"
    }
   },
   "id": "869d70fd3856a7ec"
  },
  {
   "cell_type": "code",
   "execution_count": 17,
   "outputs": [],
   "source": [
    "carts_log['entity'] = 'cart'\n",
    "cart_items_log['entity'] = 'cart_item'"
   ],
   "metadata": {
    "collapsed": false,
    "ExecuteTime": {
     "end_time": "2023-09-12T07:20:05.443544Z",
     "start_time": "2023-09-12T07:20:05.394001Z"
    }
   },
   "id": "656c618053d4b886"
  },
  {
   "cell_type": "code",
   "execution_count": 11,
   "outputs": [],
   "source": [
    "cart_items_log"
   ],
   "metadata": {
    "collapsed": false,
    "ExecuteTime": {
     "end_time": "2023-09-12T08:23:20.100450Z",
     "start_time": "2023-09-12T08:23:20.098076Z"
    }
   },
   "id": "bb525a84aa65a511"
  },
  {
   "cell_type": "code",
   "execution_count": 12,
   "outputs": [],
   "source": [
    "query = f'''\n",
    "select ci.id as cart_item_id,\n",
    "       c.id  as cart_id,\n",
    "       c.user_id,\n",
    "       c.status,\n",
    "       c.payable_price,\n",
    "       c.source,\n",
    "       c.source_close\n",
    "from cart_items ci\n",
    "         join carts c on c.id = ci.cart_id\n",
    "where c.updated_at > '{start_date}'\n",
    "-- where (ci.updated_at > '{start_date}' or c.updated_at > '{start_date}')\n",
    "  and c.site = 'digikala'\n",
    "  and c.business_type = 'b2c'\n",
    "  and c.source != 'core'\n",
    "  and c.source != 'mehr';\n",
    "'''"
   ],
   "metadata": {
    "collapsed": false,
    "ExecuteTime": {
     "end_time": "2023-09-12T08:23:26.609801Z",
     "start_time": "2023-09-12T08:23:21.311963Z"
    }
   },
   "id": "29abbd2aa77d5988"
  },
  {
   "cell_type": "code",
   "execution_count": 13,
   "outputs": [
    {
     "data": {
      "text/plain": "        cart_item_id    cart_id     user_id status  payable_price   source  \\\n0         2792752997  350441040         NaN   open         164800  android   \n1         2792753022  350441041  11735509.0   open              0  android   \n2         2792753288  350441041  11735509.0   open              0  android   \n3         2792767070  350441041  11735509.0   open              0  android   \n4         2792753024  350441042  59419178.0   open        5340000      web   \n...              ...        ...         ...    ...            ...      ...   \n219790    2793380242  350489875  13440623.0   open              0   mobile   \n219791    2793380261  350489876  18890777.0   open              0  android   \n219792    2793380266  350489877  17036976.0   open              0   mobile   \n219793    2793380279  350489878         NaN   open              0      web   \n219794    2793380296  350489880  37587232.0   open              0  android   \n\n       source_close  \n0              None  \n1              None  \n2              None  \n3              None  \n4              None  \n...             ...  \n219790         None  \n219791         None  \n219792         None  \n219793         None  \n219794         None  \n\n[219795 rows x 7 columns]",
      "text/html": "<div>\n<style scoped>\n    .dataframe tbody tr th:only-of-type {\n        vertical-align: middle;\n    }\n\n    .dataframe tbody tr th {\n        vertical-align: top;\n    }\n\n    .dataframe thead th {\n        text-align: right;\n    }\n</style>\n<table border=\"1\" class=\"dataframe\">\n  <thead>\n    <tr style=\"text-align: right;\">\n      <th></th>\n      <th>cart_item_id</th>\n      <th>cart_id</th>\n      <th>user_id</th>\n      <th>status</th>\n      <th>payable_price</th>\n      <th>source</th>\n      <th>source_close</th>\n    </tr>\n  </thead>\n  <tbody>\n    <tr>\n      <th>0</th>\n      <td>2792752997</td>\n      <td>350441040</td>\n      <td>NaN</td>\n      <td>open</td>\n      <td>164800</td>\n      <td>android</td>\n      <td>None</td>\n    </tr>\n    <tr>\n      <th>1</th>\n      <td>2792753022</td>\n      <td>350441041</td>\n      <td>11735509.0</td>\n      <td>open</td>\n      <td>0</td>\n      <td>android</td>\n      <td>None</td>\n    </tr>\n    <tr>\n      <th>2</th>\n      <td>2792753288</td>\n      <td>350441041</td>\n      <td>11735509.0</td>\n      <td>open</td>\n      <td>0</td>\n      <td>android</td>\n      <td>None</td>\n    </tr>\n    <tr>\n      <th>3</th>\n      <td>2792767070</td>\n      <td>350441041</td>\n      <td>11735509.0</td>\n      <td>open</td>\n      <td>0</td>\n      <td>android</td>\n      <td>None</td>\n    </tr>\n    <tr>\n      <th>4</th>\n      <td>2792753024</td>\n      <td>350441042</td>\n      <td>59419178.0</td>\n      <td>open</td>\n      <td>5340000</td>\n      <td>web</td>\n      <td>None</td>\n    </tr>\n    <tr>\n      <th>...</th>\n      <td>...</td>\n      <td>...</td>\n      <td>...</td>\n      <td>...</td>\n      <td>...</td>\n      <td>...</td>\n      <td>...</td>\n    </tr>\n    <tr>\n      <th>219790</th>\n      <td>2793380242</td>\n      <td>350489875</td>\n      <td>13440623.0</td>\n      <td>open</td>\n      <td>0</td>\n      <td>mobile</td>\n      <td>None</td>\n    </tr>\n    <tr>\n      <th>219791</th>\n      <td>2793380261</td>\n      <td>350489876</td>\n      <td>18890777.0</td>\n      <td>open</td>\n      <td>0</td>\n      <td>android</td>\n      <td>None</td>\n    </tr>\n    <tr>\n      <th>219792</th>\n      <td>2793380266</td>\n      <td>350489877</td>\n      <td>17036976.0</td>\n      <td>open</td>\n      <td>0</td>\n      <td>mobile</td>\n      <td>None</td>\n    </tr>\n    <tr>\n      <th>219793</th>\n      <td>2793380279</td>\n      <td>350489878</td>\n      <td>NaN</td>\n      <td>open</td>\n      <td>0</td>\n      <td>web</td>\n      <td>None</td>\n    </tr>\n    <tr>\n      <th>219794</th>\n      <td>2793380296</td>\n      <td>350489880</td>\n      <td>37587232.0</td>\n      <td>open</td>\n      <td>0</td>\n      <td>android</td>\n      <td>None</td>\n    </tr>\n  </tbody>\n</table>\n<p>219795 rows × 7 columns</p>\n</div>"
     },
     "execution_count": 13,
     "metadata": {},
     "output_type": "execute_result"
    }
   ],
   "source": [
    "cart_and_cart_items = pd.read_sql(query, DBEngine.get_digikala_engine())"
   ],
   "metadata": {
    "collapsed": false,
    "ExecuteTime": {
     "end_time": "2023-09-12T08:23:37.443764Z",
     "start_time": "2023-09-12T08:23:37.436174Z"
    }
   },
   "id": "2db05e1e3b971aa"
  },
  {
   "cell_type": "code",
   "execution_count": 14,
   "outputs": [
    {
     "data": {
      "text/plain": "         order_id          changed_at  \\\n0       349864676 2023-09-12 00:00:01   \n1       345901453 2023-09-12 00:00:01   \n2       325141039 2023-09-12 00:00:01   \n3       283599921 2023-09-12 00:00:01   \n4       350253760 2023-09-12 00:00:01   \n...           ...                 ...   \n841644  348629959 2023-09-12 11:46:17   \n841645  343567069 2023-09-12 11:46:17   \n841646  350488551 2023-09-12 11:46:17   \n841647  350058171 2023-09-12 11:46:17   \n841648  350208542 2023-09-12 11:46:17   \n\n                                                  changes           command  \\\n0                    {\"payable_price\":981000,\"vat\":80999}  /v1/cart/remove/   \n1                 {\"payable_price\":27755000,\"vat\":149448}         /v1/cart/   \n2                              {\"payable_price\":17880000}         /v1/cart/   \n3                       {\"payable_price\":4190000,\"vat\":0}         /v1/cart/   \n4       {\"shipping_cost_total\":800000,\"shipping_cost\":...     /v1/shipment/   \n...                                                   ...               ...   \n841644                          {\"payable_price\":2391000}         /v1/cart/   \n841645  {\"payable_price\":3980000,\"vat\":0,\"shipping_cos...         /v1/cart/   \n841646  {\"shipping_cost_vat\":66055,\"shipping_cost\":733...      /v1/payment/   \n841647  {\"discount\":200000,\"payable_price\":470000,\"vat...  /v1/cart/remove/   \n841648                                {\"source\":\"mobile\"}     /v1/cart/add/   \n\n       entity  \n0        cart  \n1        cart  \n2        cart  \n3        cart  \n4        cart  \n...       ...  \n841644   cart  \n841645   cart  \n841646   cart  \n841647   cart  \n841648   cart  \n\n[841649 rows x 5 columns]",
      "text/html": "<div>\n<style scoped>\n    .dataframe tbody tr th:only-of-type {\n        vertical-align: middle;\n    }\n\n    .dataframe tbody tr th {\n        vertical-align: top;\n    }\n\n    .dataframe thead th {\n        text-align: right;\n    }\n</style>\n<table border=\"1\" class=\"dataframe\">\n  <thead>\n    <tr style=\"text-align: right;\">\n      <th></th>\n      <th>order_id</th>\n      <th>changed_at</th>\n      <th>changes</th>\n      <th>command</th>\n      <th>entity</th>\n    </tr>\n  </thead>\n  <tbody>\n    <tr>\n      <th>0</th>\n      <td>349864676</td>\n      <td>2023-09-12 00:00:01</td>\n      <td>{\"payable_price\":981000,\"vat\":80999}</td>\n      <td>/v1/cart/remove/</td>\n      <td>cart</td>\n    </tr>\n    <tr>\n      <th>1</th>\n      <td>345901453</td>\n      <td>2023-09-12 00:00:01</td>\n      <td>{\"payable_price\":27755000,\"vat\":149448}</td>\n      <td>/v1/cart/</td>\n      <td>cart</td>\n    </tr>\n    <tr>\n      <th>2</th>\n      <td>325141039</td>\n      <td>2023-09-12 00:00:01</td>\n      <td>{\"payable_price\":17880000}</td>\n      <td>/v1/cart/</td>\n      <td>cart</td>\n    </tr>\n    <tr>\n      <th>3</th>\n      <td>283599921</td>\n      <td>2023-09-12 00:00:01</td>\n      <td>{\"payable_price\":4190000,\"vat\":0}</td>\n      <td>/v1/cart/</td>\n      <td>cart</td>\n    </tr>\n    <tr>\n      <th>4</th>\n      <td>350253760</td>\n      <td>2023-09-12 00:00:01</td>\n      <td>{\"shipping_cost_total\":800000,\"shipping_cost\":...</td>\n      <td>/v1/shipment/</td>\n      <td>cart</td>\n    </tr>\n    <tr>\n      <th>...</th>\n      <td>...</td>\n      <td>...</td>\n      <td>...</td>\n      <td>...</td>\n      <td>...</td>\n    </tr>\n    <tr>\n      <th>841644</th>\n      <td>348629959</td>\n      <td>2023-09-12 11:46:17</td>\n      <td>{\"payable_price\":2391000}</td>\n      <td>/v1/cart/</td>\n      <td>cart</td>\n    </tr>\n    <tr>\n      <th>841645</th>\n      <td>343567069</td>\n      <td>2023-09-12 11:46:17</td>\n      <td>{\"payable_price\":3980000,\"vat\":0,\"shipping_cos...</td>\n      <td>/v1/cart/</td>\n      <td>cart</td>\n    </tr>\n    <tr>\n      <th>841646</th>\n      <td>350488551</td>\n      <td>2023-09-12 11:46:17</td>\n      <td>{\"shipping_cost_vat\":66055,\"shipping_cost\":733...</td>\n      <td>/v1/payment/</td>\n      <td>cart</td>\n    </tr>\n    <tr>\n      <th>841647</th>\n      <td>350058171</td>\n      <td>2023-09-12 11:46:17</td>\n      <td>{\"discount\":200000,\"payable_price\":470000,\"vat...</td>\n      <td>/v1/cart/remove/</td>\n      <td>cart</td>\n    </tr>\n    <tr>\n      <th>841648</th>\n      <td>350208542</td>\n      <td>2023-09-12 11:46:17</td>\n      <td>{\"source\":\"mobile\"}</td>\n      <td>/v1/cart/add/</td>\n      <td>cart</td>\n    </tr>\n  </tbody>\n</table>\n<p>841649 rows × 5 columns</p>\n</div>"
     },
     "execution_count": 14,
     "metadata": {},
     "output_type": "execute_result"
    }
   ],
   "source": [],
   "metadata": {
    "collapsed": false,
    "ExecuteTime": {
     "end_time": "2023-09-12T08:25:23.080679Z",
     "start_time": "2023-09-12T08:25:23.076364Z"
    }
   },
   "id": "40f64cf74f60bd32"
  }
 ],
 "metadata": {
  "kernelspec": {
   "display_name": "Python 3",
   "language": "python",
   "name": "python3"
  },
  "language_info": {
   "codemirror_mode": {
    "name": "ipython",
    "version": 2
   },
   "file_extension": ".py",
   "mimetype": "text/x-python",
   "name": "python",
   "nbconvert_exporter": "python",
   "pygments_lexer": "ipython2",
   "version": "2.7.6"
  }
 },
 "nbformat": 4,
 "nbformat_minor": 5
}
