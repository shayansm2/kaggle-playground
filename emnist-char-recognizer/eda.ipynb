{
 "cells": [
  {
   "cell_type": "code",
   "execution_count": 1,
   "id": "initial_id",
   "metadata": {
    "collapsed": true,
    "ExecuteTime": {
     "end_time": "2023-12-09T21:08:37.566627Z",
     "start_time": "2023-12-09T21:08:37.564650Z"
    }
   },
   "outputs": [],
   "source": [
    "import pandas as pd\n",
    "import numpy as np"
   ]
  },
  {
   "cell_type": "code",
   "execution_count": 9,
   "outputs": [],
   "source": [
    "df_train = pd.read_csv('data/emnist/emnist-byclass-train.csv', header=None)\n",
    "df_test = pd.read_csv('data/emnist/emnist-byclass-test.csv', header=None)"
   ],
   "metadata": {
    "collapsed": false,
    "ExecuteTime": {
     "end_time": "2023-12-09T21:13:48.029342Z",
     "start_time": "2023-12-09T21:13:27.604665Z"
    }
   },
   "id": "76288360e72645b2"
  },
  {
   "cell_type": "code",
   "execution_count": 10,
   "outputs": [
    {
     "name": "stdout",
     "output_type": "stream",
     "text": [
      "number of train records: 697932\n",
      "number of test records: 116323\n"
     ]
    }
   ],
   "source": [
    "print('number of train records:',len(df_train))\n",
    "print('number of test records:',len(df_test))"
   ],
   "metadata": {
    "collapsed": false,
    "ExecuteTime": {
     "end_time": "2023-12-09T21:13:49.585264Z",
     "start_time": "2023-12-09T21:13:49.567734Z"
    }
   },
   "id": "154554482f1c79ff"
  },
  {
   "cell_type": "code",
   "execution_count": 32,
   "outputs": [],
   "source": [
    "mapping = dict()\n",
    "with open(f'./data/emnist/emnist-byclass-mapping.txt', 'r') as file:\n",
    "    line = file.readline()\n",
    "    while line:\n",
    "        data = line.split(\"\\n\")[0].split(\" \")\n",
    "        key, val = data[0], data[1]\n",
    "        mapping[int(key)] = chr(int(val))\n",
    "        line = file.readline()            "
   ],
   "metadata": {
    "collapsed": false,
    "ExecuteTime": {
     "end_time": "2023-12-09T21:17:13.198236Z",
     "start_time": "2023-12-09T21:17:13.180197Z"
    }
   },
   "id": "8646f6fdf0921dac"
  },
  {
   "cell_type": "code",
   "execution_count": 11,
   "outputs": [],
   "source": [
    "x_train = df_train.copy()\n",
    "del x_train[0]\n",
    "y_train = df_train[0]"
   ],
   "metadata": {
    "collapsed": false,
    "ExecuteTime": {
     "end_time": "2023-12-09T21:13:52.668119Z",
     "start_time": "2023-12-09T21:13:50.716094Z"
    }
   },
   "id": "e953b4c019ede49a"
  },
  {
   "cell_type": "code",
   "execution_count": 37,
   "outputs": [],
   "source": [
    "from keras.preprocessing.image import array_to_img\n",
    "\n",
    "\n",
    "def get_image_and_label(id: int):\n",
    "    print(mapping[y_train[id]])\n",
    "    return array_to_img(x_train.loc[id].to_numpy().reshape(28, 28, 1))"
   ],
   "metadata": {
    "collapsed": false,
    "ExecuteTime": {
     "end_time": "2023-12-09T21:17:44.615298Z",
     "start_time": "2023-12-09T21:17:44.584084Z"
    }
   },
   "id": "1475a7702048be8d"
  },
  {
   "cell_type": "code",
   "execution_count": 60,
   "outputs": [
    {
     "name": "stdout",
     "output_type": "stream",
     "text": [
      "9\n"
     ]
    },
    {
     "data": {
      "text/plain": "<PIL.Image.Image image mode=L size=28x28>",
      "image/png": "[encoded data removed]"
     },
     "execution_count": 60,
     "metadata": {},
     "output_type": "execute_result"
    }
   ],
   "source": [
    "get_image_and_label(7)"
   ],
   "metadata": {
    "collapsed": false,
    "ExecuteTime": {
     "end_time": "2023-12-09T21:23:32.649491Z",
     "start_time": "2023-12-09T21:23:32.619645Z"
    }
   },
   "id": "204f68a3de1c6337"
  },
  {
   "cell_type": "code",
   "execution_count": 44,
   "outputs": [
    {
     "name": "stdout",
     "output_type": "stream",
     "text": [
      "Z\n",
      "a\n",
      "6\n",
      "3\n",
      "M\n",
      "c\n",
      "5\n",
      "9\n",
      "l\n",
      "4\n",
      "7\n",
      "u\n",
      "T\n",
      "e\n",
      "t\n",
      "6\n",
      "t\n",
      "v\n",
      "h\n",
      "6\n",
      "3\n",
      "7\n",
      "W\n",
      "3\n",
      "e\n",
      "9\n",
      "M\n",
      "F\n",
      "Q\n",
      "2\n",
      "5\n",
      "2\n",
      "F\n",
      "e\n",
      "S\n",
      "5\n",
      "u\n",
      "8\n",
      "M\n",
      "n\n",
      "C\n",
      "9\n",
      "1\n",
      "x\n",
      "1\n",
      "5\n",
      "l\n",
      "n\n",
      "6\n",
      "I\n",
      "1\n",
      "f\n",
      "n\n",
      "9\n",
      "6\n",
      "2\n",
      "9\n",
      "9\n",
      "2\n",
      "0\n",
      "k\n",
      "t\n",
      "1\n",
      "t\n",
      "N\n",
      "5\n",
      "p\n",
      "O\n",
      "7\n",
      "1\n",
      "V\n",
      "9\n",
      "O\n",
      "2\n",
      "1\n",
      "j\n",
      "2\n",
      "F\n",
      "2\n",
      "4\n",
      "d\n",
      "8\n",
      "4\n",
      "1\n",
      "d\n",
      "9\n",
      "3\n",
      "h\n",
      "S\n",
      "d\n",
      "8\n",
      "c\n",
      "7\n",
      "7\n",
      "c\n",
      "2\n",
      "4\n",
      "n\n",
      "4\n",
      "4\n"
     ]
    }
   ],
   "source": [
    "image_matrix = [[]]\n",
    "\n",
    "# Loop over the range of ids from 0 to 99\n",
    "for id in range(100):\n",
    "   # Call the get_image_and_label function for each id\n",
    "   image = get_image_and_label(id)\n",
    "   \n",
    "   # If the id is a multiple of 10, start a new row\n",
    "   if id % 10 == 0 and id != 0:\n",
    "       image_matrix.append([])\n",
    "       \n",
    "   # Add the image to the current row\n",
    "   image_matrix[-1].append(image)"
   ],
   "metadata": {
    "collapsed": false,
    "ExecuteTime": {
     "end_time": "2023-12-09T21:21:19.489906Z",
     "start_time": "2023-12-09T21:21:19.427988Z"
    }
   },
   "id": "80f6a66e68e3492b"
  },
  {
   "cell_type": "code",
   "execution_count": 45,
   "outputs": [
    {
     "data": {
      "text/plain": "[[<PIL.Image.Image image mode=L size=28x28>,\n  <PIL.Image.Image image mode=L size=28x28>,\n  <PIL.Image.Image image mode=L size=28x28>,\n  <PIL.Image.Image image mode=L size=28x28>,\n  <PIL.Image.Image image mode=L size=28x28>,\n  <PIL.Image.Image image mode=L size=28x28>,\n  <PIL.Image.Image image mode=L size=28x28>,\n  <PIL.Image.Image image mode=L size=28x28>,\n  <PIL.Image.Image image mode=L size=28x28>,\n  <PIL.Image.Image image mode=L size=28x28>],\n [<PIL.Image.Image image mode=L size=28x28>,\n  <PIL.Image.Image image mode=L size=28x28>,\n  <PIL.Image.Image image mode=L size=28x28>,\n  <PIL.Image.Image image mode=L size=28x28>,\n  <PIL.Image.Image image mode=L size=28x28>,\n  <PIL.Image.Image image mode=L size=28x28>,\n  <PIL.Image.Image image mode=L size=28x28>,\n  <PIL.Image.Image image mode=L size=28x28>,\n  <PIL.Image.Image image mode=L size=28x28>,\n  <PIL.Image.Image image mode=L size=28x28>],\n [<PIL.Image.Image image mode=L size=28x28>,\n  <PIL.Image.Image image mode=L size=28x28>,\n  <PIL.Image.Image image mode=L size=28x28>,\n  <PIL.Image.Image image mode=L size=28x28>,\n  <PIL.Image.Image image mode=L size=28x28>,\n  <PIL.Image.Image image mode=L size=28x28>,\n  <PIL.Image.Image image mode=L size=28x28>,\n  <PIL.Image.Image image mode=L size=28x28>,\n  <PIL.Image.Image image mode=L size=28x28>,\n  <PIL.Image.Image image mode=L size=28x28>],\n [<PIL.Image.Image image mode=L size=28x28>,\n  <PIL.Image.Image image mode=L size=28x28>,\n  <PIL.Image.Image image mode=L size=28x28>,\n  <PIL.Image.Image image mode=L size=28x28>,\n  <PIL.Image.Image image mode=L size=28x28>,\n  <PIL.Image.Image image mode=L size=28x28>,\n  <PIL.Image.Image image mode=L size=28x28>,\n  <PIL.Image.Image image mode=L size=28x28>,\n  <PIL.Image.Image image mode=L size=28x28>,\n  <PIL.Image.Image image mode=L size=28x28>],\n [<PIL.Image.Image image mode=L size=28x28>,\n  <PIL.Image.Image image mode=L size=28x28>,\n  <PIL.Image.Image image mode=L size=28x28>,\n  <PIL.Image.Image image mode=L size=28x28>,\n  <PIL.Image.Image image mode=L size=28x28>,\n  <PIL.Image.Image image mode=L size=28x28>,\n  <PIL.Image.Image image mode=L size=28x28>,\n  <PIL.Image.Image image mode=L size=28x28>,\n  <PIL.Image.Image image mode=L size=28x28>,\n  <PIL.Image.Image image mode=L size=28x28>],\n [<PIL.Image.Image image mode=L size=28x28>,\n  <PIL.Image.Image image mode=L size=28x28>,\n  <PIL.Image.Image image mode=L size=28x28>,\n  <PIL.Image.Image image mode=L size=28x28>,\n  <PIL.Image.Image image mode=L size=28x28>,\n  <PIL.Image.Image image mode=L size=28x28>,\n  <PIL.Image.Image image mode=L size=28x28>,\n  <PIL.Image.Image image mode=L size=28x28>,\n  <PIL.Image.Image image mode=L size=28x28>,\n  <PIL.Image.Image image mode=L size=28x28>],\n [<PIL.Image.Image image mode=L size=28x28>,\n  <PIL.Image.Image image mode=L size=28x28>,\n  <PIL.Image.Image image mode=L size=28x28>,\n  <PIL.Image.Image image mode=L size=28x28>,\n  <PIL.Image.Image image mode=L size=28x28>,\n  <PIL.Image.Image image mode=L size=28x28>,\n  <PIL.Image.Image image mode=L size=28x28>,\n  <PIL.Image.Image image mode=L size=28x28>,\n  <PIL.Image.Image image mode=L size=28x28>,\n  <PIL.Image.Image image mode=L size=28x28>],\n [<PIL.Image.Image image mode=L size=28x28>,\n  <PIL.Image.Image image mode=L size=28x28>,\n  <PIL.Image.Image image mode=L size=28x28>,\n  <PIL.Image.Image image mode=L size=28x28>,\n  <PIL.Image.Image image mode=L size=28x28>,\n  <PIL.Image.Image image mode=L size=28x28>,\n  <PIL.Image.Image image mode=L size=28x28>,\n  <PIL.Image.Image image mode=L size=28x28>,\n  <PIL.Image.Image image mode=L size=28x28>,\n  <PIL.Image.Image image mode=L size=28x28>],\n [<PIL.Image.Image image mode=L size=28x28>,\n  <PIL.Image.Image image mode=L size=28x28>,\n  <PIL.Image.Image image mode=L size=28x28>,\n  <PIL.Image.Image image mode=L size=28x28>,\n  <PIL.Image.Image image mode=L size=28x28>,\n  <PIL.Image.Image image mode=L size=28x28>,\n  <PIL.Image.Image image mode=L size=28x28>,\n  <PIL.Image.Image image mode=L size=28x28>,\n  <PIL.Image.Image image mode=L size=28x28>,\n  <PIL.Image.Image image mode=L size=28x28>],\n [<PIL.Image.Image image mode=L size=28x28>,\n  <PIL.Image.Image image mode=L size=28x28>,\n  <PIL.Image.Image image mode=L size=28x28>,\n  <PIL.Image.Image image mode=L size=28x28>,\n  <PIL.Image.Image image mode=L size=28x28>,\n  <PIL.Image.Image image mode=L size=28x28>,\n  <PIL.Image.Image image mode=L size=28x28>,\n  <PIL.Image.Image image mode=L size=28x28>,\n  <PIL.Image.Image image mode=L size=28x28>,\n  <PIL.Image.Image image mode=L size=28x28>]]"
     },
     "execution_count": 45,
     "metadata": {},
     "output_type": "execute_result"
    }
   ],
   "source": [
    "image_matrix"
   ],
   "metadata": {
    "collapsed": false,
    "ExecuteTime": {
     "end_time": "2023-12-09T21:21:30.869386Z",
     "start_time": "2023-12-09T21:21:30.845953Z"
    }
   },
   "id": "647a1a035ffdc78c"
  },
  {
   "cell_type": "code",
   "execution_count": null,
   "outputs": [],
   "source": [],
   "metadata": {
    "collapsed": false
   },
   "id": "e0f003e3ae53444a"
  }
 ],
 "metadata": {
  "kernelspec": {
   "display_name": "Python 3",
   "language": "python",
   "name": "python3"
  },
  "language_info": {
   "codemirror_mode": {
    "name": "ipython",
    "version": 2
   },
   "file_extension": ".py",
   "mimetype": "text/x-python",
   "name": "python",
   "nbconvert_exporter": "python",
   "pygments_lexer": "ipython2",
   "version": "2.7.6"
  }
 },
 "nbformat": 4,
 "nbformat_minor": 5
}
