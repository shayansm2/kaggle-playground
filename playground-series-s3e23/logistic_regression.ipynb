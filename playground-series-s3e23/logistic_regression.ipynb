{
 "cells": [
  {
   "cell_type": "code",
   "execution_count": 1,
   "id": "initial_id",
   "metadata": {
    "collapsed": true,
    "ExecuteTime": {
     "end_time": "2023-10-13T15:59:22.137486Z",
     "start_time": "2023-10-13T15:59:22.127807Z"
    }
   },
   "outputs": [],
   "source": [
    "import numpy as np\n",
    "import pandas as pd\n",
    "\n",
    "from matplotlib import pyplot as plt\n",
    "import seaborn as sns\n",
    "%matplotlib inline"
   ]
  },
  {
   "cell_type": "code",
   "execution_count": 2,
   "outputs": [],
   "source": [
    "df = pd.read_csv('data/train.csv')"
   ],
   "metadata": {
    "collapsed": false,
    "ExecuteTime": {
     "end_time": "2023-10-13T15:59:22.414317Z",
     "start_time": "2023-10-13T15:59:22.304621Z"
    }
   },
   "id": "d43abd6001628028"
  },
  {
   "cell_type": "code",
   "execution_count": 3,
   "outputs": [],
   "source": [
    "# normalizing column names\n",
    "df.columns = df.columns.str.lower().str.replace(' ', '_')\n",
    "\n",
    "# normalizing string values\n",
    "string_columns = list(df.dtypes[df.dtypes == 'object'].index)\n",
    "for col in string_columns:\n",
    "    df[col] = df[col].str.lower().str.replace(' ', '_')"
   ],
   "metadata": {
    "collapsed": false,
    "ExecuteTime": {
     "end_time": "2023-10-13T15:59:23.776618Z",
     "start_time": "2023-10-13T15:59:23.773520Z"
    }
   },
   "id": "a2aa884c16b498ec"
  },
  {
   "cell_type": "code",
   "execution_count": 4,
   "outputs": [],
   "source": [
    "from sklearn.model_selection import train_test_split\n",
    "\n",
    "seed = 22\n",
    "df_train_valid, df_test = train_test_split(df, test_size=0.2, random_state=seed)\n",
    "df_train, df_valid = train_test_split(df_train_valid, test_size=0.25, random_state=seed)\n",
    "\n",
    "y_train = df_train.defects.values\n",
    "y_valid = df_valid.defects.values\n",
    "y_test = df_test.defects.values\n",
    "\n",
    "df_train.drop(columns=['defects'], inplace=True)\n",
    "df_valid.drop(columns=['defects'], inplace=True)\n",
    "df_test.drop(columns=['defects'], inplace=True)"
   ],
   "metadata": {
    "collapsed": false,
    "ExecuteTime": {
     "end_time": "2023-10-13T15:59:25.103104Z",
     "start_time": "2023-10-13T15:59:24.955162Z"
    }
   },
   "id": "fdca666ff4684af7"
  },
  {
   "cell_type": "code",
   "execution_count": 5,
   "outputs": [],
   "source": [
    "def prepare_input(df: pd.DataFrame):\n",
    "    copy = df.copy()\n",
    "    copy.drop(columns=['id'], inplace=True)\n",
    "    return copy.values"
   ],
   "metadata": {
    "collapsed": false,
    "ExecuteTime": {
     "end_time": "2023-10-13T15:59:29.159863Z",
     "start_time": "2023-10-13T15:59:29.149134Z"
    }
   },
   "id": "59cc64974e348057"
  },
  {
   "cell_type": "code",
   "execution_count": 10,
   "outputs": [],
   "source": [
    "from sklearn.linear_model import LogisticRegression\n",
    "from sklearn.metrics import accuracy_score, roc_auc_score, roc_curve, recall_score, precision_score\n",
    "from typing import Callable"
   ],
   "metadata": {
    "collapsed": false,
    "ExecuteTime": {
     "end_time": "2023-10-13T16:03:12.959006Z",
     "start_time": "2023-10-13T16:03:12.952027Z"
    }
   },
   "id": "f5ecc03e8fea975a"
  },
  {
   "cell_type": "code",
   "execution_count": 19,
   "outputs": [],
   "source": [
    "def perform_logistic_regression_and_calc_metrics(prepare_input: Callable):\n",
    "    x_train = prepare_input(df_train)\n",
    "    model = LogisticRegression()\n",
    "    model.fit(x_train, y_train)\n",
    "    x_valid = prepare_input(df_valid)\n",
    "    y_predict = model.predict(x_valid)\n",
    "    y_prob = model.predict_proba(x_valid)[:,1]\n",
    "    \n",
    "    print('accuracy:', round(accuracy_score(y_predict, y_valid), 3))\n",
    "    print('Precision:', round(precision_score(y_predict, y_valid), 3))\n",
    "    print('recall:', round(recall_score(y_predict, y_valid), 3))\n",
    "    print('AUC:', round(roc_auc_score(y_valid, y_prob), 3))\n",
    "    fpr, tpr, thresholds = roc_curve(y_valid, y_prob)\n",
    "    plt.figure(figsize=(5, 5))\n",
    "    plt.plot(fpr, tpr)\n",
    "    plt.plot([0, 1], [0, 1])\n",
    "    plt.xlabel('FPR')\n",
    "    plt.ylabel('TPR')"
   ],
   "metadata": {
    "collapsed": false,
    "ExecuteTime": {
     "end_time": "2023-10-13T16:46:28.264590Z",
     "start_time": "2023-10-13T16:46:28.243955Z"
    }
   },
   "id": "728208a0a5094205"
  },
  {
   "cell_type": "code",
   "execution_count": 14,
   "outputs": [
    {
     "name": "stdout",
     "output_type": "stream",
     "text": [
      "0.77\n"
     ]
    }
   ],
   "source": [
    "def base_line_model_predict(x):\n",
    "    return np.full(len(x), False, dtype=bool)\n",
    "\n",
    "x_valid = prepare_input(df_valid)\n",
    "y_predict = base_line_model_predict(x_valid)\n",
    "print(round(accuracy_score(y_predict, y_valid), 3))"
   ],
   "metadata": {
    "collapsed": false,
    "ExecuteTime": {
     "end_time": "2023-10-13T16:08:28.543123Z",
     "start_time": "2023-10-13T16:08:28.528845Z"
    }
   },
   "id": "5b42f1b98adcc362"
  },
  {
   "cell_type": "code",
   "execution_count": null,
   "outputs": [],
   "source": [
    "from sklearn.base import BaseEstimator\n",
    "class DummyModel(BaseEstimator):\n",
    "    def fit(self):\n",
    "        pass"
   ],
   "metadata": {
    "collapsed": false
   },
   "id": "e277e2f9bf777166"
  },
  {
   "cell_type": "markdown",
   "source": [
    "our logistic regression model is only 1% better :) so we should make it much better"
   ],
   "metadata": {
    "collapsed": false
   },
   "id": "2da548d3c0a4a7e8"
  },
  {
   "cell_type": "code",
   "execution_count": 12,
   "outputs": [
    {
     "name": "stdout",
     "output_type": "stream",
     "text": [
      "accuracy: 0.784\n",
      "Precision: 0.294\n",
      "recall: 0.557\n",
      "AUC: 0.63\n"
     ]
    },
    {
     "name": "stderr",
     "output_type": "stream",
     "text": [
      "/Users/shayan/miniconda3/envs/ML-zoomcamp-playground/lib/python3.10/site-packages/sklearn/linear_model/_logistic.py:460: ConvergenceWarning: lbfgs failed to converge (status=1):\n",
      "STOP: TOTAL NO. of ITERATIONS REACHED LIMIT.\n",
      "\n",
      "Increase the number of iterations (max_iter) or scale the data as shown in:\n",
      "    https://scikit-learn.org/stable/modules/preprocessing.html\n",
      "Please also refer to the documentation for alternative solver options:\n",
      "    https://scikit-learn.org/stable/modules/linear_model.html#logistic-regression\n",
      "  n_iter_i = _check_optimize_result(\n"
     ]
    },
    {
     "data": {
      "text/plain": "<Figure size 500x500 with 1 Axes>",
      "image/png": "[encoded data removed]"
     },
     "metadata": {},
     "output_type": "display_data"
    }
   ],
   "source": [
    "perform_logistic_regression_and_calc_metrics(prepare_input)"
   ],
   "metadata": {
    "collapsed": false,
    "ExecuteTime": {
     "end_time": "2023-10-13T16:03:43.261762Z",
     "start_time": "2023-10-13T16:03:41.281705Z"
    }
   },
   "id": "d6b17a3cadc3f9f5"
  },
  {
   "cell_type": "code",
   "execution_count": 17,
   "outputs": [],
   "source": [
    "def halstead_prepare_input(df: pd.DataFrame):\n",
    "    copy = df.copy()\n",
    "    copy.drop(columns=['id', 'loc', 'v(g)', 'ev(g)', 'iv(g)'], inplace=True)\n",
    "    return copy.values"
   ],
   "metadata": {
    "collapsed": false,
    "ExecuteTime": {
     "end_time": "2023-10-13T16:43:38.634316Z",
     "start_time": "2023-10-13T16:43:38.623149Z"
    }
   },
   "id": "849766ad2ae1b560"
  },
  {
   "cell_type": "code",
   "execution_count": 20,
   "outputs": [
    {
     "name": "stdout",
     "output_type": "stream",
     "text": [
      "accuracy: 0.783\n",
      "Precision: 0.302\n",
      "recall: 0.55\n",
      "AUC: 0.651\n"
     ]
    },
    {
     "name": "stderr",
     "output_type": "stream",
     "text": [
      "/Users/shayan/miniconda3/envs/ML-zoomcamp-playground/lib/python3.10/site-packages/sklearn/linear_model/_logistic.py:460: ConvergenceWarning: lbfgs failed to converge (status=1):\n",
      "STOP: TOTAL NO. of ITERATIONS REACHED LIMIT.\n",
      "\n",
      "Increase the number of iterations (max_iter) or scale the data as shown in:\n",
      "    https://scikit-learn.org/stable/modules/preprocessing.html\n",
      "Please also refer to the documentation for alternative solver options:\n",
      "    https://scikit-learn.org/stable/modules/linear_model.html#logistic-regression\n",
      "  n_iter_i = _check_optimize_result(\n"
     ]
    },
    {
     "data": {
      "text/plain": "<Figure size 500x500 with 1 Axes>",
      "image/png": "[encoded data removed]"
     },
     "metadata": {},
     "output_type": "display_data"
    }
   ],
   "source": [
    "perform_logistic_regression_and_calc_metrics(halstead_prepare_input)"
   ],
   "metadata": {
    "collapsed": false,
    "ExecuteTime": {
     "end_time": "2023-10-13T16:46:32.662628Z",
     "start_time": "2023-10-13T16:46:31.977414Z"
    }
   },
   "id": "4bd7cc49b17ecd3e"
  },
  {
   "cell_type": "code",
   "execution_count": null,
   "outputs": [],
   "source": [],
   "metadata": {
    "collapsed": false
   },
   "id": "cf0d18440a6a74de"
  }
 ],
 "metadata": {
  "kernelspec": {
   "display_name": "Python 3",
   "language": "python",
   "name": "python3"
  },
  "language_info": {
   "codemirror_mode": {
    "name": "ipython",
    "version": 2
   },
   "file_extension": ".py",
   "mimetype": "text/x-python",
   "name": "python",
   "nbconvert_exporter": "python",
   "pygments_lexer": "ipython2",
   "version": "2.7.6"
  }
 },
 "nbformat": 4,
 "nbformat_minor": 5
}
