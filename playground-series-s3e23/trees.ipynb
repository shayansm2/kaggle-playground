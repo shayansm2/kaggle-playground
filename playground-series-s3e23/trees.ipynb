{
 "cells": [
  {
   "cell_type": "code",
   "execution_count": 1,
   "id": "initial_id",
   "metadata": {
    "collapsed": true,
    "ExecuteTime": {
     "end_time": "2023-10-21T10:19:23.582364Z",
     "start_time": "2023-10-21T10:19:23.557280Z"
    }
   },
   "outputs": [],
   "source": [
    "import numpy as np\n",
    "import pandas as pd\n",
    "\n",
    "from matplotlib import pyplot as plt\n",
    "import seaborn as sns\n",
    "%matplotlib inline"
   ]
  },
  {
   "cell_type": "code",
   "execution_count": 2,
   "outputs": [],
   "source": [
    "df = pd.read_csv('data/train.csv')"
   ],
   "metadata": {
    "collapsed": false,
    "ExecuteTime": {
     "end_time": "2023-10-21T10:19:23.684371Z",
     "start_time": "2023-10-21T10:19:23.576421Z"
    }
   },
   "id": "9f66f50ffecf4bf7"
  },
  {
   "cell_type": "code",
   "execution_count": 3,
   "outputs": [],
   "source": [
    "# normalizing column names\n",
    "df.columns = df.columns.str.lower().str.replace(' ', '_')\n",
    "\n",
    "# normalizing string values\n",
    "string_columns = list(df.dtypes[df.dtypes == 'object'].index)\n",
    "for col in string_columns:\n",
    "    df[col] = df[col].str.lower().str.replace(' ', '_')"
   ],
   "metadata": {
    "collapsed": false,
    "ExecuteTime": {
     "end_time": "2023-10-21T10:19:23.703461Z",
     "start_time": "2023-10-21T10:19:23.687020Z"
    }
   },
   "id": "bea2161fc2118519"
  },
  {
   "cell_type": "code",
   "execution_count": 4,
   "outputs": [],
   "source": [
    "from sklearn.model_selection import train_test_split\n",
    "\n",
    "seed = 22\n",
    "df_train_valid, df_test = train_test_split(df, test_size=0.2, random_state=seed)\n",
    "df_train, df_valid = train_test_split(df_train_valid, test_size=0.25, random_state=seed)\n",
    "\n",
    "y_train = df_train.defects.values\n",
    "y_valid = df_valid.defects.values\n",
    "y_test = df_test.defects.values\n",
    "\n",
    "df_train.drop(columns=['defects'], inplace=True)\n",
    "df_valid.drop(columns=['defects'], inplace=True)\n",
    "df_test.drop(columns=['defects'], inplace=True)"
   ],
   "metadata": {
    "collapsed": false,
    "ExecuteTime": {
     "end_time": "2023-10-21T10:19:23.995167Z",
     "start_time": "2023-10-21T10:19:23.690863Z"
    }
   },
   "id": "91c6067f6cc16f8b"
  },
  {
   "cell_type": "code",
   "execution_count": 5,
   "outputs": [],
   "source": [
    "def prepare_input(df: pd.DataFrame):\n",
    "    copy = df.copy()\n",
    "    copy.drop(columns=['id'], inplace=True)\n",
    "    return copy.values"
   ],
   "metadata": {
    "collapsed": false,
    "ExecuteTime": {
     "end_time": "2023-10-21T10:19:24.010221Z",
     "start_time": "2023-10-21T10:19:23.996052Z"
    }
   },
   "id": "b1c5977043ecd389"
  },
  {
   "cell_type": "code",
   "execution_count": 6,
   "outputs": [],
   "source": [
    "from sklearn.tree import DecisionTreeClassifier\n",
    "from sklearn.metrics import accuracy_score, roc_auc_score, roc_curve, recall_score, precision_score\n",
    "from typing import Callable"
   ],
   "metadata": {
    "collapsed": false,
    "ExecuteTime": {
     "end_time": "2023-10-21T10:19:24.191927Z",
     "start_time": "2023-10-21T10:19:23.999037Z"
    }
   },
   "id": "fda918f701e86658"
  },
  {
   "cell_type": "code",
   "execution_count": 7,
   "outputs": [],
   "source": [
    "def perform_decision_tree_classification_and_calc_metrics(prepare_input: Callable, max_depth, max_leaf_nodes):\n",
    "    y_prob = predict_using_decision_tree_classification(max_depth, max_leaf_nodes, prepare_input)\n",
    "\n",
    "    y_predict = y_prob >= 0.5\n",
    "    print('accuracy:', round(accuracy_score(y_predict, y_valid), 3))\n",
    "    print('Precision:', round(precision_score(y_predict, y_valid), 3))\n",
    "    print('recall:', round(recall_score(y_predict, y_valid), 3))\n",
    "    print('AUC:', round(roc_auc_score(y_valid, y_prob), 3))\n",
    "    fpr, tpr, thresholds = roc_curve(y_valid, y_prob)\n",
    "    plt.figure(figsize=(5, 5))\n",
    "    plt.plot(fpr, tpr)\n",
    "    plt.plot([0, 1], [0, 1])\n",
    "    plt.xlabel('FPR')\n",
    "    plt.ylabel('TPR')\n",
    "\n",
    "\n",
    "def predict_using_decision_tree_classification(max_depth, max_leaf_nodes, prepare_input):\n",
    "    x_train = prepare_input(df_train)\n",
    "    model = DecisionTreeClassifier(max_depth=max_depth, max_leaf_nodes=max_leaf_nodes)\n",
    "    model.fit(x_train, y_train)\n",
    "    x_valid = prepare_input(df_valid)\n",
    "    y_prob = model.predict_proba(x_valid)[:, 1]\n",
    "    return y_prob"
   ],
   "metadata": {
    "collapsed": false,
    "ExecuteTime": {
     "end_time": "2023-10-21T10:19:24.207200Z",
     "start_time": "2023-10-21T10:19:24.194117Z"
    }
   },
   "id": "a73e3debe605f046"
  },
  {
   "cell_type": "code",
   "execution_count": 8,
   "outputs": [
    {
     "name": "stdout",
     "output_type": "stream",
     "text": [
      "accuracy: 0.807\n",
      "Precision: 0.295\n",
      "recall: 0.683\n",
      "AUC: 0.773\n"
     ]
    },
    {
     "data": {
      "text/plain": "<Figure size 500x500 with 1 Axes>",
      "image/png": "[encoded data removed]"
     },
     "metadata": {},
     "output_type": "display_data"
    }
   ],
   "source": [
    "perform_decision_tree_classification_and_calc_metrics(prepare_input, 5, 5)"
   ],
   "metadata": {
    "collapsed": false,
    "ExecuteTime": {
     "end_time": "2023-10-21T10:19:24.537244Z",
     "start_time": "2023-10-21T10:19:24.197539Z"
    }
   },
   "id": "f1024e7dd7ff45c3"
  },
  {
   "cell_type": "code",
   "execution_count": 9,
   "outputs": [
    {
     "name": "stdout",
     "output_type": "stream",
     "text": [
      "max_depth=1 \t AUC:0.699\n",
      "max_depth=2 \t AUC:0.759\n",
      "max_depth=3 \t AUC:0.777\n",
      "max_depth=4 \t AUC:0.78\n",
      "max_depth=5 \t AUC:0.78\n",
      "max_depth=6 \t AUC:0.781\n",
      "max_depth=7 \t AUC:0.779\n",
      "max_depth=8 \t AUC:0.776\n",
      "max_depth=9 \t AUC:0.771\n",
      "max_depth=10 \t AUC:0.761\n",
      "max_depth=11 \t AUC:0.749\n",
      "max_depth=12 \t AUC:0.736\n",
      "max_depth=13 \t AUC:0.717\n",
      "max_depth=14 \t AUC:0.7\n",
      "max_depth=15 \t AUC:0.679\n",
      "max_depth=16 \t AUC:0.661\n",
      "max_depth=17 \t AUC:0.648\n",
      "max_depth=18 \t AUC:0.635\n",
      "max_depth=19 \t AUC:0.62\n",
      "max_depth=20 \t AUC:0.603\n",
      "max_depth=21 \t AUC:0.59\n",
      "max_depth=22 \t AUC:0.586\n",
      "max_depth=23 \t AUC:0.587\n",
      "max_depth=24 \t AUC:0.584\n",
      "max_depth=25 \t AUC:0.582\n",
      "max_depth=26 \t AUC:0.58\n",
      "max_depth=27 \t AUC:0.577\n",
      "max_depth=28 \t AUC:0.582\n",
      "max_depth=29 \t AUC:0.585\n",
      "max_depth=30 \t AUC:0.588\n",
      "max_depth=31 \t AUC:0.587\n",
      "max_depth=32 \t AUC:0.594\n",
      "max_depth=33 \t AUC:0.593\n",
      "max_depth=34 \t AUC:0.598\n",
      "max_depth=35 \t AUC:0.599\n",
      "max_depth=36 \t AUC:0.601\n",
      "max_depth=37 \t AUC:0.6\n",
      "max_depth=38 \t AUC:0.605\n",
      "max_depth=39 \t AUC:0.604\n"
     ]
    },
    {
     "data": {
      "text/plain": "[<matplotlib.lines.Line2D at 0x1442c3eb0>]"
     },
     "execution_count": 9,
     "metadata": {},
     "output_type": "execute_result"
    },
    {
     "data": {
      "text/plain": "<Figure size 640x480 with 1 Axes>",
      "image/png": "[encoded data removed]"
     },
     "metadata": {},
     "output_type": "display_data"
    }
   ],
   "source": [
    "aucs = []\n",
    "for i in range(1, 40):\n",
    "    y_prob = predict_using_decision_tree_classification(i, None, prepare_input)\n",
    "    auc = round(roc_auc_score(y_valid, y_prob), 3)\n",
    "    print(f'max_depth={i} \\t AUC:{auc}')\n",
    "    aucs.append(auc)\n",
    "plt.plot(range(1,40), aucs)"
   ],
   "metadata": {
    "collapsed": false,
    "ExecuteTime": {
     "end_time": "2023-10-21T10:19:46.065007Z",
     "start_time": "2023-10-21T10:19:24.511592Z"
    }
   },
   "id": "23283d27bebcd548"
  },
  {
   "cell_type": "code",
   "execution_count": 10,
   "outputs": [
    {
     "name": "stdout",
     "output_type": "stream",
     "text": [
      "max_depth=2 \t max_leaf_nodes:10 \t AUC:0.759\n",
      "max_depth=2 \t max_leaf_nodes:110 \t AUC:0.759\n",
      "max_depth=2 \t max_leaf_nodes:210 \t AUC:0.759\n",
      "max_depth=2 \t max_leaf_nodes:310 \t AUC:0.759\n",
      "max_depth=2 \t max_leaf_nodes:410 \t AUC:0.759\n",
      "max_depth=4 \t max_leaf_nodes:10 \t AUC:0.78\n",
      "max_depth=4 \t max_leaf_nodes:110 \t AUC:0.78\n",
      "max_depth=4 \t max_leaf_nodes:210 \t AUC:0.78\n",
      "max_depth=4 \t max_leaf_nodes:310 \t AUC:0.78\n",
      "max_depth=4 \t max_leaf_nodes:410 \t AUC:0.78\n",
      "max_depth=6 \t max_leaf_nodes:10 \t AUC:0.78\n",
      "max_depth=6 \t max_leaf_nodes:110 \t AUC:0.781\n",
      "max_depth=6 \t max_leaf_nodes:210 \t AUC:0.781\n",
      "max_depth=6 \t max_leaf_nodes:310 \t AUC:0.781\n",
      "max_depth=6 \t max_leaf_nodes:410 \t AUC:0.781\n",
      "max_depth=8 \t max_leaf_nodes:10 \t AUC:0.78\n",
      "max_depth=8 \t max_leaf_nodes:110 \t AUC:0.779\n",
      "max_depth=8 \t max_leaf_nodes:210 \t AUC:0.776\n",
      "max_depth=8 \t max_leaf_nodes:310 \t AUC:0.776\n",
      "max_depth=8 \t max_leaf_nodes:410 \t AUC:0.775\n",
      "max_depth=10 \t max_leaf_nodes:10 \t AUC:0.78\n",
      "max_depth=10 \t max_leaf_nodes:110 \t AUC:0.78\n",
      "max_depth=10 \t max_leaf_nodes:210 \t AUC:0.771\n",
      "max_depth=10 \t max_leaf_nodes:310 \t AUC:0.77\n",
      "max_depth=10 \t max_leaf_nodes:410 \t AUC:0.765\n",
      "max_depth=12 \t max_leaf_nodes:10 \t AUC:0.78\n",
      "max_depth=12 \t max_leaf_nodes:110 \t AUC:0.779\n",
      "max_depth=12 \t max_leaf_nodes:210 \t AUC:0.771\n",
      "max_depth=12 \t max_leaf_nodes:310 \t AUC:0.766\n",
      "max_depth=12 \t max_leaf_nodes:410 \t AUC:0.762\n",
      "max_depth=14 \t max_leaf_nodes:10 \t AUC:0.78\n",
      "max_depth=14 \t max_leaf_nodes:110 \t AUC:0.779\n",
      "max_depth=14 \t max_leaf_nodes:210 \t AUC:0.769\n",
      "max_depth=14 \t max_leaf_nodes:310 \t AUC:0.763\n",
      "max_depth=14 \t max_leaf_nodes:410 \t AUC:0.757\n"
     ]
    }
   ],
   "source": [
    "aucs_total = []\n",
    "for i in range(2, 16, 2):\n",
    "    aucs = []\n",
    "    for j in range(10, 500, 100):\n",
    "        y_prob = predict_using_decision_tree_classification(i, j, prepare_input)\n",
    "        auc = round(roc_auc_score(y_valid, y_prob), 3)\n",
    "        print(f'max_depth={i} \\t max_leaf_nodes:{j} \\t AUC:{auc}')\n",
    "        aucs.append(auc)\n",
    "    aucs_total.append(aucs)"
   ],
   "metadata": {
    "collapsed": false,
    "ExecuteTime": {
     "end_time": "2023-10-21T10:19:53.827751Z",
     "start_time": "2023-10-21T10:19:46.066520Z"
    }
   },
   "id": "4bb2c6dfec6bb95"
  },
  {
   "cell_type": "code",
   "execution_count": 11,
   "outputs": [
    {
     "data": {
      "text/plain": "[[0.759, 0.759, 0.759, 0.759, 0.759],\n [0.78, 0.78, 0.78, 0.78, 0.78],\n [0.78, 0.781, 0.781, 0.781, 0.781],\n [0.78, 0.779, 0.776, 0.776, 0.775],\n [0.78, 0.78, 0.771, 0.77, 0.765],\n [0.78, 0.779, 0.771, 0.766, 0.762],\n [0.78, 0.779, 0.769, 0.763, 0.757]]"
     },
     "execution_count": 11,
     "metadata": {},
     "output_type": "execute_result"
    }
   ],
   "source": [
    "aucs_total"
   ],
   "metadata": {
    "collapsed": false,
    "ExecuteTime": {
     "end_time": "2023-10-21T10:19:53.841830Z",
     "start_time": "2023-10-21T10:19:53.829935Z"
    }
   },
   "id": "ecd84c0239c83e51"
  },
  {
   "cell_type": "code",
   "execution_count": 12,
   "outputs": [
    {
     "data": {
      "text/plain": "<matplotlib.colorbar.Colorbar at 0x144347bb0>"
     },
     "execution_count": 12,
     "metadata": {},
     "output_type": "execute_result"
    },
    {
     "data": {
      "text/plain": "<Figure size 640x480 with 2 Axes>",
      "image/png": "[encoded data removed]"
     },
     "metadata": {},
     "output_type": "display_data"
    }
   ],
   "source": [
    "plt.imshow(aucs_total, cmap=\"RdBu_r\")\n",
    "plt.colorbar()"
   ],
   "metadata": {
    "collapsed": false,
    "ExecuteTime": {
     "end_time": "2023-10-21T10:19:53.985659Z",
     "start_time": "2023-10-21T10:19:53.832061Z"
    }
   },
   "id": "46882c1c8047212e"
  },
  {
   "cell_type": "code",
   "execution_count": 13,
   "outputs": [
    {
     "name": "stdout",
     "output_type": "stream",
     "text": [
      "0.779\n"
     ]
    }
   ],
   "source": [
    "max_depth = 15\n",
    "max_leaf_nodes = 100\n",
    "y_prob = predict_using_decision_tree_classification(max_depth, max_leaf_nodes, prepare_input)\n",
    "auc = round(roc_auc_score(y_valid, y_prob), 4)\n",
    "print(auc)"
   ],
   "metadata": {
    "collapsed": false,
    "ExecuteTime": {
     "end_time": "2023-10-21T10:19:54.219546Z",
     "start_time": "2023-10-21T10:19:53.974357Z"
    }
   },
   "id": "e18a7b2b49cff69a"
  },
  {
   "cell_type": "code",
   "execution_count": 14,
   "outputs": [
    {
     "name": "stdout",
     "output_type": "stream",
     "text": [
      "0.7838\n"
     ]
    }
   ],
   "source": [
    "x_train = prepare_input(df_train)\n",
    "model = DecisionTreeClassifier(max_depth=max_depth, max_leaf_nodes=max_leaf_nodes)\n",
    "model.fit(x_train, y_train)\n",
    "x_test = prepare_input(df_test)\n",
    "y_prob = model.predict_proba(x_test)[:, 1]\n",
    "auc = round(roc_auc_score(y_test, y_prob), 4)\n",
    "print(auc)"
   ],
   "metadata": {
    "collapsed": false,
    "ExecuteTime": {
     "end_time": "2023-10-21T10:19:54.495052Z",
     "start_time": "2023-10-21T10:19:54.220865Z"
    }
   },
   "id": "15efe60051cd1a37"
  },
  {
   "cell_type": "code",
   "execution_count": 15,
   "outputs": [],
   "source": [
    "df_submit = pd.read_csv('data/test.csv')"
   ],
   "metadata": {
    "collapsed": false,
    "ExecuteTime": {
     "end_time": "2023-10-21T10:19:54.560819Z",
     "start_time": "2023-10-21T10:19:54.492915Z"
    }
   },
   "id": "8ecfe21917cf6a5b"
  },
  {
   "cell_type": "code",
   "execution_count": 16,
   "outputs": [],
   "source": [
    "x_train = prepare_input(df_train)\n",
    "model = DecisionTreeClassifier(max_depth=max_depth, max_leaf_nodes=max_leaf_nodes)\n",
    "model.fit(x_train, y_train)\n",
    "x_submit = prepare_input(df_submit)\n",
    "y_prob = model.predict_proba(x_submit)[:, 1]"
   ],
   "metadata": {
    "collapsed": false,
    "ExecuteTime": {
     "end_time": "2023-10-21T10:19:54.833632Z",
     "start_time": "2023-10-21T10:19:54.558272Z"
    }
   },
   "id": "6058ec9a957af824"
  },
  {
   "cell_type": "code",
   "execution_count": 17,
   "outputs": [],
   "source": [
    "pd.DataFrame(data=y_prob, columns=['defects']).reset_index().rename(columns={'index': 'id'}).to_csv('data/res.csv', index=False)"
   ],
   "metadata": {
    "collapsed": false,
    "ExecuteTime": {
     "end_time": "2023-10-21T10:19:54.898558Z",
     "start_time": "2023-10-21T10:19:54.829954Z"
    }
   },
   "id": "5c9e5ad16e4aaad6"
  },
  {
   "cell_type": "code",
   "execution_count": 18,
   "outputs": [
    {
     "data": {
      "text/plain": "           id    loc  v(g)  ev(g)  iv(g)      n        v     l      d      i  \\\n0      101763   33.0   5.0    1.0    4.0  144.0   824.82  0.04  26.96  30.05   \n1      101764   27.0   8.0    8.0    2.0  125.0   646.24  0.04  22.82  27.22   \n2      101765  130.0  11.0    7.0   10.0  545.0  3831.40  0.02  48.15  66.17   \n3      101766   65.0   7.0    1.0    7.0  156.0   855.71  0.06  17.23  49.89   \n4      101767   22.0   3.0    1.0    3.0   52.0   238.42  0.10   9.60  26.70   \n...       ...    ...   ...    ...    ...    ...      ...   ...    ...    ...   \n67837  169600   41.0   1.0    1.0    1.0  125.0   656.55  0.07  14.00  47.61   \n67838  169601   20.0   3.0    1.0    3.0   38.0   161.42  0.15   6.75  23.28   \n67839  169602   24.0   2.0    1.0    2.0   52.0   240.00  0.11   9.00  26.67   \n67840  169603   18.0   2.0    1.0    1.0   49.0   216.64  0.11   9.33  24.02   \n67841  169604  101.0  15.0   10.0    5.0    0.0     0.00  0.00   0.00   0.00   \n\n       ...        t  lOCode  lOComment  lOBlank  locCodeAndComment  uniq_Op  \\\n0      ...  1257.60      30          0        3                  0     21.0   \n1      ...   804.58      23          0        2                  0     18.0   \n2      ...  6453.34      99          9       17                  1     26.0   \n3      ...   896.42      45          8       10                  0     15.0   \n4      ...   145.80      16          0        4                  0     12.0   \n...    ...      ...     ...        ...      ...                ...      ...   \n67837  ...   479.35      31          0        7                  0     14.0   \n67838  ...    58.94      15          0        3                  0      9.0   \n67839  ...   120.00      18          0        4                  0     16.0   \n67840  ...   117.68      12          0        2                  0      8.0   \n67841  ...     0.00       0          0        0                  0      0.0   \n\n       uniq_Opnd  total_Op  total_Opnd  branchCount  \n0           23.0      87.0        57.0          9.0  \n1           19.0      70.0        49.0         15.0  \n2           53.0     333.0       244.0         21.0  \n3           26.0      88.0        60.0         13.0  \n4           15.0      30.0        24.0          5.0  \n...          ...       ...         ...          ...  \n67837       27.0      71.0        54.0          1.0  \n67838       10.0      23.0        15.0          5.0  \n67839       16.0      36.0        18.0          3.0  \n67840       12.0      29.0        22.0          3.0  \n67841        0.0       0.0         0.0         29.0  \n\n[67842 rows x 22 columns]",
      "text/html": "<div>\n<style scoped>\n    .dataframe tbody tr th:only-of-type {\n        vertical-align: middle;\n    }\n\n    .dataframe tbody tr th {\n        vertical-align: top;\n    }\n\n    .dataframe thead th {\n        text-align: right;\n    }\n</style>\n<table border=\"1\" class=\"dataframe\">\n  <thead>\n    <tr style=\"text-align: right;\">\n      <th></th>\n      <th>id</th>\n      <th>loc</th>\n      <th>v(g)</th>\n      <th>ev(g)</th>\n      <th>iv(g)</th>\n      <th>n</th>\n      <th>v</th>\n      <th>l</th>\n      <th>d</th>\n      <th>i</th>\n      <th>...</th>\n      <th>t</th>\n      <th>lOCode</th>\n      <th>lOComment</th>\n      <th>lOBlank</th>\n      <th>locCodeAndComment</th>\n      <th>uniq_Op</th>\n      <th>uniq_Opnd</th>\n      <th>total_Op</th>\n      <th>total_Opnd</th>\n      <th>branchCount</th>\n    </tr>\n  </thead>\n  <tbody>\n    <tr>\n      <th>0</th>\n      <td>101763</td>\n      <td>33.0</td>\n      <td>5.0</td>\n      <td>1.0</td>\n      <td>4.0</td>\n      <td>144.0</td>\n      <td>824.82</td>\n      <td>0.04</td>\n      <td>26.96</td>\n      <td>30.05</td>\n      <td>...</td>\n      <td>1257.60</td>\n      <td>30</td>\n      <td>0</td>\n      <td>3</td>\n      <td>0</td>\n      <td>21.0</td>\n      <td>23.0</td>\n      <td>87.0</td>\n      <td>57.0</td>\n      <td>9.0</td>\n    </tr>\n    <tr>\n      <th>1</th>\n      <td>101764</td>\n      <td>27.0</td>\n      <td>8.0</td>\n      <td>8.0</td>\n      <td>2.0</td>\n      <td>125.0</td>\n      <td>646.24</td>\n      <td>0.04</td>\n      <td>22.82</td>\n      <td>27.22</td>\n      <td>...</td>\n      <td>804.58</td>\n      <td>23</td>\n      <td>0</td>\n      <td>2</td>\n      <td>0</td>\n      <td>18.0</td>\n      <td>19.0</td>\n      <td>70.0</td>\n      <td>49.0</td>\n      <td>15.0</td>\n    </tr>\n    <tr>\n      <th>2</th>\n      <td>101765</td>\n      <td>130.0</td>\n      <td>11.0</td>\n      <td>7.0</td>\n      <td>10.0</td>\n      <td>545.0</td>\n      <td>3831.40</td>\n      <td>0.02</td>\n      <td>48.15</td>\n      <td>66.17</td>\n      <td>...</td>\n      <td>6453.34</td>\n      <td>99</td>\n      <td>9</td>\n      <td>17</td>\n      <td>1</td>\n      <td>26.0</td>\n      <td>53.0</td>\n      <td>333.0</td>\n      <td>244.0</td>\n      <td>21.0</td>\n    </tr>\n    <tr>\n      <th>3</th>\n      <td>101766</td>\n      <td>65.0</td>\n      <td>7.0</td>\n      <td>1.0</td>\n      <td>7.0</td>\n      <td>156.0</td>\n      <td>855.71</td>\n      <td>0.06</td>\n      <td>17.23</td>\n      <td>49.89</td>\n      <td>...</td>\n      <td>896.42</td>\n      <td>45</td>\n      <td>8</td>\n      <td>10</td>\n      <td>0</td>\n      <td>15.0</td>\n      <td>26.0</td>\n      <td>88.0</td>\n      <td>60.0</td>\n      <td>13.0</td>\n    </tr>\n    <tr>\n      <th>4</th>\n      <td>101767</td>\n      <td>22.0</td>\n      <td>3.0</td>\n      <td>1.0</td>\n      <td>3.0</td>\n      <td>52.0</td>\n      <td>238.42</td>\n      <td>0.10</td>\n      <td>9.60</td>\n      <td>26.70</td>\n      <td>...</td>\n      <td>145.80</td>\n      <td>16</td>\n      <td>0</td>\n      <td>4</td>\n      <td>0</td>\n      <td>12.0</td>\n      <td>15.0</td>\n      <td>30.0</td>\n      <td>24.0</td>\n      <td>5.0</td>\n    </tr>\n    <tr>\n      <th>...</th>\n      <td>...</td>\n      <td>...</td>\n      <td>...</td>\n      <td>...</td>\n      <td>...</td>\n      <td>...</td>\n      <td>...</td>\n      <td>...</td>\n      <td>...</td>\n      <td>...</td>\n      <td>...</td>\n      <td>...</td>\n      <td>...</td>\n      <td>...</td>\n      <td>...</td>\n      <td>...</td>\n      <td>...</td>\n      <td>...</td>\n      <td>...</td>\n      <td>...</td>\n      <td>...</td>\n    </tr>\n    <tr>\n      <th>67837</th>\n      <td>169600</td>\n      <td>41.0</td>\n      <td>1.0</td>\n      <td>1.0</td>\n      <td>1.0</td>\n      <td>125.0</td>\n      <td>656.55</td>\n      <td>0.07</td>\n      <td>14.00</td>\n      <td>47.61</td>\n      <td>...</td>\n      <td>479.35</td>\n      <td>31</td>\n      <td>0</td>\n      <td>7</td>\n      <td>0</td>\n      <td>14.0</td>\n      <td>27.0</td>\n      <td>71.0</td>\n      <td>54.0</td>\n      <td>1.0</td>\n    </tr>\n    <tr>\n      <th>67838</th>\n      <td>169601</td>\n      <td>20.0</td>\n      <td>3.0</td>\n      <td>1.0</td>\n      <td>3.0</td>\n      <td>38.0</td>\n      <td>161.42</td>\n      <td>0.15</td>\n      <td>6.75</td>\n      <td>23.28</td>\n      <td>...</td>\n      <td>58.94</td>\n      <td>15</td>\n      <td>0</td>\n      <td>3</td>\n      <td>0</td>\n      <td>9.0</td>\n      <td>10.0</td>\n      <td>23.0</td>\n      <td>15.0</td>\n      <td>5.0</td>\n    </tr>\n    <tr>\n      <th>67839</th>\n      <td>169602</td>\n      <td>24.0</td>\n      <td>2.0</td>\n      <td>1.0</td>\n      <td>2.0</td>\n      <td>52.0</td>\n      <td>240.00</td>\n      <td>0.11</td>\n      <td>9.00</td>\n      <td>26.67</td>\n      <td>...</td>\n      <td>120.00</td>\n      <td>18</td>\n      <td>0</td>\n      <td>4</td>\n      <td>0</td>\n      <td>16.0</td>\n      <td>16.0</td>\n      <td>36.0</td>\n      <td>18.0</td>\n      <td>3.0</td>\n    </tr>\n    <tr>\n      <th>67840</th>\n      <td>169603</td>\n      <td>18.0</td>\n      <td>2.0</td>\n      <td>1.0</td>\n      <td>1.0</td>\n      <td>49.0</td>\n      <td>216.64</td>\n      <td>0.11</td>\n      <td>9.33</td>\n      <td>24.02</td>\n      <td>...</td>\n      <td>117.68</td>\n      <td>12</td>\n      <td>0</td>\n      <td>2</td>\n      <td>0</td>\n      <td>8.0</td>\n      <td>12.0</td>\n      <td>29.0</td>\n      <td>22.0</td>\n      <td>3.0</td>\n    </tr>\n    <tr>\n      <th>67841</th>\n      <td>169604</td>\n      <td>101.0</td>\n      <td>15.0</td>\n      <td>10.0</td>\n      <td>5.0</td>\n      <td>0.0</td>\n      <td>0.00</td>\n      <td>0.00</td>\n      <td>0.00</td>\n      <td>0.00</td>\n      <td>...</td>\n      <td>0.00</td>\n      <td>0</td>\n      <td>0</td>\n      <td>0</td>\n      <td>0</td>\n      <td>0.0</td>\n      <td>0.0</td>\n      <td>0.0</td>\n      <td>0.0</td>\n      <td>29.0</td>\n    </tr>\n  </tbody>\n</table>\n<p>67842 rows × 22 columns</p>\n</div>"
     },
     "execution_count": 18,
     "metadata": {},
     "output_type": "execute_result"
    }
   ],
   "source": [
    "df_submit"
   ],
   "metadata": {
    "collapsed": false,
    "ExecuteTime": {
     "end_time": "2023-10-21T10:21:58.518160Z",
     "start_time": "2023-10-21T10:21:58.463385Z"
    }
   },
   "id": "7cfec9aebc1b9a00"
  },
  {
   "cell_type": "code",
   "execution_count": 20,
   "outputs": [],
   "source": [
    "df_submit['defects'] = y_prob"
   ],
   "metadata": {
    "collapsed": false,
    "ExecuteTime": {
     "end_time": "2023-10-21T10:25:01.844181Z",
     "start_time": "2023-10-21T10:25:01.822701Z"
    }
   },
   "id": "cffac653a046a222"
  },
  {
   "cell_type": "code",
   "execution_count": 23,
   "outputs": [],
   "source": [
    "df_submit = df_submit[['id','defects']]\n",
    "df_submit.to_csv('data/res.csv', index=False)"
   ],
   "metadata": {
    "collapsed": false,
    "ExecuteTime": {
     "end_time": "2023-10-21T10:25:42.692718Z",
     "start_time": "2023-10-21T10:25:42.615066Z"
    }
   },
   "id": "ff73797daec910aa"
  },
  {
   "cell_type": "code",
   "execution_count": null,
   "outputs": [],
   "source": [],
   "metadata": {
    "collapsed": false
   },
   "id": "4d287499fae8eaeb"
  }
 ],
 "metadata": {
  "kernelspec": {
   "display_name": "Python 3",
   "language": "python",
   "name": "python3"
  },
  "language_info": {
   "codemirror_mode": {
    "name": "ipython",
    "version": 2
   },
   "file_extension": ".py",
   "mimetype": "text/x-python",
   "name": "python",
   "nbconvert_exporter": "python",
   "pygments_lexer": "ipython2",
   "version": "2.7.6"
  }
 },
 "nbformat": 4,
 "nbformat_minor": 5
}
