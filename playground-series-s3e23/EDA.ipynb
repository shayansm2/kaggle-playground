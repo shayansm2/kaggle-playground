{
 "cells": [
  {
   "cell_type": "code",
   "execution_count": 2,
   "id": "initial_id",
   "metadata": {
    "collapsed": true,
    "ExecuteTime": {
     "end_time": "2023-10-13T16:10:04.639760Z",
     "start_time": "2023-10-13T16:10:04.631406Z"
    }
   },
   "outputs": [],
   "source": [
    "import numpy as np\n",
    "import pandas as pd\n",
    "\n",
    "from matplotlib import pyplot as plt\n",
    "import seaborn as sns\n",
    "%matplotlib inline"
   ]
  },
  {
   "cell_type": "code",
   "execution_count": 3,
   "outputs": [],
   "source": [
    "df = pd.read_csv('data/train.csv')"
   ],
   "metadata": {
    "collapsed": false,
    "ExecuteTime": {
     "end_time": "2023-10-13T16:10:05.093455Z",
     "start_time": "2023-10-13T16:10:04.994808Z"
    }
   },
   "id": "da5bbbf8ecf431db"
  },
  {
   "cell_type": "code",
   "execution_count": 4,
   "outputs": [
    {
     "data": {
      "text/plain": "                         0       1        2       3       4\nid                       0       1        2       3       4\nloc                   22.0    14.0     11.0     8.0    11.0\nv(g)                   3.0     2.0      2.0     1.0     2.0\nev(g)                  1.0     1.0      1.0     1.0     1.0\niv(g)                  2.0     2.0      2.0     1.0     2.0\nn                     60.0    32.0     45.0    23.0    17.0\nv                   278.63  151.27   197.65   94.01   60.94\nl                     0.06    0.14     0.11    0.19    0.18\nd                    19.56     7.0     8.05    5.25    5.63\ni                    14.25   21.11    22.76   17.86   12.44\ne                  5448.79  936.71  1754.01  473.66  365.67\nb                     0.09    0.05     0.07    0.03    0.02\nt                   302.71   52.04    97.45   26.31   20.31\nlOCode                  17      11        8       4       7\nlOComment                1       0        0       0       0\nlOBlank                  1       1        1       2       2\nlocCodeAndComment        0       0        0       0       0\nuniq_Op               16.0    11.0     12.0     8.0     7.0\nuniq_Opnd              9.0    11.0     11.0     6.0     6.0\ntotal_Op              38.0    18.0     28.0    16.0    10.0\ntotal_Opnd            22.0    14.0     17.0     7.0    10.0\nbranchCount            5.0     3.0      3.0     1.0     3.0\ndefects              False   False    False    True   False",
      "text/html": "<div>\n<style scoped>\n    .dataframe tbody tr th:only-of-type {\n        vertical-align: middle;\n    }\n\n    .dataframe tbody tr th {\n        vertical-align: top;\n    }\n\n    .dataframe thead th {\n        text-align: right;\n    }\n</style>\n<table border=\"1\" class=\"dataframe\">\n  <thead>\n    <tr style=\"text-align: right;\">\n      <th></th>\n      <th>0</th>\n      <th>1</th>\n      <th>2</th>\n      <th>3</th>\n      <th>4</th>\n    </tr>\n  </thead>\n  <tbody>\n    <tr>\n      <th>id</th>\n      <td>0</td>\n      <td>1</td>\n      <td>2</td>\n      <td>3</td>\n      <td>4</td>\n    </tr>\n    <tr>\n      <th>loc</th>\n      <td>22.0</td>\n      <td>14.0</td>\n      <td>11.0</td>\n      <td>8.0</td>\n      <td>11.0</td>\n    </tr>\n    <tr>\n      <th>v(g)</th>\n      <td>3.0</td>\n      <td>2.0</td>\n      <td>2.0</td>\n      <td>1.0</td>\n      <td>2.0</td>\n    </tr>\n    <tr>\n      <th>ev(g)</th>\n      <td>1.0</td>\n      <td>1.0</td>\n      <td>1.0</td>\n      <td>1.0</td>\n      <td>1.0</td>\n    </tr>\n    <tr>\n      <th>iv(g)</th>\n      <td>2.0</td>\n      <td>2.0</td>\n      <td>2.0</td>\n      <td>1.0</td>\n      <td>2.0</td>\n    </tr>\n    <tr>\n      <th>n</th>\n      <td>60.0</td>\n      <td>32.0</td>\n      <td>45.0</td>\n      <td>23.0</td>\n      <td>17.0</td>\n    </tr>\n    <tr>\n      <th>v</th>\n      <td>278.63</td>\n      <td>151.27</td>\n      <td>197.65</td>\n      <td>94.01</td>\n      <td>60.94</td>\n    </tr>\n    <tr>\n      <th>l</th>\n      <td>0.06</td>\n      <td>0.14</td>\n      <td>0.11</td>\n      <td>0.19</td>\n      <td>0.18</td>\n    </tr>\n    <tr>\n      <th>d</th>\n      <td>19.56</td>\n      <td>7.0</td>\n      <td>8.05</td>\n      <td>5.25</td>\n      <td>5.63</td>\n    </tr>\n    <tr>\n      <th>i</th>\n      <td>14.25</td>\n      <td>21.11</td>\n      <td>22.76</td>\n      <td>17.86</td>\n      <td>12.44</td>\n    </tr>\n    <tr>\n      <th>e</th>\n      <td>5448.79</td>\n      <td>936.71</td>\n      <td>1754.01</td>\n      <td>473.66</td>\n      <td>365.67</td>\n    </tr>\n    <tr>\n      <th>b</th>\n      <td>0.09</td>\n      <td>0.05</td>\n      <td>0.07</td>\n      <td>0.03</td>\n      <td>0.02</td>\n    </tr>\n    <tr>\n      <th>t</th>\n      <td>302.71</td>\n      <td>52.04</td>\n      <td>97.45</td>\n      <td>26.31</td>\n      <td>20.31</td>\n    </tr>\n    <tr>\n      <th>lOCode</th>\n      <td>17</td>\n      <td>11</td>\n      <td>8</td>\n      <td>4</td>\n      <td>7</td>\n    </tr>\n    <tr>\n      <th>lOComment</th>\n      <td>1</td>\n      <td>0</td>\n      <td>0</td>\n      <td>0</td>\n      <td>0</td>\n    </tr>\n    <tr>\n      <th>lOBlank</th>\n      <td>1</td>\n      <td>1</td>\n      <td>1</td>\n      <td>2</td>\n      <td>2</td>\n    </tr>\n    <tr>\n      <th>locCodeAndComment</th>\n      <td>0</td>\n      <td>0</td>\n      <td>0</td>\n      <td>0</td>\n      <td>0</td>\n    </tr>\n    <tr>\n      <th>uniq_Op</th>\n      <td>16.0</td>\n      <td>11.0</td>\n      <td>12.0</td>\n      <td>8.0</td>\n      <td>7.0</td>\n    </tr>\n    <tr>\n      <th>uniq_Opnd</th>\n      <td>9.0</td>\n      <td>11.0</td>\n      <td>11.0</td>\n      <td>6.0</td>\n      <td>6.0</td>\n    </tr>\n    <tr>\n      <th>total_Op</th>\n      <td>38.0</td>\n      <td>18.0</td>\n      <td>28.0</td>\n      <td>16.0</td>\n      <td>10.0</td>\n    </tr>\n    <tr>\n      <th>total_Opnd</th>\n      <td>22.0</td>\n      <td>14.0</td>\n      <td>17.0</td>\n      <td>7.0</td>\n      <td>10.0</td>\n    </tr>\n    <tr>\n      <th>branchCount</th>\n      <td>5.0</td>\n      <td>3.0</td>\n      <td>3.0</td>\n      <td>1.0</td>\n      <td>3.0</td>\n    </tr>\n    <tr>\n      <th>defects</th>\n      <td>False</td>\n      <td>False</td>\n      <td>False</td>\n      <td>True</td>\n      <td>False</td>\n    </tr>\n  </tbody>\n</table>\n</div>"
     },
     "execution_count": 4,
     "metadata": {},
     "output_type": "execute_result"
    }
   ],
   "source": [
    "df.head().T"
   ],
   "metadata": {
    "collapsed": false,
    "ExecuteTime": {
     "end_time": "2023-10-13T16:10:05.435038Z",
     "start_time": "2023-10-13T16:10:05.428615Z"
    }
   },
   "id": "5799da3d3a5098d9"
  },
  {
   "cell_type": "code",
   "execution_count": null,
   "outputs": [],
   "source": [
    "names = {\n",
    "    'loc': 'line_of_code',\n",
    "    'v(g)': '1', 'ev(g)': '2', 'iv(g)': '3',\n",
    "    'n': 'halstead_total_operators_operands',\n",
    "    'v': 'halstead_volume',\n",
    "    'l': 'halstead_program_length',\n",
    "    'd': 'halstead_difficulty',\n",
    "    'i': 'halstead_intelligence',\n",
    "    'e': 'halstead_effort',\n",
    "    'b': '5',\n",
    "    't': 'halstead_time',\n",
    "    'lOCode': 'halstead_line_of_code',\n",
    "    'lOComment': 'halstead_line_of_commands',\n",
    "    'lOBlank': 'halstead_blank_lines',\n",
    "    'locCodeAndComment': '6',\n",
    "    'uniq_Op': 'unique_operators',\n",
    "    'uniq_Opnd': 'unique_operands',\n",
    "    'total_Op': 'total_operators',\n",
    "    'total_Opnd': 'total operands',\n",
    "    'branchCount': '7'\n",
    "}"
   ],
   "metadata": {
    "collapsed": false
   },
   "id": "e4bcee7deb491998"
  },
  {
   "cell_type": "code",
   "execution_count": 7,
   "outputs": [
    {
     "data": {
      "text/plain": "          loc  lOCode\n0        22.0      17\n1        14.0      11\n2        11.0       8\n3         8.0       4\n4        11.0       7\n...       ...     ...\n101758   10.0       7\n101759   27.0      23\n101760   26.0      20\n101761   10.0       7\n101762  136.0     102\n\n[101516 rows x 2 columns]",
      "text/html": "<div>\n<style scoped>\n    .dataframe tbody tr th:only-of-type {\n        vertical-align: middle;\n    }\n\n    .dataframe tbody tr th {\n        vertical-align: top;\n    }\n\n    .dataframe thead th {\n        text-align: right;\n    }\n</style>\n<table border=\"1\" class=\"dataframe\">\n  <thead>\n    <tr style=\"text-align: right;\">\n      <th></th>\n      <th>loc</th>\n      <th>lOCode</th>\n    </tr>\n  </thead>\n  <tbody>\n    <tr>\n      <th>0</th>\n      <td>22.0</td>\n      <td>17</td>\n    </tr>\n    <tr>\n      <th>1</th>\n      <td>14.0</td>\n      <td>11</td>\n    </tr>\n    <tr>\n      <th>2</th>\n      <td>11.0</td>\n      <td>8</td>\n    </tr>\n    <tr>\n      <th>3</th>\n      <td>8.0</td>\n      <td>4</td>\n    </tr>\n    <tr>\n      <th>4</th>\n      <td>11.0</td>\n      <td>7</td>\n    </tr>\n    <tr>\n      <th>...</th>\n      <td>...</td>\n      <td>...</td>\n    </tr>\n    <tr>\n      <th>101758</th>\n      <td>10.0</td>\n      <td>7</td>\n    </tr>\n    <tr>\n      <th>101759</th>\n      <td>27.0</td>\n      <td>23</td>\n    </tr>\n    <tr>\n      <th>101760</th>\n      <td>26.0</td>\n      <td>20</td>\n    </tr>\n    <tr>\n      <th>101761</th>\n      <td>10.0</td>\n      <td>7</td>\n    </tr>\n    <tr>\n      <th>101762</th>\n      <td>136.0</td>\n      <td>102</td>\n    </tr>\n  </tbody>\n</table>\n<p>101516 rows × 2 columns</p>\n</div>"
     },
     "execution_count": 7,
     "metadata": {},
     "output_type": "execute_result"
    }
   ],
   "source": [
    "df[df['loc'] != df['lOCode']][['loc', 'lOCode']]"
   ],
   "metadata": {
    "collapsed": false,
    "ExecuteTime": {
     "end_time": "2023-10-13T16:35:41.186348Z",
     "start_time": "2023-10-13T16:35:41.174718Z"
    }
   },
   "id": "ee5532965b8eb78d"
  },
  {
   "cell_type": "code",
   "execution_count": 9,
   "outputs": [
    {
     "data": {
      "text/plain": "        lOCode  lOComment  locCodeAndComment\n0           17          1                  0\n1           11          0                  0\n2            8          0                  0\n3            4          0                  0\n4            7          0                  0\n...        ...        ...                ...\n101758       7          0                  0\n101759      23          0                  0\n101760      20          0                  0\n101761       7          0                  0\n101762     102          1                  0\n\n[93986 rows x 3 columns]",
      "text/html": "<div>\n<style scoped>\n    .dataframe tbody tr th:only-of-type {\n        vertical-align: middle;\n    }\n\n    .dataframe tbody tr th {\n        vertical-align: top;\n    }\n\n    .dataframe thead th {\n        text-align: right;\n    }\n</style>\n<table border=\"1\" class=\"dataframe\">\n  <thead>\n    <tr style=\"text-align: right;\">\n      <th></th>\n      <th>lOCode</th>\n      <th>lOComment</th>\n      <th>locCodeAndComment</th>\n    </tr>\n  </thead>\n  <tbody>\n    <tr>\n      <th>0</th>\n      <td>17</td>\n      <td>1</td>\n      <td>0</td>\n    </tr>\n    <tr>\n      <th>1</th>\n      <td>11</td>\n      <td>0</td>\n      <td>0</td>\n    </tr>\n    <tr>\n      <th>2</th>\n      <td>8</td>\n      <td>0</td>\n      <td>0</td>\n    </tr>\n    <tr>\n      <th>3</th>\n      <td>4</td>\n      <td>0</td>\n      <td>0</td>\n    </tr>\n    <tr>\n      <th>4</th>\n      <td>7</td>\n      <td>0</td>\n      <td>0</td>\n    </tr>\n    <tr>\n      <th>...</th>\n      <td>...</td>\n      <td>...</td>\n      <td>...</td>\n    </tr>\n    <tr>\n      <th>101758</th>\n      <td>7</td>\n      <td>0</td>\n      <td>0</td>\n    </tr>\n    <tr>\n      <th>101759</th>\n      <td>23</td>\n      <td>0</td>\n      <td>0</td>\n    </tr>\n    <tr>\n      <th>101760</th>\n      <td>20</td>\n      <td>0</td>\n      <td>0</td>\n    </tr>\n    <tr>\n      <th>101761</th>\n      <td>7</td>\n      <td>0</td>\n      <td>0</td>\n    </tr>\n    <tr>\n      <th>101762</th>\n      <td>102</td>\n      <td>1</td>\n      <td>0</td>\n    </tr>\n  </tbody>\n</table>\n<p>93986 rows × 3 columns</p>\n</div>"
     },
     "execution_count": 9,
     "metadata": {},
     "output_type": "execute_result"
    }
   ],
   "source": [
    "df[df['lOCode'] + df['lOComment'] != df['locCodeAndComment']][['lOCode', 'lOComment', 'locCodeAndComment']]"
   ],
   "metadata": {
    "collapsed": false,
    "ExecuteTime": {
     "end_time": "2023-10-13T16:38:21.742771Z",
     "start_time": "2023-10-13T16:38:21.703390Z"
    }
   },
   "id": "9d9a778c527b0808"
  },
  {
   "cell_type": "code",
   "execution_count": 10,
   "outputs": [
    {
     "data": {
      "text/plain": "locCodeAndComment\n0     93550\n1      4221\n2      1632\n3       843\n4       507\n5       250\n6       235\n7       133\n8       116\n10       63\n11       55\n9        54\n12       28\n13       23\n14       13\n24        7\n15        7\n20        4\n28        3\n23        3\n38        3\n22        3\n16        2\n18        2\n17        2\n43        1\n19        1\n26        1\n32        1\nName: count, dtype: int64"
     },
     "execution_count": 10,
     "metadata": {},
     "output_type": "execute_result"
    }
   ],
   "source": [
    "df['locCodeAndComment'].value_counts()"
   ],
   "metadata": {
    "collapsed": false,
    "ExecuteTime": {
     "end_time": "2023-10-13T16:38:40.011947Z",
     "start_time": "2023-10-13T16:38:39.961706Z"
    }
   },
   "id": "e4eaa6d1a169b63d"
  },
  {
   "cell_type": "code",
   "execution_count": 7,
   "outputs": [
    {
     "data": {
      "text/plain": "                  id            loc           v(g)          ev(g)  \\\ncount  101763.000000  101763.000000  101763.000000  101763.000000   \nmean    50881.000000      37.347160       5.492684       2.845022   \nstd     29376.592059      54.600401       7.900855       4.631262   \nmin         0.000000       1.000000       1.000000       1.000000   \n25%     25440.500000      13.000000       2.000000       1.000000   \n50%     50881.000000      22.000000       3.000000       1.000000   \n75%     76321.500000      42.000000       6.000000       3.000000   \nmax    101762.000000    3442.000000     404.000000     165.000000   \n\n               iv(g)              n              v              l  \\\ncount  101763.000000  101763.000000  101763.000000  101763.000000   \nmean        3.498826      96.655995     538.280956       0.111634   \nstd         5.534541     171.147191    1270.791601       0.100096   \nmin         1.000000       0.000000       0.000000       0.000000   \n25%         1.000000      25.000000      97.670000       0.050000   \n50%         2.000000      51.000000     232.790000       0.090000   \n75%         4.000000     111.000000     560.250000       0.150000   \nmax       402.000000    8441.000000   80843.080000       1.000000   \n\n                   d              i  ...              t         lOCode  \\\ncount  101763.000000  101763.000000  ...  101763.000000  101763.000000   \nmean       13.681881      27.573007  ...    1141.357982      22.802453   \nstd        14.121306      22.856742  ...    9862.795472      38.541010   \nmin         0.000000       0.000000  ...       0.000000       0.000000   \n25%         5.600000      15.560000  ...      31.380000       7.000000   \n50%         9.820000      23.360000  ...     125.400000      14.000000   \n75%        18.000000      34.340000  ...     565.920000      26.000000   \nmax       418.200000     569.780000  ...  935923.390000    2824.000000   \n\n           lOComment        lOBlank  locCodeAndComment        uniq_Op  \\\ncount  101763.000000  101763.000000      101763.000000  101763.000000   \nmean        1.773945       3.979865           0.196604      11.896131   \nstd         5.902412       6.382358           0.998906       6.749549   \nmin         0.000000       0.000000           0.000000       0.000000   \n25%         0.000000       1.000000           0.000000       8.000000   \n50%         0.000000       2.000000           0.000000      11.000000   \n75%         1.000000       5.000000           0.000000      16.000000   \nmax       344.000000     219.000000          43.000000     410.000000   \n\n           uniq_Opnd       total_Op     total_Opnd    branchCount  \ncount  101763.000000  101763.000000  101763.000000  101763.000000  \nmean       15.596671      57.628116      39.249698       9.839549  \nstd        18.064261     104.537660      71.692309      14.412769  \nmin         0.000000       0.000000       0.000000       1.000000  \n25%         7.000000      15.000000      10.000000       3.000000  \n50%        12.000000      30.000000      20.000000       5.000000  \n75%        20.000000      66.000000      45.000000      11.000000  \nmax      1026.000000    5420.000000    3021.000000     503.000000  \n\n[8 rows x 22 columns]",
      "text/html": "<div>\n<style scoped>\n    .dataframe tbody tr th:only-of-type {\n        vertical-align: middle;\n    }\n\n    .dataframe tbody tr th {\n        vertical-align: top;\n    }\n\n    .dataframe thead th {\n        text-align: right;\n    }\n</style>\n<table border=\"1\" class=\"dataframe\">\n  <thead>\n    <tr style=\"text-align: right;\">\n      <th></th>\n      <th>id</th>\n      <th>loc</th>\n      <th>v(g)</th>\n      <th>ev(g)</th>\n      <th>iv(g)</th>\n      <th>n</th>\n      <th>v</th>\n      <th>l</th>\n      <th>d</th>\n      <th>i</th>\n      <th>...</th>\n      <th>t</th>\n      <th>lOCode</th>\n      <th>lOComment</th>\n      <th>lOBlank</th>\n      <th>locCodeAndComment</th>\n      <th>uniq_Op</th>\n      <th>uniq_Opnd</th>\n      <th>total_Op</th>\n      <th>total_Opnd</th>\n      <th>branchCount</th>\n    </tr>\n  </thead>\n  <tbody>\n    <tr>\n      <th>count</th>\n      <td>101763.000000</td>\n      <td>101763.000000</td>\n      <td>101763.000000</td>\n      <td>101763.000000</td>\n      <td>101763.000000</td>\n      <td>101763.000000</td>\n      <td>101763.000000</td>\n      <td>101763.000000</td>\n      <td>101763.000000</td>\n      <td>101763.000000</td>\n      <td>...</td>\n      <td>101763.000000</td>\n      <td>101763.000000</td>\n      <td>101763.000000</td>\n      <td>101763.000000</td>\n      <td>101763.000000</td>\n      <td>101763.000000</td>\n      <td>101763.000000</td>\n      <td>101763.000000</td>\n      <td>101763.000000</td>\n      <td>101763.000000</td>\n    </tr>\n    <tr>\n      <th>mean</th>\n      <td>50881.000000</td>\n      <td>37.347160</td>\n      <td>5.492684</td>\n      <td>2.845022</td>\n      <td>3.498826</td>\n      <td>96.655995</td>\n      <td>538.280956</td>\n      <td>0.111634</td>\n      <td>13.681881</td>\n      <td>27.573007</td>\n      <td>...</td>\n      <td>1141.357982</td>\n      <td>22.802453</td>\n      <td>1.773945</td>\n      <td>3.979865</td>\n      <td>0.196604</td>\n      <td>11.896131</td>\n      <td>15.596671</td>\n      <td>57.628116</td>\n      <td>39.249698</td>\n      <td>9.839549</td>\n    </tr>\n    <tr>\n      <th>std</th>\n      <td>29376.592059</td>\n      <td>54.600401</td>\n      <td>7.900855</td>\n      <td>4.631262</td>\n      <td>5.534541</td>\n      <td>171.147191</td>\n      <td>1270.791601</td>\n      <td>0.100096</td>\n      <td>14.121306</td>\n      <td>22.856742</td>\n      <td>...</td>\n      <td>9862.795472</td>\n      <td>38.541010</td>\n      <td>5.902412</td>\n      <td>6.382358</td>\n      <td>0.998906</td>\n      <td>6.749549</td>\n      <td>18.064261</td>\n      <td>104.537660</td>\n      <td>71.692309</td>\n      <td>14.412769</td>\n    </tr>\n    <tr>\n      <th>min</th>\n      <td>0.000000</td>\n      <td>1.000000</td>\n      <td>1.000000</td>\n      <td>1.000000</td>\n      <td>1.000000</td>\n      <td>0.000000</td>\n      <td>0.000000</td>\n      <td>0.000000</td>\n      <td>0.000000</td>\n      <td>0.000000</td>\n      <td>...</td>\n      <td>0.000000</td>\n      <td>0.000000</td>\n      <td>0.000000</td>\n      <td>0.000000</td>\n      <td>0.000000</td>\n      <td>0.000000</td>\n      <td>0.000000</td>\n      <td>0.000000</td>\n      <td>0.000000</td>\n      <td>1.000000</td>\n    </tr>\n    <tr>\n      <th>25%</th>\n      <td>25440.500000</td>\n      <td>13.000000</td>\n      <td>2.000000</td>\n      <td>1.000000</td>\n      <td>1.000000</td>\n      <td>25.000000</td>\n      <td>97.670000</td>\n      <td>0.050000</td>\n      <td>5.600000</td>\n      <td>15.560000</td>\n      <td>...</td>\n      <td>31.380000</td>\n      <td>7.000000</td>\n      <td>0.000000</td>\n      <td>1.000000</td>\n      <td>0.000000</td>\n      <td>8.000000</td>\n      <td>7.000000</td>\n      <td>15.000000</td>\n      <td>10.000000</td>\n      <td>3.000000</td>\n    </tr>\n    <tr>\n      <th>50%</th>\n      <td>50881.000000</td>\n      <td>22.000000</td>\n      <td>3.000000</td>\n      <td>1.000000</td>\n      <td>2.000000</td>\n      <td>51.000000</td>\n      <td>232.790000</td>\n      <td>0.090000</td>\n      <td>9.820000</td>\n      <td>23.360000</td>\n      <td>...</td>\n      <td>125.400000</td>\n      <td>14.000000</td>\n      <td>0.000000</td>\n      <td>2.000000</td>\n      <td>0.000000</td>\n      <td>11.000000</td>\n      <td>12.000000</td>\n      <td>30.000000</td>\n      <td>20.000000</td>\n      <td>5.000000</td>\n    </tr>\n    <tr>\n      <th>75%</th>\n      <td>76321.500000</td>\n      <td>42.000000</td>\n      <td>6.000000</td>\n      <td>3.000000</td>\n      <td>4.000000</td>\n      <td>111.000000</td>\n      <td>560.250000</td>\n      <td>0.150000</td>\n      <td>18.000000</td>\n      <td>34.340000</td>\n      <td>...</td>\n      <td>565.920000</td>\n      <td>26.000000</td>\n      <td>1.000000</td>\n      <td>5.000000</td>\n      <td>0.000000</td>\n      <td>16.000000</td>\n      <td>20.000000</td>\n      <td>66.000000</td>\n      <td>45.000000</td>\n      <td>11.000000</td>\n    </tr>\n    <tr>\n      <th>max</th>\n      <td>101762.000000</td>\n      <td>3442.000000</td>\n      <td>404.000000</td>\n      <td>165.000000</td>\n      <td>402.000000</td>\n      <td>8441.000000</td>\n      <td>80843.080000</td>\n      <td>1.000000</td>\n      <td>418.200000</td>\n      <td>569.780000</td>\n      <td>...</td>\n      <td>935923.390000</td>\n      <td>2824.000000</td>\n      <td>344.000000</td>\n      <td>219.000000</td>\n      <td>43.000000</td>\n      <td>410.000000</td>\n      <td>1026.000000</td>\n      <td>5420.000000</td>\n      <td>3021.000000</td>\n      <td>503.000000</td>\n    </tr>\n  </tbody>\n</table>\n<p>8 rows × 22 columns</p>\n</div>"
     },
     "execution_count": 7,
     "metadata": {},
     "output_type": "execute_result"
    }
   ],
   "source": [
    "df.describe()"
   ],
   "metadata": {
    "collapsed": false,
    "ExecuteTime": {
     "end_time": "2023-10-03T19:17:04.527300Z",
     "start_time": "2023-10-03T19:17:04.440168Z"
    }
   },
   "id": "87fd7fc964b75a88"
  },
  {
   "cell_type": "code",
   "execution_count": 8,
   "outputs": [
    {
     "data": {
      "text/plain": "defects\nFalse    78699\nTrue     23064\nName: count, dtype: int64"
     },
     "execution_count": 8,
     "metadata": {},
     "output_type": "execute_result"
    }
   ],
   "source": [
    "df['defects'].value_counts()"
   ],
   "metadata": {
    "collapsed": false,
    "ExecuteTime": {
     "end_time": "2023-10-03T19:19:58.328202Z",
     "start_time": "2023-10-03T19:19:58.299538Z"
    }
   },
   "id": "c65ee27e5835c7b4"
  },
  {
   "cell_type": "code",
   "execution_count": 9,
   "outputs": [],
   "source": [
    "# normalizing column names\n",
    "df.columns = df.columns.str.lower().str.replace(' ', '_')\n",
    "\n",
    "# normalizing string values\n",
    "string_columns = list(df.dtypes[df.dtypes == 'object'].index)\n",
    "for col in string_columns:\n",
    "    df[col] = df[col].str.lower().str.replace(' ', '_')"
   ],
   "metadata": {
    "collapsed": false,
    "ExecuteTime": {
     "end_time": "2023-10-03T19:20:31.957362Z",
     "start_time": "2023-10-03T19:20:31.952219Z"
    }
   },
   "id": "7b3bed06b9e92070"
  },
  {
   "cell_type": "code",
   "execution_count": 11,
   "outputs": [
    {
     "data": {
      "text/plain": "   id   loc  v(g)  ev(g)  iv(g)     n       v     l      d      i  ...  \\\n0   0  22.0   3.0    1.0    2.0  60.0  278.63  0.06  19.56  14.25  ...   \n1   1  14.0   2.0    1.0    2.0  32.0  151.27  0.14   7.00  21.11  ...   \n2   2  11.0   2.0    1.0    2.0  45.0  197.65  0.11   8.05  22.76  ...   \n3   3   8.0   1.0    1.0    1.0  23.0   94.01  0.19   5.25  17.86  ...   \n4   4  11.0   2.0    1.0    2.0  17.0   60.94  0.18   5.63  12.44  ...   \n\n   locode  locomment  loblank  loccodeandcomment  uniq_op  uniq_opnd  \\\n0      17          1        1                  0     16.0        9.0   \n1      11          0        1                  0     11.0       11.0   \n2       8          0        1                  0     12.0       11.0   \n3       4          0        2                  0      8.0        6.0   \n4       7          0        2                  0      7.0        6.0   \n\n   total_op  total_opnd  branchcount  defects  \n0      38.0        22.0          5.0    False  \n1      18.0        14.0          3.0    False  \n2      28.0        17.0          3.0    False  \n3      16.0         7.0          1.0     True  \n4      10.0        10.0          3.0    False  \n\n[5 rows x 23 columns]",
      "text/html": "<div>\n<style scoped>\n    .dataframe tbody tr th:only-of-type {\n        vertical-align: middle;\n    }\n\n    .dataframe tbody tr th {\n        vertical-align: top;\n    }\n\n    .dataframe thead th {\n        text-align: right;\n    }\n</style>\n<table border=\"1\" class=\"dataframe\">\n  <thead>\n    <tr style=\"text-align: right;\">\n      <th></th>\n      <th>id</th>\n      <th>loc</th>\n      <th>v(g)</th>\n      <th>ev(g)</th>\n      <th>iv(g)</th>\n      <th>n</th>\n      <th>v</th>\n      <th>l</th>\n      <th>d</th>\n      <th>i</th>\n      <th>...</th>\n      <th>locode</th>\n      <th>locomment</th>\n      <th>loblank</th>\n      <th>loccodeandcomment</th>\n      <th>uniq_op</th>\n      <th>uniq_opnd</th>\n      <th>total_op</th>\n      <th>total_opnd</th>\n      <th>branchcount</th>\n      <th>defects</th>\n    </tr>\n  </thead>\n  <tbody>\n    <tr>\n      <th>0</th>\n      <td>0</td>\n      <td>22.0</td>\n      <td>3.0</td>\n      <td>1.0</td>\n      <td>2.0</td>\n      <td>60.0</td>\n      <td>278.63</td>\n      <td>0.06</td>\n      <td>19.56</td>\n      <td>14.25</td>\n      <td>...</td>\n      <td>17</td>\n      <td>1</td>\n      <td>1</td>\n      <td>0</td>\n      <td>16.0</td>\n      <td>9.0</td>\n      <td>38.0</td>\n      <td>22.0</td>\n      <td>5.0</td>\n      <td>False</td>\n    </tr>\n    <tr>\n      <th>1</th>\n      <td>1</td>\n      <td>14.0</td>\n      <td>2.0</td>\n      <td>1.0</td>\n      <td>2.0</td>\n      <td>32.0</td>\n      <td>151.27</td>\n      <td>0.14</td>\n      <td>7.00</td>\n      <td>21.11</td>\n      <td>...</td>\n      <td>11</td>\n      <td>0</td>\n      <td>1</td>\n      <td>0</td>\n      <td>11.0</td>\n      <td>11.0</td>\n      <td>18.0</td>\n      <td>14.0</td>\n      <td>3.0</td>\n      <td>False</td>\n    </tr>\n    <tr>\n      <th>2</th>\n      <td>2</td>\n      <td>11.0</td>\n      <td>2.0</td>\n      <td>1.0</td>\n      <td>2.0</td>\n      <td>45.0</td>\n      <td>197.65</td>\n      <td>0.11</td>\n      <td>8.05</td>\n      <td>22.76</td>\n      <td>...</td>\n      <td>8</td>\n      <td>0</td>\n      <td>1</td>\n      <td>0</td>\n      <td>12.0</td>\n      <td>11.0</td>\n      <td>28.0</td>\n      <td>17.0</td>\n      <td>3.0</td>\n      <td>False</td>\n    </tr>\n    <tr>\n      <th>3</th>\n      <td>3</td>\n      <td>8.0</td>\n      <td>1.0</td>\n      <td>1.0</td>\n      <td>1.0</td>\n      <td>23.0</td>\n      <td>94.01</td>\n      <td>0.19</td>\n      <td>5.25</td>\n      <td>17.86</td>\n      <td>...</td>\n      <td>4</td>\n      <td>0</td>\n      <td>2</td>\n      <td>0</td>\n      <td>8.0</td>\n      <td>6.0</td>\n      <td>16.0</td>\n      <td>7.0</td>\n      <td>1.0</td>\n      <td>True</td>\n    </tr>\n    <tr>\n      <th>4</th>\n      <td>4</td>\n      <td>11.0</td>\n      <td>2.0</td>\n      <td>1.0</td>\n      <td>2.0</td>\n      <td>17.0</td>\n      <td>60.94</td>\n      <td>0.18</td>\n      <td>5.63</td>\n      <td>12.44</td>\n      <td>...</td>\n      <td>7</td>\n      <td>0</td>\n      <td>2</td>\n      <td>0</td>\n      <td>7.0</td>\n      <td>6.0</td>\n      <td>10.0</td>\n      <td>10.0</td>\n      <td>3.0</td>\n      <td>False</td>\n    </tr>\n  </tbody>\n</table>\n<p>5 rows × 23 columns</p>\n</div>"
     },
     "execution_count": 11,
     "metadata": {},
     "output_type": "execute_result"
    }
   ],
   "source": [
    "df.head()"
   ],
   "metadata": {
    "collapsed": false,
    "ExecuteTime": {
     "end_time": "2023-10-03T19:20:47.498798Z",
     "start_time": "2023-10-03T19:20:47.491093Z"
    }
   },
   "id": "a8a985407466e7fb"
  },
  {
   "cell_type": "code",
   "execution_count": 12,
   "outputs": [
    {
     "data": {
      "text/plain": "id                     int64\nloc                  float64\nv(g)                 float64\nev(g)                float64\niv(g)                float64\nn                    float64\nv                    float64\nl                    float64\nd                    float64\ni                    float64\ne                    float64\nb                    float64\nt                    float64\nlocode                 int64\nlocomment              int64\nloblank                int64\nloccodeandcomment      int64\nuniq_op              float64\nuniq_opnd            float64\ntotal_op             float64\ntotal_opnd           float64\nbranchcount          float64\ndefects                 bool\ndtype: object"
     },
     "execution_count": 12,
     "metadata": {},
     "output_type": "execute_result"
    }
   ],
   "source": [
    "df.dtypes"
   ],
   "metadata": {
    "collapsed": false,
    "ExecuteTime": {
     "end_time": "2023-10-03T19:29:29.789473Z",
     "start_time": "2023-10-03T19:29:29.756087Z"
    }
   },
   "id": "e1f20286fe4af9f5"
  },
  {
   "cell_type": "code",
   "execution_count": 13,
   "outputs": [
    {
     "data": {
      "text/plain": "id                   101763\nloc                     378\nv(g)                    106\nev(g)                    71\niv(g)                    84\nn                       836\nv                      4515\nl                        55\nd                      3360\ni                      5171\ne                      8729\nb                       315\nt                      8608\nlocode                  298\nlocomment                91\nloblank                  94\nloccodeandcomment        29\nuniq_op                  70\nuniq_opnd               176\ntotal_op                623\ntotal_opnd              485\nbranchcount             144\ndefects                   2\ndtype: int64"
     },
     "execution_count": 13,
     "metadata": {},
     "output_type": "execute_result"
    }
   ],
   "source": [
    "df.nunique()"
   ],
   "metadata": {
    "collapsed": false,
    "ExecuteTime": {
     "end_time": "2023-10-03T19:29:57.219736Z",
     "start_time": "2023-10-03T19:29:57.197818Z"
    }
   },
   "id": "a0df8cf50e58b6b1"
  },
  {
   "cell_type": "code",
   "execution_count": 16,
   "outputs": [
    {
     "data": {
      "text/plain": "defects              1.000000\nloc                  0.342642\nbranchcount          0.322827\nv(g)                 0.301187\nev(g)                0.259928\nn                    0.258080\nloblank              0.257819\ntotal_opnd           0.252752\nlocode               0.250604\ntotal_op             0.250533\nuniq_opnd            0.246113\niv(g)                0.245618\nd                    0.241936\nb                    0.232594\nv                    0.231179\ni                    0.208577\nlocomment            0.205402\nuniq_op              0.178474\nloccodeandcomment    0.133150\nt                    0.099592\ne                    0.095366\nid                   0.001976\nl                   -0.253237\ndtype: float64"
     },
     "execution_count": 16,
     "metadata": {},
     "output_type": "execute_result"
    }
   ],
   "source": [
    "df.corrwith(df.defects).sort_values(ascending=False)"
   ],
   "metadata": {
    "collapsed": false,
    "ExecuteTime": {
     "end_time": "2023-10-03T19:31:07.720794Z",
     "start_time": "2023-10-03T19:31:07.693016Z"
    }
   },
   "id": "f4c7445759a952b9"
  },
  {
   "cell_type": "code",
   "execution_count": null,
   "outputs": [],
   "source": [],
   "metadata": {
    "collapsed": false
   },
   "id": "3259430bbd57b7f0"
  }
 ],
 "metadata": {
  "kernelspec": {
   "display_name": "Python 3",
   "language": "python",
   "name": "python3"
  },
  "language_info": {
   "codemirror_mode": {
    "name": "ipython",
    "version": 2
   },
   "file_extension": ".py",
   "mimetype": "text/x-python",
   "name": "python",
   "nbconvert_exporter": "python",
   "pygments_lexer": "ipython2",
   "version": "2.7.6"
  }
 },
 "nbformat": 4,
 "nbformat_minor": 5
}
