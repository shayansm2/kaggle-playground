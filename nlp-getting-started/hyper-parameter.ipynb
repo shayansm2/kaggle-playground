{
 "cells": [
  {
   "cell_type": "markdown",
   "source": [
    "### Logistic regression parameters\n",
    "- `C`: inverse of the regularization strength\n",
    "- `solver`\n",
    "- `max_iter`"
   ],
   "metadata": {
    "collapsed": false
   },
   "id": "b08298312d1efd5e"
  },
  {
   "cell_type": "code",
   "execution_count": null,
   "outputs": [],
   "source": [
    "from sklearn.linear_model import LogisticRegression\n",
    "\n",
    "LogisticRegression()"
   ],
   "metadata": {
    "collapsed": false
   },
   "id": "initial_id"
  },
  {
   "cell_type": "markdown",
   "source": [
    "the important hyperparameters to tune for `sklearn.tree.DecisionTreeClassifier` include:\n",
    "1. `max_depth`\n",
    "2. `max_leaf_nodes`"
   ],
   "metadata": {
    "collapsed": false
   },
   "id": "b3d7a2e0e9db4654"
  },
  {
   "cell_type": "markdown",
   "source": [
    "the important hyperparameters to tune for `sklearn.ensemble.RandomForestClassifier` include:\n",
    "1. `n_estimators`\n",
    "2. `max_depth`\n",
    "3. `max_leaf_nodes`"
   ],
   "metadata": {
    "collapsed": false
   },
   "id": "56de6ca50d17fefa"
  },
  {
   "cell_type": "markdown",
   "source": [
    "the important hyperparameters to tune for `sklearn.ensemble.GradientBoostingClassifier` include:\n",
    "1. `max_iter`\n",
    "2. `learning_rate`\n",
    "3. `max_depth`"
   ],
   "metadata": {
    "collapsed": false
   },
   "id": "72de1c2b19a3f0cb"
  },
  {
   "cell_type": "markdown",
   "source": [
    "the important hyperparameters to tune for `xgboost` include:\n",
    "1. `num_boost_round`\n",
    "2. `eta`: Learning rate\n",
    "3. `max_depth`\n",
    "4. `min_child_weight`"
   ],
   "metadata": {
    "collapsed": false
   },
   "id": "a9a8612d76421868"
  },
  {
   "cell_type": "code",
   "execution_count": null,
   "outputs": [],
   "source": [],
   "metadata": {
    "collapsed": false
   },
   "id": "a5045e6fa5e320a5"
  }
 ],
 "metadata": {
  "kernelspec": {
   "display_name": "Python 3",
   "language": "python",
   "name": "python3"
  },
  "language_info": {
   "codemirror_mode": {
    "name": "ipython",
    "version": 2
   },
   "file_extension": ".py",
   "mimetype": "text/x-python",
   "name": "python",
   "nbconvert_exporter": "python",
   "pygments_lexer": "ipython2",
   "version": "2.7.6"
  }
 },
 "nbformat": 4,
 "nbformat_minor": 5
}
