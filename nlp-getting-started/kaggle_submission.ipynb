{
 "cells": [
  {
   "cell_type": "code",
   "execution_count": 1,
   "outputs": [],
   "source": [
    "import re\n",
    "import string\n",
    "from abc import ABC\n",
    "\n",
    "from nltk.corpus import stopwords\n",
    "\n",
    "import numpy as np\n",
    "import pandas as pd\n",
    "\n",
    "from matplotlib import pyplot as plt\n",
    "import seaborn as sns\n",
    "%matplotlib inline"
   ],
   "metadata": {
    "collapsed": false,
    "ExecuteTime": {
     "end_time": "2023-12-01T13:05:53.776626Z",
     "start_time": "2023-12-01T13:05:53.350376Z"
    }
   },
   "id": "eedab4f5469f6133"
  },
  {
   "cell_type": "code",
   "execution_count": 2,
   "outputs": [],
   "source": [
    "from workflow import TrainValidationWorkflow\n",
    "from models import LogisticRegressionModel\n",
    "from input_providers import InputProvider5"
   ],
   "metadata": {
    "collapsed": false,
    "ExecuteTime": {
     "end_time": "2023-12-01T13:06:28.407162Z",
     "start_time": "2023-12-01T13:06:28.189735Z"
    }
   },
   "id": "c02b8d06ffa25cd6"
  },
  {
   "cell_type": "code",
   "execution_count": 11,
   "outputs": [],
   "source": [
    "df_train = pd.read_csv('./data/train.csv')\n",
    "df_test = pd.read_csv('./data/test.csv')"
   ],
   "metadata": {
    "collapsed": false,
    "ExecuteTime": {
     "end_time": "2023-12-01T13:10:48.421487Z",
     "start_time": "2023-12-01T13:10:48.400744Z"
    }
   },
   "id": "ba6676928b9d706c"
  },
  {
   "cell_type": "code",
   "execution_count": 12,
   "outputs": [],
   "source": [
    "flow = TrainValidationWorkflow(\n",
    "    model=LogisticRegressionModel(C=0.1, solver='liblinear'),\n",
    "    input_provider=InputProvider5(),\n",
    "    df_train=df_train\n",
    ")\n",
    "\n",
    "final_model, input_provider = flow.get_model_and_input_provider()"
   ],
   "metadata": {
    "collapsed": false,
    "ExecuteTime": {
     "end_time": "2023-12-01T13:10:53.327163Z",
     "start_time": "2023-12-01T13:10:48.704096Z"
    }
   },
   "id": "initial_id"
  },
  {
   "cell_type": "code",
   "execution_count": 16,
   "outputs": [],
   "source": [
    "x_validation = input_provider.get_input(df_test)\n",
    "result = final_model.predict(x_validation)"
   ],
   "metadata": {
    "collapsed": false,
    "ExecuteTime": {
     "end_time": "2023-12-01T13:11:50.469222Z",
     "start_time": "2023-12-01T13:11:48.516403Z"
    }
   },
   "id": "b8db291468427ba3"
  },
  {
   "cell_type": "code",
   "execution_count": 28,
   "outputs": [],
   "source": [
    "pd.concat([df_test, pd.Series(result, name='target')], axis=1)[['id', 'target']].to_csv('./data/submission.csv', index=False)"
   ],
   "metadata": {
    "collapsed": false,
    "ExecuteTime": {
     "end_time": "2023-12-01T13:17:32.172747Z",
     "start_time": "2023-12-01T13:17:32.165438Z"
    }
   },
   "id": "9a86828e4d48a142"
  },
  {
   "cell_type": "code",
   "execution_count": null,
   "outputs": [],
   "source": [],
   "metadata": {
    "collapsed": false
   },
   "id": "99aecbe1c722c434"
  }
 ],
 "metadata": {
  "kernelspec": {
   "display_name": "Python 3",
   "language": "python",
   "name": "python3"
  },
  "language_info": {
   "codemirror_mode": {
    "name": "ipython",
    "version": 2
   },
   "file_extension": ".py",
   "mimetype": "text/x-python",
   "name": "python",
   "nbconvert_exporter": "python",
   "pygments_lexer": "ipython2",
   "version": "2.7.6"
  }
 },
 "nbformat": 4,
 "nbformat_minor": 5
}
