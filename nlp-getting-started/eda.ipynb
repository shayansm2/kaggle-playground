{
 "cells": [
  {
   "cell_type": "markdown",
   "source": [
    "# Exploratory data analysis"
   ],
   "metadata": {
    "collapsed": false
   },
   "id": "f5bbd902ef9b1d0"
  },
  {
   "cell_type": "markdown",
   "source": [
    "## importing necessary libraries for EDA"
   ],
   "metadata": {
    "collapsed": false
   },
   "id": "e5c4c3a84807f620"
  },
  {
   "cell_type": "code",
   "execution_count": 1,
   "outputs": [],
   "source": [
    "import re\n",
    "import string\n",
    "from nltk.corpus import stopwords\n",
    "\n",
    "from collections import Counter"
   ],
   "metadata": {
    "collapsed": false,
    "ExecuteTime": {
     "end_time": "2023-11-03T08:25:32.891339Z",
     "start_time": "2023-11-03T08:25:32.601674Z"
    }
   },
   "id": "5c4e4c05ad122c16"
  },
  {
   "cell_type": "markdown",
   "source": [
    "> if you get an error when importing stopwords, you should run these commands first\n",
    "\n",
    "`import nltk`\n",
    "`nltk.download('stopwords')` "
   ],
   "metadata": {
    "collapsed": false
   },
   "id": "e472dc2f16986e5f"
  },
  {
   "cell_type": "code",
   "execution_count": 2,
   "outputs": [],
   "source": [
    "import numpy as np\n",
    "import pandas as pd\n",
    "\n",
    "from matplotlib import pyplot as plt\n",
    "import seaborn as sns\n",
    "%matplotlib inline"
   ],
   "metadata": {
    "collapsed": false,
    "ExecuteTime": {
     "end_time": "2023-11-03T08:25:32.903797Z",
     "start_time": "2023-11-03T08:25:32.891507Z"
    }
   },
   "id": "initial_id"
  },
  {
   "cell_type": "markdown",
   "source": [
    "## checking the data"
   ],
   "metadata": {
    "collapsed": false
   },
   "id": "9e8258ee08dcba6a"
  },
  {
   "cell_type": "code",
   "execution_count": 3,
   "outputs": [
    {
     "data": {
      "text/plain": "   keyword location                                               text  target\nid                                                                            \n1      NaN      NaN  Our Deeds are the Reason of this #earthquake M...       1\n4      NaN      NaN             Forest fire near La Ronge Sask. Canada       1\n5      NaN      NaN  All residents asked to 'shelter in place' are ...       1\n6      NaN      NaN  13,000 people receive #wildfires evacuation or...       1\n7      NaN      NaN  Just got sent this photo from Ruby #Alaska as ...       1",
      "text/html": "<div>\n<style scoped>\n    .dataframe tbody tr th:only-of-type {\n        vertical-align: middle;\n    }\n\n    .dataframe tbody tr th {\n        vertical-align: top;\n    }\n\n    .dataframe thead th {\n        text-align: right;\n    }\n</style>\n<table border=\"1\" class=\"dataframe\">\n  <thead>\n    <tr style=\"text-align: right;\">\n      <th></th>\n      <th>keyword</th>\n      <th>location</th>\n      <th>text</th>\n      <th>target</th>\n    </tr>\n    <tr>\n      <th>id</th>\n      <th></th>\n      <th></th>\n      <th></th>\n      <th></th>\n    </tr>\n  </thead>\n  <tbody>\n    <tr>\n      <th>1</th>\n      <td>NaN</td>\n      <td>NaN</td>\n      <td>Our Deeds are the Reason of this #earthquake M...</td>\n      <td>1</td>\n    </tr>\n    <tr>\n      <th>4</th>\n      <td>NaN</td>\n      <td>NaN</td>\n      <td>Forest fire near La Ronge Sask. Canada</td>\n      <td>1</td>\n    </tr>\n    <tr>\n      <th>5</th>\n      <td>NaN</td>\n      <td>NaN</td>\n      <td>All residents asked to 'shelter in place' are ...</td>\n      <td>1</td>\n    </tr>\n    <tr>\n      <th>6</th>\n      <td>NaN</td>\n      <td>NaN</td>\n      <td>13,000 people receive #wildfires evacuation or...</td>\n      <td>1</td>\n    </tr>\n    <tr>\n      <th>7</th>\n      <td>NaN</td>\n      <td>NaN</td>\n      <td>Just got sent this photo from Ruby #Alaska as ...</td>\n      <td>1</td>\n    </tr>\n  </tbody>\n</table>\n</div>"
     },
     "execution_count": 3,
     "metadata": {},
     "output_type": "execute_result"
    }
   ],
   "source": [
    "df = pd.read_csv('data/train.csv', index_col='id')\n",
    "df.head()"
   ],
   "metadata": {
    "collapsed": false,
    "ExecuteTime": {
     "end_time": "2023-11-03T08:25:35.256538Z",
     "start_time": "2023-11-03T08:25:35.181659Z"
    }
   },
   "id": "bd6fd25654a7391e"
  },
  {
   "cell_type": "code",
   "execution_count": 4,
   "outputs": [
    {
     "data": {
      "text/plain": "keyword     0.008077\nlocation    0.498622\ntext        0.000000\ntarget      0.000000\ndtype: float64"
     },
     "execution_count": 4,
     "metadata": {},
     "output_type": "execute_result"
    }
   ],
   "source": [
    "df.isnull().sum() / df.count()"
   ],
   "metadata": {
    "collapsed": false,
    "ExecuteTime": {
     "end_time": "2023-11-03T08:25:37.557086Z",
     "start_time": "2023-11-03T08:25:37.550039Z"
    }
   },
   "id": "186ee1cb2a588b5b"
  },
  {
   "cell_type": "markdown",
   "source": [
    "location is 50% of the times empty.\n",
    "therefore, we may need to check the correlation between having a location with the target variable"
   ],
   "metadata": {
    "collapsed": false
   },
   "id": "7945d564aca6854c"
  },
  {
   "cell_type": "code",
   "execution_count": 5,
   "outputs": [
    {
     "name": "stdout",
     "output_type": "stream",
     "text": [
      "count of each label: target\n",
      "0    4342\n",
      "1    3271\n",
      "Name: count, dtype: int64\n",
      "percent of true label: 42.97 %\n"
     ]
    },
    {
     "data": {
      "text/plain": "<Axes: xlabel='target', ylabel='Count'>"
     },
     "execution_count": 5,
     "metadata": {},
     "output_type": "execute_result"
    },
    {
     "data": {
      "text/plain": "<Figure size 640x480 with 1 Axes>",
      "image/png": "[encoded data removed]"
     },
     "metadata": {},
     "output_type": "display_data"
    }
   ],
   "source": [
    "print('count of each label:', df['target'].value_counts())\n",
    "print('percent of true label:', round(len(df[df['target'] == 1]) / len(df['target']) * 100, 2), '%')\n",
    "sns.histplot(df.target)"
   ],
   "metadata": {
    "collapsed": false,
    "ExecuteTime": {
     "end_time": "2023-11-03T08:25:40.755454Z",
     "start_time": "2023-11-03T08:25:40.457171Z"
    }
   },
   "id": "1940266685116f22"
  },
  {
   "cell_type": "markdown",
   "source": [
    "about 43% of the labels are True and 57% are False\n",
    "So the data is balanced and has adequate amount of samples for both labels"
   ],
   "metadata": {
    "collapsed": false
   },
   "id": "4ed0e7a27fc730bb"
  },
  {
   "cell_type": "code",
   "execution_count": 8,
   "outputs": [
    {
     "data": {
      "text/plain": "221"
     },
     "execution_count": 8,
     "metadata": {},
     "output_type": "execute_result"
    }
   ],
   "source": [
    "len(df['keyword'].value_counts())"
   ],
   "metadata": {
    "collapsed": false,
    "ExecuteTime": {
     "end_time": "2023-11-03T08:26:34.463449Z",
     "start_time": "2023-11-03T08:26:34.447729Z"
    }
   },
   "id": "654f09ec1ec2ecd9"
  },
  {
   "cell_type": "code",
   "execution_count": 9,
   "outputs": [],
   "source": [
    "df['words_count'] = df.text.apply(len)"
   ],
   "metadata": {
    "collapsed": false,
    "ExecuteTime": {
     "end_time": "2023-11-03T08:26:38.262228Z",
     "start_time": "2023-11-03T08:26:38.246229Z"
    }
   },
   "id": "9945795d73499c53"
  },
  {
   "cell_type": "code",
   "execution_count": 10,
   "outputs": [
    {
     "data": {
      "text/plain": "Text(0.5, 0, 'words count')"
     },
     "execution_count": 10,
     "metadata": {},
     "output_type": "execute_result"
    },
    {
     "data": {
      "text/plain": "<Figure size 1200x800 with 1 Axes>",
      "image/png": "[encoded data removed]"
     },
     "metadata": {},
     "output_type": "display_data"
    }
   ],
   "source": [
    "plt.figure(figsize=(12, 8))\n",
    "\n",
    "df[df.target == 0].words_count.plot(kind='hist', color='green',\n",
    "                                    label='not Disaster', alpha=0.6)\n",
    "df[df.target == 1].words_count.plot(kind='hist', color='red',\n",
    "                                    label='Disaster', alpha=0.6)\n",
    "plt.legend()\n",
    "plt.xlabel(\"words count\")"
   ],
   "metadata": {
    "collapsed": false,
    "ExecuteTime": {
     "end_time": "2023-11-03T08:26:40.883544Z",
     "start_time": "2023-11-03T08:26:40.694117Z"
    }
   },
   "id": "2d53b5a5594b92d2"
  },
  {
   "cell_type": "markdown",
   "source": [
    "as you can see, the length of the text does not give an incisive distinction between emergency and non-emergency labels as they follow the similar distribution.\n",
    "we may need to look more into the text column:"
   ],
   "metadata": {
    "collapsed": false
   },
   "id": "3eb0bfd3d2a9c"
  },
  {
   "cell_type": "markdown",
   "source": [
    "## exploring the text column"
   ],
   "metadata": {
    "collapsed": false
   },
   "id": "9152eebab4c15ace"
  },
  {
   "cell_type": "code",
   "execution_count": 11,
   "outputs": [
    {
     "data": {
      "text/plain": "\"Our Deeds are the Reason of this #earthquake May ALLAH Forgive us all Forest fire near La Ronge Sask. Canada All residents asked to 'shelter in place' are being notified by officers. No other evacuation or shelter in place orders are expected 13,000 people receive #wildfires evacuation orders in California  Just got sent this photo from Ruby #Alaska as smoke from #wildfires pours into a school  #RockyFire Update => California Hwy. 20 closed in both directions due to Lake County fire - #CAfire #wildfires #flood #disaster Heavy rain causes flash flooding of streets in Manitou, Colorado Springs areas I'm on top of the hill and I can see a fire in the woods... There's an emergency evacuation happening now in the building across the street I'm afraid that the tornado is coming to our area... Three people died from the heat wave so far Haha South Tampa is getting flooded hah- WAIT A SECOND I LIVE IN SOUTH TAMPA WHAT AM I GONNA DO WHAT AM I GONNA DO FVCK #flooding #raining #flooding #Florida \""
     },
     "execution_count": 11,
     "metadata": {},
     "output_type": "execute_result"
    }
   ],
   "source": [
    "text = df['text'].str.cat(sep=' ')\n",
    "text[:1000]"
   ],
   "metadata": {
    "collapsed": false,
    "ExecuteTime": {
     "end_time": "2023-11-03T08:26:43.678347Z",
     "start_time": "2023-11-03T08:26:43.648618Z"
    }
   },
   "id": "32544da78bf89690"
  },
  {
   "cell_type": "code",
   "execution_count": 12,
   "outputs": [],
   "source": [
    "def get_words_count(words: str):\n",
    "    return Counter(words.split(' '))"
   ],
   "metadata": {
    "collapsed": false,
    "ExecuteTime": {
     "end_time": "2023-11-03T08:26:44.282996Z",
     "start_time": "2023-11-03T08:26:44.256427Z"
    }
   },
   "id": "587f8e0cc54173e"
  },
  {
   "cell_type": "code",
   "execution_count": 13,
   "outputs": [
    {
     "data": {
      "text/plain": "[('the', 2573),\n ('a', 1840),\n ('to', 1804),\n ('in', 1757),\n ('of', 1721),\n ('and', 1301),\n ('I', 1186),\n ('for', 820),\n ('is', 814),\n ('on', 773),\n ('', 770),\n ('-', 762),\n ('you', 631),\n ('my', 547),\n ('The', 541),\n ('with', 508),\n ('that', 491),\n ('at', 485),\n ('by', 467),\n ('it', 432)]"
     },
     "execution_count": 13,
     "metadata": {},
     "output_type": "execute_result"
    }
   ],
   "source": [
    "get_words_count(text).most_common(20)"
   ],
   "metadata": {
    "collapsed": false,
    "ExecuteTime": {
     "end_time": "2023-11-03T08:26:44.898699Z",
     "start_time": "2023-11-03T08:26:44.870190Z"
    }
   },
   "id": "6b9ebc12e81fca28"
  },
  {
   "cell_type": "markdown",
   "source": [
    "As you can see, there are words which are common in all texts and are not a good identification for using in the model for prediction.\n",
    "such as 'the', 'a', 'to', 'in', 'of', 'and', ...\n",
    "we can eliminate these words by stopwords from nltk.corpus package"
   ],
   "metadata": {
    "collapsed": false
   },
   "id": "215015be4f244d04"
  },
  {
   "cell_type": "code",
   "execution_count": 14,
   "outputs": [
    {
     "data": {
      "text/plain": "['i',\n 'me',\n 'my',\n 'myself',\n 'we',\n 'our',\n 'ours',\n 'ourselves',\n 'you',\n \"you're\",\n \"you've\",\n \"you'll\",\n \"you'd\",\n 'your',\n 'yours',\n 'yourself',\n 'yourselves',\n 'he',\n 'him',\n 'his']"
     },
     "execution_count": 14,
     "metadata": {},
     "output_type": "execute_result"
    }
   ],
   "source": [
    "stopwords.words('english')[:20]"
   ],
   "metadata": {
    "collapsed": false,
    "ExecuteTime": {
     "end_time": "2023-11-03T08:26:46.152973Z",
     "start_time": "2023-11-03T08:26:46.148632Z"
    }
   },
   "id": "25ff73baee0b0fd6"
  },
  {
   "cell_type": "markdown",
   "source": [
    "we also need to remove the punctuation from text in order to analyze it better"
   ],
   "metadata": {
    "collapsed": false
   },
   "id": "b22c4eef677f76b"
  },
  {
   "cell_type": "code",
   "execution_count": 15,
   "outputs": [
    {
     "data": {
      "text/plain": "'!\"#$%&\\'()*+,-./:;<=>?@[\\\\]^_`{|}~'"
     },
     "execution_count": 15,
     "metadata": {},
     "output_type": "execute_result"
    }
   ],
   "source": [
    "string.punctuation"
   ],
   "metadata": {
    "collapsed": false,
    "ExecuteTime": {
     "end_time": "2023-11-03T08:26:47.557663Z",
     "start_time": "2023-11-03T08:26:47.554923Z"
    }
   },
   "id": "a80272e20157ae02"
  },
  {
   "cell_type": "code",
   "execution_count": 16,
   "outputs": [],
   "source": [
    "def text_process(mess: str):\n",
    "    # Check characters to see if they are in punctuation\n",
    "    nopunc = [char for char in mess if char not in string.punctuation]\n",
    "\n",
    "    # Join the characters again to form the string.\n",
    "    nopunc = ''.join(nopunc)\n",
    "    nopunc = nopunc.lower().strip()\n",
    "\n",
    "    # Now just remove any stopwords\n",
    "    return ' '.join([word for word in nopunc.split() if word.lower() not in stopwords.words('english')])"
   ],
   "metadata": {
    "collapsed": false,
    "ExecuteTime": {
     "end_time": "2023-11-03T08:26:48.357160Z",
     "start_time": "2023-11-03T08:26:48.330136Z"
    }
   },
   "id": "e84ae3ac48384bdf"
  },
  {
   "cell_type": "code",
   "execution_count": 17,
   "outputs": [
    {
     "data": {
      "text/plain": "   keyword location                                               text  \\\nid                                                                       \n1      NaN      NaN  Our Deeds are the Reason of this #earthquake M...   \n4      NaN      NaN             Forest fire near La Ronge Sask. Canada   \n5      NaN      NaN  All residents asked to 'shelter in place' are ...   \n6      NaN      NaN  13,000 people receive #wildfires evacuation or...   \n7      NaN      NaN  Just got sent this photo from Ruby #Alaska as ...   \n\n    target  words_count                                         clean_text  \nid                                                                          \n1        1           69       deeds reason earthquake may allah forgive us  \n4        1           38              forest fire near la ronge sask canada  \n5        1          133  residents asked shelter place notified officer...  \n6        1           65  13000 people receive wildfires evacuation orde...  \n7        1           88  got sent photo ruby alaska smoke wildfires pou...  ",
      "text/html": "<div>\n<style scoped>\n    .dataframe tbody tr th:only-of-type {\n        vertical-align: middle;\n    }\n\n    .dataframe tbody tr th {\n        vertical-align: top;\n    }\n\n    .dataframe thead th {\n        text-align: right;\n    }\n</style>\n<table border=\"1\" class=\"dataframe\">\n  <thead>\n    <tr style=\"text-align: right;\">\n      <th></th>\n      <th>keyword</th>\n      <th>location</th>\n      <th>text</th>\n      <th>target</th>\n      <th>words_count</th>\n      <th>clean_text</th>\n    </tr>\n    <tr>\n      <th>id</th>\n      <th></th>\n      <th></th>\n      <th></th>\n      <th></th>\n      <th></th>\n      <th></th>\n    </tr>\n  </thead>\n  <tbody>\n    <tr>\n      <th>1</th>\n      <td>NaN</td>\n      <td>NaN</td>\n      <td>Our Deeds are the Reason of this #earthquake M...</td>\n      <td>1</td>\n      <td>69</td>\n      <td>deeds reason earthquake may allah forgive us</td>\n    </tr>\n    <tr>\n      <th>4</th>\n      <td>NaN</td>\n      <td>NaN</td>\n      <td>Forest fire near La Ronge Sask. Canada</td>\n      <td>1</td>\n      <td>38</td>\n      <td>forest fire near la ronge sask canada</td>\n    </tr>\n    <tr>\n      <th>5</th>\n      <td>NaN</td>\n      <td>NaN</td>\n      <td>All residents asked to 'shelter in place' are ...</td>\n      <td>1</td>\n      <td>133</td>\n      <td>residents asked shelter place notified officer...</td>\n    </tr>\n    <tr>\n      <th>6</th>\n      <td>NaN</td>\n      <td>NaN</td>\n      <td>13,000 people receive #wildfires evacuation or...</td>\n      <td>1</td>\n      <td>65</td>\n      <td>13000 people receive wildfires evacuation orde...</td>\n    </tr>\n    <tr>\n      <th>7</th>\n      <td>NaN</td>\n      <td>NaN</td>\n      <td>Just got sent this photo from Ruby #Alaska as ...</td>\n      <td>1</td>\n      <td>88</td>\n      <td>got sent photo ruby alaska smoke wildfires pou...</td>\n    </tr>\n  </tbody>\n</table>\n</div>"
     },
     "execution_count": 17,
     "metadata": {},
     "output_type": "execute_result"
    }
   ],
   "source": [
    "df['clean_text'] = df['text'].apply(text_process)\n",
    "df.head()"
   ],
   "metadata": {
    "collapsed": false,
    "ExecuteTime": {
     "end_time": "2023-11-03T08:26:53.325749Z",
     "start_time": "2023-11-03T08:26:48.854890Z"
    }
   },
   "id": "6b7b3b27b7611687"
  },
  {
   "cell_type": "code",
   "execution_count": 18,
   "outputs": [
    {
     "data": {
      "text/plain": "Text(0.5, 0, 'clean words count')"
     },
     "execution_count": 18,
     "metadata": {},
     "output_type": "execute_result"
    },
    {
     "data": {
      "text/plain": "<Figure size 1200x800 with 1 Axes>",
      "image/png": "[encoded data removed]"
     },
     "metadata": {},
     "output_type": "display_data"
    }
   ],
   "source": [
    "df['clean_words_count'] = df['clean_text'].apply(len)\n",
    "\n",
    "plt.figure(figsize=(12, 8))\n",
    "\n",
    "df[df.target == 0].clean_words_count.plot(kind='hist', color='green',\n",
    "                                          label='not Disaster', alpha=0.6)\n",
    "df[df.target == 1].clean_words_count.plot(kind='hist', color='red',\n",
    "                                          label='Disaster', alpha=0.6)\n",
    "plt.legend()\n",
    "plt.xlabel(\"clean words count\")"
   ],
   "metadata": {
    "collapsed": false,
    "ExecuteTime": {
     "end_time": "2023-11-03T08:26:53.521733Z",
     "start_time": "2023-11-03T08:26:53.335414Z"
    }
   },
   "id": "b922183a3632eadc"
  },
  {
   "cell_type": "markdown",
   "source": [
    "like before, both groups are following the same distribution. However, it seems that now disaster samples have skewness to the right compared to non-disaster samples."
   ],
   "metadata": {
    "collapsed": false
   },
   "id": "bb691e63dee030d3"
  },
  {
   "cell_type": "code",
   "execution_count": 19,
   "outputs": [
    {
     "data": {
      "text/plain": "'deeds reason earthquake may allah forgive us forest fire near la ronge sask canada residents asked shelter place notified officers evacuation shelter place orders expected 13000 people receive wildfires evacuation orders california got sent photo ruby alaska smoke wildfires pours school rockyfire update california hwy 20 closed directions due lake county fire cafire wildfires flood disaster heavy rain causes flash flooding streets manitou colorado springs areas im top hill see fire woods theres emergency evacuation happening building across street im afraid tornado coming area three people died heat wave far haha south tampa getting flooded hah wait second live south tampa gonna gonna fvck flooding raining flooding florida tampabay tampa 18 19 days ive lost count flood bago myanmar arrived bago damage school bus 80 multi car crash breaking whats man love fruits summer lovely car fast goooooooaaaaaal ridiculous london cool love skiing wonderful day looooool wayi cant eat shit nyc last w'"
     },
     "execution_count": 19,
     "metadata": {},
     "output_type": "execute_result"
    }
   ],
   "source": [
    "clean_text = df['clean_text'].str.cat(sep=' ')\n",
    "clean_text[:1000]"
   ],
   "metadata": {
    "collapsed": false,
    "ExecuteTime": {
     "end_time": "2023-11-03T08:26:53.522417Z",
     "start_time": "2023-11-03T08:26:53.465291Z"
    }
   },
   "id": "e7b0ef713c98ad5b"
  },
  {
   "cell_type": "code",
   "execution_count": 20,
   "outputs": [
    {
     "data": {
      "text/plain": "[('like', 345),\n ('im', 299),\n ('amp', 298),\n ('fire', 250),\n ('get', 229),\n ('new', 224),\n ('via', 220),\n ('people', 196),\n ('one', 193),\n ('news', 193),\n ('dont', 191),\n ('video', 165),\n ('us', 164),\n ('2', 159),\n ('emergency', 157),\n ('disaster', 152),\n ('police', 140),\n ('would', 131),\n ('still', 129),\n ('body', 124)]"
     },
     "execution_count": 20,
     "metadata": {},
     "output_type": "execute_result"
    }
   ],
   "source": [
    "get_words_count(clean_text).most_common(20)"
   ],
   "metadata": {
    "collapsed": false,
    "ExecuteTime": {
     "end_time": "2023-11-03T08:26:53.523280Z",
     "start_time": "2023-11-03T08:26:53.478631Z"
    }
   },
   "id": "7b5df65bca2c8bb7"
  },
  {
   "cell_type": "markdown",
   "source": [
    "now these words seem more likely to have correlation with the target label.\n",
    "let's try and calculate that"
   ],
   "metadata": {
    "collapsed": false
   },
   "id": "a32d1cee1b7963ee"
  },
  {
   "cell_type": "code",
   "execution_count": 21,
   "outputs": [
    {
     "name": "stdout",
     "output_type": "stream",
     "text": [
      "\"fire\" has repeated 250 times with mutual info score score of 0.012\n",
      "\"news\" has repeated 193 times with mutual info score score of 0.008\n",
      "\"california\" has repeated 117 times with mutual info score score of 0.01\n",
      "\"storm\" has repeated 117 times with mutual info score score of 0.006\n",
      "\"suicide\" has repeated 116 times with mutual info score score of 0.009\n",
      "\"bomb\" has repeated 103 times with mutual info score score of 0.01\n",
      "\"fires\" has repeated 100 times with mutual info score score of 0.006\n",
      "\"killed\" has repeated 96 times with mutual info score score of 0.008\n",
      "\"hiroshima\" has repeated 87 times with mutual info score score of 0.009\n",
      "\"wildfire\" has repeated 72 times with mutual info score score of 0.007\n",
      "\"mh370\" has repeated 71 times with mutual info score score of 0.008\n",
      "\"bombing\" has repeated 68 times with mutual info score score of 0.007\n",
      "\"northern\" has repeated 64 times with mutual info score score of 0.007\n",
      "\"bomber\" has repeated 61 times with mutual info score score of 0.006\n",
      "\"malaysia\" has repeated 50 times with mutual info score score of 0.006\n",
      "\"wild\" has repeated 46 times with mutual info score score of 0.006\n",
      "\"typhoon\" has repeated 32 times with mutual info score score of 0.006\n",
      "\"kill\" has repeated 31 times with mutual info score score of 0.008\n",
      "\"north\" has repeated 27 times with mutual info score score of 0.008\n",
      "--------------------------------------------------------------------------\n",
      "19 words were found with high frequency and high mutual info score\n"
     ]
    }
   ],
   "source": [
    "from sklearn.metrics import mutual_info_score\n",
    "\n",
    "frequency_threshold = 20\n",
    "mutual_info_threshold = 0.005\n",
    "counter = 0\n",
    "\n",
    "for word, frequency in get_words_count(clean_text).most_common():\n",
    "    if frequency < frequency_threshold:\n",
    "        break\n",
    "        \n",
    "    if word.isnumeric():\n",
    "        continue\n",
    "\n",
    "    mi = mutual_info_score(df['target'], df['clean_text'].str.contains(re.escape(word)))\n",
    "    mi = round(mi, 3)\n",
    "    if mi > mutual_info_threshold:\n",
    "        print(f'\"{word}\" has repeated {frequency} times with mutual info score score of {mi}')\n",
    "        counter += 1\n",
    "\n",
    "print('--------------------------------------------------------------------------')\n",
    "print(f'{counter} words were found with high frequency and high mutual info score')"
   ],
   "metadata": {
    "collapsed": false,
    "ExecuteTime": {
     "end_time": "2023-11-03T08:26:55.374126Z",
     "start_time": "2023-11-03T08:26:53.495780Z"
    }
   },
   "id": "a4b377251a07ceff"
  },
  {
   "cell_type": "markdown",
   "source": [
    "interesting words such as fire, news, storm, suicide and bomb came up from this analysis which has high frequency and high mutual information score"
   ],
   "metadata": {
    "collapsed": false
   },
   "id": "b1d121e8f3e45c12"
  },
  {
   "cell_type": "code",
   "execution_count": null,
   "outputs": [],
   "source": [],
   "metadata": {
    "collapsed": false
   },
   "id": "7bebb28294a83358"
  }
 ],
 "metadata": {
  "kernelspec": {
   "display_name": "Python 3",
   "language": "python",
   "name": "python3"
  },
  "language_info": {
   "codemirror_mode": {
    "name": "ipython",
    "version": 2
   },
   "file_extension": ".py",
   "mimetype": "text/x-python",
   "name": "python",
   "nbconvert_exporter": "python",
   "pygments_lexer": "ipython2",
   "version": "2.7.6"
  }
 },
 "nbformat": 4,
 "nbformat_minor": 5
}
